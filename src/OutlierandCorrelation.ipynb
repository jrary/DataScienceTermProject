{
 "cells": [
  {
   "cell_type": "code",
   "execution_count": 70,
   "metadata": {
    "collapsed": true
   },
   "outputs": [],
   "source": [
    "import pandas as pd\n",
    "import numpy as np\n",
    "import matplotlib.pyplot as plt\n",
    "import seaborn as sns"
   ]
  },
  {
   "cell_type": "code",
   "execution_count": 71,
   "metadata": {
    "collapsed": false
   },
   "outputs": [],
   "source": [
    "df_columns = ['rainfall_min', 'rainfall_max', 'rainfall_mean', 'rainfall_median', 'rainfall_std']"
   ]
  },
  {
   "cell_type": "code",
   "execution_count": 72,
   "metadata": {
    "collapsed": false
   },
   "outputs": [],
   "source": [
    "def outlier(col):\n",
    "    plt.figure()\n",
    "    ax = plt.gca()\n",
    "    ax.boxplot(col)\n",
    "    ax.set_ylabel('Value')\n",
    "\n",
    "def detect_outliers(data):\n",
    "    # 1분위수, 3분위수, IQR 계산\n",
    "    q1 = np.percentile(data, 25)\n",
    "    q3 = np.percentile(data, 75)\n",
    "    iqr = q3 - q1\n",
    "\n",
    "    # 이상치 경계 설정\n",
    "    lower_bound = q1 - 1.5 * iqr\n",
    "    upper_bound = q3 + 1.5 * iqr\n",
    "\n",
    "    # 이상치 식별\n",
    "    outliers = (data < lower_bound) | (data > upper_bound)\n",
    "\n",
    "    return outliers"
   ]
  },
  {
   "cell_type": "code",
   "execution_count": 73,
   "metadata": {
    "collapsed": false
   },
   "outputs": [],
   "source": [
    "df_visitor = pd.read_csv(\"assets/output/visitors.csv\")"
   ]
  },
  {
   "cell_type": "code",
   "execution_count": 74,
   "metadata": {
    "collapsed": false
   },
   "outputs": [],
   "source": [
    "df_visitor['visitor'] = df_visitor['visitor'].str.replace(',', '')"
   ]
  },
  {
   "cell_type": "code",
   "execution_count": 75,
   "metadata": {
    "collapsed": false
   },
   "outputs": [],
   "source": [
    "df_visitor['visitor'] = df_visitor['visitor'].astype(int)"
   ]
  },
  {
   "cell_type": "code",
   "execution_count": 76,
   "metadata": {
    "collapsed": false
   },
   "outputs": [
    {
     "data": {
      "text/plain": "<Figure size 432x288 with 1 Axes>",
      "image/png": "[encoded data removed]"
     },
     "metadata": {},
     "output_type": "display_data"
    }
   ],
   "source": [
    "outlier(df_visitor['visitor'])"
   ]
  },
  {
   "cell_type": "code",
   "execution_count": 77,
   "metadata": {
    "collapsed": false
   },
   "outputs": [
    {
     "data": {
      "text/plain": "             visitor\ncount    3951.000000\nmean     9122.186029\nstd     11653.034037\nmin         2.000000\n25%      1840.000000\n50%      4619.000000\n75%     11280.500000\nmax    115002.000000",
      "text/html": "<div>\n<style scoped>\n    .dataframe tbody tr th:only-of-type {\n        vertical-align: middle;\n    }\n\n    .dataframe tbody tr th {\n        vertical-align: top;\n    }\n\n    .dataframe thead th {\n        text-align: right;\n    }\n</style>\n<table border=\"1\" class=\"dataframe\">\n  <thead>\n    <tr style=\"text-align: right;\">\n      <th></th>\n      <th>visitor</th>\n    </tr>\n  </thead>\n  <tbody>\n    <tr>\n      <th>count</th>\n      <td>3951.000000</td>\n    </tr>\n    <tr>\n      <th>mean</th>\n      <td>9122.186029</td>\n    </tr>\n    <tr>\n      <th>std</th>\n      <td>11653.034037</td>\n    </tr>\n    <tr>\n      <th>min</th>\n      <td>2.000000</td>\n    </tr>\n    <tr>\n      <th>25%</th>\n      <td>1840.000000</td>\n    </tr>\n    <tr>\n      <th>50%</th>\n      <td>4619.000000</td>\n    </tr>\n    <tr>\n      <th>75%</th>\n      <td>11280.500000</td>\n    </tr>\n    <tr>\n      <th>max</th>\n      <td>115002.000000</td>\n    </tr>\n  </tbody>\n</table>\n</div>"
     },
     "execution_count": 77,
     "metadata": {},
     "output_type": "execute_result"
    }
   ],
   "source": [
    "df_visitor.describe()"
   ]
  },
  {
   "cell_type": "code",
   "execution_count": 78,
   "metadata": {
    "collapsed": false
   },
   "outputs": [
    {
     "name": "stdout",
     "output_type": "stream",
     "text": [
      "q1: 1840.0 q3: 11280.5\n"
     ]
    }
   ],
   "source": [
    "q1 = np.percentile(df_visitor['visitor'], 25)\n",
    "q3 = np.percentile(df_visitor['visitor'], 75)\n",
    "print(\"q1: {} q3: {}\".format(q1, q3))"
   ]
  },
  {
   "cell_type": "code",
   "execution_count": 79,
   "metadata": {
    "collapsed": false
   },
   "outputs": [],
   "source": [
    "outliers = detect_outliers(df_visitor['visitor'])"
   ]
  },
  {
   "cell_type": "code",
   "execution_count": 80,
   "metadata": {
    "collapsed": false
   },
   "outputs": [],
   "source": [
    "non_outliers = df_visitor[~outliers]"
   ]
  },
  {
   "cell_type": "code",
   "execution_count": 81,
   "metadata": {
    "collapsed": false
   },
   "outputs": [
    {
     "data": {
      "text/plain": "0       11483\n1       14012\n5        8374\n6       13540\n7       13507\n        ...  \n3946     2236\n3947      925\n3948      757\n3949     2013\n3950      628\nName: visitor, Length: 3586, dtype: int32"
     },
     "execution_count": 81,
     "metadata": {},
     "output_type": "execute_result"
    }
   ],
   "source": [
    "non_outliers['visitor']"
   ]
  },
  {
   "cell_type": "code",
   "execution_count": 82,
   "metadata": {
    "collapsed": false
   },
   "outputs": [
    {
     "data": {
      "text/plain": "<Figure size 432x288 with 1 Axes>",
      "image/png": "[encoded data removed]"
     },
     "metadata": {},
     "output_type": "display_data"
    }
   ],
   "source": [
    "outlier(non_outliers['visitor'])"
   ]
  },
  {
   "cell_type": "code",
   "execution_count": 83,
   "metadata": {
    "collapsed": false
   },
   "outputs": [
    {
     "data": {
      "text/plain": "            visitor\ncount   3586.000000\nmean    6098.088399\nstd     5901.432713\nmin        2.000000\n25%     1692.250000\n50%     3909.000000\n75%     8441.000000\nmax    25286.000000",
      "text/html": "<div>\n<style scoped>\n    .dataframe tbody tr th:only-of-type {\n        vertical-align: middle;\n    }\n\n    .dataframe tbody tr th {\n        vertical-align: top;\n    }\n\n    .dataframe thead th {\n        text-align: right;\n    }\n</style>\n<table border=\"1\" class=\"dataframe\">\n  <thead>\n    <tr style=\"text-align: right;\">\n      <th></th>\n      <th>visitor</th>\n    </tr>\n  </thead>\n  <tbody>\n    <tr>\n      <th>count</th>\n      <td>3586.000000</td>\n    </tr>\n    <tr>\n      <th>mean</th>\n      <td>6098.088399</td>\n    </tr>\n    <tr>\n      <th>std</th>\n      <td>5901.432713</td>\n    </tr>\n    <tr>\n      <th>min</th>\n      <td>2.000000</td>\n    </tr>\n    <tr>\n      <th>25%</th>\n      <td>1692.250000</td>\n    </tr>\n    <tr>\n      <th>50%</th>\n      <td>3909.000000</td>\n    </tr>\n    <tr>\n      <th>75%</th>\n      <td>8441.000000</td>\n    </tr>\n    <tr>\n      <th>max</th>\n      <td>25286.000000</td>\n    </tr>\n  </tbody>\n</table>\n</div>"
     },
     "execution_count": 83,
     "metadata": {},
     "output_type": "execute_result"
    }
   ],
   "source": [
    "non_outliers.describe()"
   ]
  },
  {
   "cell_type": "code",
   "execution_count": 84,
   "metadata": {
    "collapsed": false
   },
   "outputs": [
    {
     "name": "stdout",
     "output_type": "stream",
     "text": [
      "q1: 1692.25 q3: 8441.0\n"
     ]
    }
   ],
   "source": [
    "q1 = np.percentile(non_outliers['visitor'], 25)\n",
    "q3 = np.percentile(non_outliers['visitor'], 75)\n",
    "print(\"q1: {} q3: {}\".format(q1, q3))"
   ]
  },
  {
   "cell_type": "code",
   "execution_count": 85,
   "metadata": {
    "collapsed": false
   },
   "outputs": [],
   "source": [
    "df = pd.read_csv('assets/output/preprocessedDataset.csv')"
   ]
  },
  {
   "cell_type": "code",
   "execution_count": 86,
   "metadata": {
    "collapsed": false
   },
   "outputs": [
    {
     "data": {
      "text/plain": "       sulfur_dioxide_min  sulfur_dioxide_max  sulfur_dioxide_mean  \\\ncount        3.951000e+03        3.951000e+03         3.951000e+03   \nmean        -7.138248e-15        1.238808e-15         2.000144e-16   \nstd          1.000127e+00        1.000127e+00         1.000127e+00   \nmin         -1.801471e+00       -1.237522e+00        -1.312773e+00   \n25%         -6.719192e-01       -6.126674e-01        -6.633193e-01   \n50%         -1.071434e-01       -1.960979e-01        -2.404192e-01   \n75%          4.576323e-01        4.287562e-01         3.486203e-01   \nmax          8.364493e+00        1.313412e+01         7.190540e+00   \n\n       sulfur_dioxide_median  carbon_monoxide_min  carbon_monoxide_max  \\\ncount           3.951000e+03         3.951000e+03         3.951000e+03   \nmean            5.201722e-15        -7.660848e-16        -4.705030e-16   \nstd             1.000127e+00         1.000127e+00         1.000127e+00   \nmin            -1.277592e+00        -2.526543e+00        -1.772178e+00   \n25%            -5.399546e-01        -7.959969e-01        -6.225089e-01   \n50%            -1.711359e-01        -2.191482e-01        -3.925751e-01   \n75%             1.976828e-01         3.577005e-01         2.972264e-01   \nmax             7.205238e+00         1.016413e+01         7.425175e+00   \n\n       carbon_monoxide_mean  carbon_monoxide_median     ozone_min  \\\ncount          3.951000e+03            3.951000e+03  3.951000e+03   \nmean          -1.886339e-16            1.538183e-16  5.039418e-16   \nstd            1.000127e+00            1.000127e+00  1.000127e+00   \nmin           -2.079799e+00           -2.010290e+00 -5.563445e-01   \n25%           -6.489875e-01           -8.068656e-01 -4.137185e-01   \n50%           -2.281607e-01           -2.051537e-01 -4.137185e-01   \n75%            3.441638e-01            3.965583e-01 -1.284665e-01   \nmax            6.774397e+00            6.413678e+00  9.427474e+00   \n\n          ozone_max  ...  wind direction_median_14.0  \\\ncount  3.951000e+03  ...                 3951.000000   \nmean  -8.525479e-17  ...                    0.125791   \nstd    1.000127e+00  ...                    0.331656   \nmin   -1.673174e+00  ...                    0.000000   \n25%   -6.875976e-01  ...                    0.000000   \n50%   -1.750976e-01  ...                    0.000000   \n75%    5.739408e-01  ...                    0.000000   \nmax    5.225863e+00  ...                    1.000000   \n\n       wind direction_median_15.0  wind direction_median_16.0  weekday_1.0  \\\ncount                 3951.000000                 3951.000000  3951.000000   \nmean                     0.013161                    0.000253     0.142749   \nstd                      0.113979                    0.015909     0.349861   \nmin                      0.000000                    0.000000     0.000000   \n25%                      0.000000                    0.000000     0.000000   \n50%                      0.000000                    0.000000     0.000000   \n75%                      0.000000                    0.000000     0.000000   \nmax                      1.000000                    1.000000     1.000000   \n\n       weekday_2.0  weekday_3.0  weekday_4.0  weekday_5.0  weekday_6.0  \\\ncount  3951.000000  3951.000000  3951.000000  3951.000000  3951.000000   \nmean      0.143002     0.143508     0.143255     0.143002     0.142242   \nstd       0.350119     0.350634     0.350377     0.350119     0.349343   \nmin       0.000000     0.000000     0.000000     0.000000     0.000000   \n25%       0.000000     0.000000     0.000000     0.000000     0.000000   \n50%       0.000000     0.000000     0.000000     0.000000     0.000000   \n75%       0.000000     0.000000     0.000000     0.000000     0.000000   \nmax       1.000000     1.000000     1.000000     1.000000     1.000000   \n\n       weekday_7.0  \ncount  3951.000000  \nmean      0.142242  \nstd       0.349343  \nmin       0.000000  \n25%       0.000000  \n50%       0.000000  \n75%       0.000000  \nmax       1.000000  \n\n[8 rows x 120 columns]",
      "text/html": "<div>\n<style scoped>\n    .dataframe tbody tr th:only-of-type {\n        vertical-align: middle;\n    }\n\n    .dataframe tbody tr th {\n        vertical-align: top;\n    }\n\n    .dataframe thead th {\n        text-align: right;\n    }\n</style>\n<table border=\"1\" class=\"dataframe\">\n  <thead>\n    <tr style=\"text-align: right;\">\n      <th></th>\n      <th>sulfur_dioxide_min</th>\n      <th>sulfur_dioxide_max</th>\n      <th>sulfur_dioxide_mean</th>\n      <th>sulfur_dioxide_median</th>\n      <th>carbon_monoxide_min</th>\n      <th>carbon_monoxide_max</th>\n      <th>carbon_monoxide_mean</th>\n      <th>carbon_monoxide_median</th>\n      <th>ozone_min</th>\n      <th>ozone_max</th>\n      <th>...</th>\n      <th>wind direction_median_14.0</th>\n      <th>wind direction_median_15.0</th>\n      <th>wind direction_median_16.0</th>\n      <th>weekday_1.0</th>\n      <th>weekday_2.0</th>\n      <th>weekday_3.0</th>\n      <th>weekday_4.0</th>\n      <th>weekday_5.0</th>\n      <th>weekday_6.0</th>\n      <th>weekday_7.0</th>\n    </tr>\n  </thead>\n  <tbody>\n    <tr>\n      <th>count</th>\n      <td>3.951000e+03</td>\n      <td>3.951000e+03</td>\n      <td>3.951000e+03</td>\n      <td>3.951000e+03</td>\n      <td>3.951000e+03</td>\n      <td>3.951000e+03</td>\n      <td>3.951000e+03</td>\n      <td>3.951000e+03</td>\n      <td>3.951000e+03</td>\n      <td>3.951000e+03</td>\n      <td>...</td>\n      <td>3951.000000</td>\n      <td>3951.000000</td>\n      <td>3951.000000</td>\n      <td>3951.000000</td>\n      <td>3951.000000</td>\n      <td>3951.000000</td>\n      <td>3951.000000</td>\n      <td>3951.000000</td>\n      <td>3951.000000</td>\n      <td>3951.000000</td>\n    </tr>\n    <tr>\n      <th>mean</th>\n      <td>-7.138248e-15</td>\n      <td>1.238808e-15</td>\n      <td>2.000144e-16</td>\n      <td>5.201722e-15</td>\n      <td>-7.660848e-16</td>\n      <td>-4.705030e-16</td>\n      <td>-1.886339e-16</td>\n      <td>1.538183e-16</td>\n      <td>5.039418e-16</td>\n      <td>-8.525479e-17</td>\n      <td>...</td>\n      <td>0.125791</td>\n      <td>0.013161</td>\n      <td>0.000253</td>\n      <td>0.142749</td>\n      <td>0.143002</td>\n      <td>0.143508</td>\n      <td>0.143255</td>\n      <td>0.143002</td>\n      <td>0.142242</td>\n      <td>0.142242</td>\n    </tr>\n    <tr>\n      <th>std</th>\n      <td>1.000127e+00</td>\n      <td>1.000127e+00</td>\n      <td>1.000127e+00</td>\n      <td>1.000127e+00</td>\n      <td>1.000127e+00</td>\n      <td>1.000127e+00</td>\n      <td>1.000127e+00</td>\n      <td>1.000127e+00</td>\n      <td>1.000127e+00</td>\n      <td>1.000127e+00</td>\n      <td>...</td>\n      <td>0.331656</td>\n      <td>0.113979</td>\n      <td>0.015909</td>\n      <td>0.349861</td>\n      <td>0.350119</td>\n      <td>0.350634</td>\n      <td>0.350377</td>\n      <td>0.350119</td>\n      <td>0.349343</td>\n      <td>0.349343</td>\n    </tr>\n    <tr>\n      <th>min</th>\n      <td>-1.801471e+00</td>\n      <td>-1.237522e+00</td>\n      <td>-1.312773e+00</td>\n      <td>-1.277592e+00</td>\n      <td>-2.526543e+00</td>\n      <td>-1.772178e+00</td>\n      <td>-2.079799e+00</td>\n      <td>-2.010290e+00</td>\n      <td>-5.563445e-01</td>\n      <td>-1.673174e+00</td>\n      <td>...</td>\n      <td>0.000000</td>\n      <td>0.000000</td>\n      <td>0.000000</td>\n      <td>0.000000</td>\n      <td>0.000000</td>\n      <td>0.000000</td>\n      <td>0.000000</td>\n      <td>0.000000</td>\n      <td>0.000000</td>\n      <td>0.000000</td>\n    </tr>\n    <tr>\n      <th>25%</th>\n      <td>-6.719192e-01</td>\n      <td>-6.126674e-01</td>\n      <td>-6.633193e-01</td>\n      <td>-5.399546e-01</td>\n      <td>-7.959969e-01</td>\n      <td>-6.225089e-01</td>\n      <td>-6.489875e-01</td>\n      <td>-8.068656e-01</td>\n      <td>-4.137185e-01</td>\n      <td>-6.875976e-01</td>\n      <td>...</td>\n      <td>0.000000</td>\n      <td>0.000000</td>\n      <td>0.000000</td>\n      <td>0.000000</td>\n      <td>0.000000</td>\n      <td>0.000000</td>\n      <td>0.000000</td>\n      <td>0.000000</td>\n      <td>0.000000</td>\n      <td>0.000000</td>\n    </tr>\n    <tr>\n      <th>50%</th>\n      <td>-1.071434e-01</td>\n      <td>-1.960979e-01</td>\n      <td>-2.404192e-01</td>\n      <td>-1.711359e-01</td>\n      <td>-2.191482e-01</td>\n      <td>-3.925751e-01</td>\n      <td>-2.281607e-01</td>\n      <td>-2.051537e-01</td>\n      <td>-4.137185e-01</td>\n      <td>-1.750976e-01</td>\n      <td>...</td>\n      <td>0.000000</td>\n      <td>0.000000</td>\n      <td>0.000000</td>\n      <td>0.000000</td>\n      <td>0.000000</td>\n      <td>0.000000</td>\n      <td>0.000000</td>\n      <td>0.000000</td>\n      <td>0.000000</td>\n      <td>0.000000</td>\n    </tr>\n    <tr>\n      <th>75%</th>\n      <td>4.576323e-01</td>\n      <td>4.287562e-01</td>\n      <td>3.486203e-01</td>\n      <td>1.976828e-01</td>\n      <td>3.577005e-01</td>\n      <td>2.972264e-01</td>\n      <td>3.441638e-01</td>\n      <td>3.965583e-01</td>\n      <td>-1.284665e-01</td>\n      <td>5.739408e-01</td>\n      <td>...</td>\n      <td>0.000000</td>\n      <td>0.000000</td>\n      <td>0.000000</td>\n      <td>0.000000</td>\n      <td>0.000000</td>\n      <td>0.000000</td>\n      <td>0.000000</td>\n      <td>0.000000</td>\n      <td>0.000000</td>\n      <td>0.000000</td>\n    </tr>\n    <tr>\n      <th>max</th>\n      <td>8.364493e+00</td>\n      <td>1.313412e+01</td>\n      <td>7.190540e+00</td>\n      <td>7.205238e+00</td>\n      <td>1.016413e+01</td>\n      <td>7.425175e+00</td>\n      <td>6.774397e+00</td>\n      <td>6.413678e+00</td>\n      <td>9.427474e+00</td>\n      <td>5.225863e+00</td>\n      <td>...</td>\n      <td>1.000000</td>\n      <td>1.000000</td>\n      <td>1.000000</td>\n      <td>1.000000</td>\n      <td>1.000000</td>\n      <td>1.000000</td>\n      <td>1.000000</td>\n      <td>1.000000</td>\n      <td>1.000000</td>\n      <td>1.000000</td>\n    </tr>\n  </tbody>\n</table>\n<p>8 rows × 120 columns</p>\n</div>"
     },
     "execution_count": 86,
     "metadata": {},
     "output_type": "execute_result"
    }
   ],
   "source": [
    "df.describe()"
   ]
  },
  {
   "cell_type": "code",
   "execution_count": 87,
   "metadata": {
    "collapsed": false
   },
   "outputs": [],
   "source": [
    "df_temp = df.drop('date', axis=1)"
   ]
  },
  {
   "cell_type": "code",
   "execution_count": 88,
   "outputs": [
    {
     "data": {
      "text/plain": "0       11483\n1       14012\n2       58660\n3       38961\n4       34852\n        ...  \n3946     2236\n3947      925\n3948      757\n3949     2013\n3950      628\nName: visitor, Length: 3951, dtype: int64"
     },
     "execution_count": 88,
     "metadata": {},
     "output_type": "execute_result"
    }
   ],
   "source": [
    "df_temp['visitor']"
   ],
   "metadata": {
    "collapsed": false
   }
  },
  {
   "cell_type": "code",
   "execution_count": 89,
   "metadata": {
    "collapsed": false
   },
   "outputs": [],
   "source": [
    "# df_temp['visitor'] = df_temp['visitor'].str.replace(',', '')\n",
    "# df_temp['visitor'] = df_temp['visitor'].astype(int)"
   ]
  },
  {
   "cell_type": "code",
   "execution_count": 90,
   "outputs": [
    {
     "data": {
      "text/plain": "(array([2.992e+03, 5.250e+02, 2.460e+02, 1.050e+02, 5.600e+01, 2.000e+01,\n        3.000e+00, 1.000e+00, 2.000e+00, 1.000e+00]),\n array([2.00000e+00, 1.15020e+04, 2.30020e+04, 3.45020e+04, 4.60020e+04,\n        5.75020e+04, 6.90020e+04, 8.05020e+04, 9.20020e+04, 1.03502e+05,\n        1.15002e+05]),\n <BarContainer object of 10 artists>)"
     },
     "execution_count": 90,
     "metadata": {},
     "output_type": "execute_result"
    },
    {
     "data": {
      "text/plain": "<Figure size 432x288 with 1 Axes>",
      "image/png": "[encoded data removed]"
     },
     "metadata": {},
     "output_type": "display_data"
    }
   ],
   "source": [
    "plt.hist(df_temp['visitor'])"
   ],
   "metadata": {
    "collapsed": false
   }
  },
  {
   "cell_type": "code",
   "execution_count": 91,
   "outputs": [
    {
     "data": {
      "text/plain": "      sulfur_dioxide_min  sulfur_dioxide_max  sulfur_dioxide_mean  \\\n0              -0.107143           -0.612667            -0.466973   \n1              -0.671919            0.220472            -0.225316   \n2               0.457632            0.220472             0.152274   \n3               0.457632            0.220472             0.454345   \n4               1.022408            0.428756             0.665795   \n...                  ...                 ...                  ...   \n3946            1.474229            1.261895             1.385937   \n3947            1.248318            1.178581             1.345137   \n3948            1.135363            1.386866             1.431959   \n3949            1.022408            2.395890             1.509582   \n3950            1.022408            1.377609             1.257352   \n\n      sulfur_dioxide_median  carbon_monoxide_min  carbon_monoxide_max  \\\n0                 -0.539955            -1.372846            -0.162641   \n1                 -0.171136            -1.949694            -0.852443   \n2                  0.197683            -0.795997            -0.852443   \n3                  0.566501            -0.795997            -0.622509   \n4                  0.566501            -0.795997            -0.622509   \n...                     ...                  ...                  ...   \n3946               1.322580             0.300016             0.872061   \n3947               1.359462             0.300016             0.918048   \n3948               1.525430             0.415385             1.285942   \n3949               1.078750             0.101323             1.676829   \n3950               1.365609             0.421795             1.089221   \n\n      carbon_monoxide_mean  carbon_monoxide_median  ozone_min  ozone_max  ...  \\\n0                -0.531156               -0.405724  -0.413718   0.061441  ...   \n1                -1.052981               -0.806866  -0.413718   1.007595  ...   \n2                -0.749986               -0.806866  -0.413718   1.007595  ...   \n3                -0.716320               -0.606295  -0.413718   0.495095  ...   \n4                -0.665821               -0.405724  -0.413718   0.731633  ...   \n...                    ...                     ...        ...        ...  ...   \n3946              0.832995                0.757585  -0.185517  -0.616636  ...   \n3947              0.866313                0.918042  -0.356668  -0.750675  ...   \n3948              1.152610                1.138670  -0.014366  -0.750675  ...   \n3949              1.017113                0.663986   0.331106  -0.508004  ...   \n3950              0.926775                0.909128   0.220175  -0.713880  ...   \n\n      wind direction_median_14.0  wind direction_median_15.0  \\\n0                            0.0                         0.0   \n1                            0.0                         0.0   \n2                            0.0                         0.0   \n3                            0.0                         0.0   \n4                            0.0                         0.0   \n...                          ...                         ...   \n3946                         0.0                         0.0   \n3947                         0.0                         0.0   \n3948                         0.0                         0.0   \n3949                         0.0                         0.0   \n3950                         0.0                         0.0   \n\n      wind direction_median_16.0  weekday_1.0  weekday_2.0  weekday_3.0  \\\n0                            0.0          0.0          0.0          1.0   \n1                            0.0          0.0          0.0          0.0   \n2                            0.0          0.0          0.0          0.0   \n3                            0.0          0.0          0.0          0.0   \n4                            0.0          0.0          0.0          0.0   \n...                          ...          ...          ...          ...   \n3946                         0.0          1.0          0.0          0.0   \n3947                         0.0          0.0          1.0          0.0   \n3948                         0.0          0.0          0.0          1.0   \n3949                         0.0          0.0          0.0          0.0   \n3950                         0.0          0.0          0.0          0.0   \n\n      weekday_4.0  weekday_5.0  weekday_6.0  weekday_7.0  \n0             0.0          0.0          0.0          0.0  \n1             1.0          0.0          0.0          0.0  \n2             0.0          1.0          0.0          0.0  \n3             0.0          0.0          1.0          0.0  \n4             0.0          0.0          0.0          1.0  \n...           ...          ...          ...          ...  \n3946          0.0          0.0          0.0          0.0  \n3947          0.0          0.0          0.0          0.0  \n3948          0.0          0.0          0.0          0.0  \n3949          1.0          0.0          0.0          0.0  \n3950          0.0          1.0          0.0          0.0  \n\n[3951 rows x 120 columns]",
      "text/html": "<div>\n<style scoped>\n    .dataframe tbody tr th:only-of-type {\n        vertical-align: middle;\n    }\n\n    .dataframe tbody tr th {\n        vertical-align: top;\n    }\n\n    .dataframe thead th {\n        text-align: right;\n    }\n</style>\n<table border=\"1\" class=\"dataframe\">\n  <thead>\n    <tr style=\"text-align: right;\">\n      <th></th>\n      <th>sulfur_dioxide_min</th>\n      <th>sulfur_dioxide_max</th>\n      <th>sulfur_dioxide_mean</th>\n      <th>sulfur_dioxide_median</th>\n      <th>carbon_monoxide_min</th>\n      <th>carbon_monoxide_max</th>\n      <th>carbon_monoxide_mean</th>\n      <th>carbon_monoxide_median</th>\n      <th>ozone_min</th>\n      <th>ozone_max</th>\n      <th>...</th>\n      <th>wind direction_median_14.0</th>\n      <th>wind direction_median_15.0</th>\n      <th>wind direction_median_16.0</th>\n      <th>weekday_1.0</th>\n      <th>weekday_2.0</th>\n      <th>weekday_3.0</th>\n      <th>weekday_4.0</th>\n      <th>weekday_5.0</th>\n      <th>weekday_6.0</th>\n      <th>weekday_7.0</th>\n    </tr>\n  </thead>\n  <tbody>\n    <tr>\n      <th>0</th>\n      <td>-0.107143</td>\n      <td>-0.612667</td>\n      <td>-0.466973</td>\n      <td>-0.539955</td>\n      <td>-1.372846</td>\n      <td>-0.162641</td>\n      <td>-0.531156</td>\n      <td>-0.405724</td>\n      <td>-0.413718</td>\n      <td>0.061441</td>\n      <td>...</td>\n      <td>0.0</td>\n      <td>0.0</td>\n      <td>0.0</td>\n      <td>0.0</td>\n      <td>0.0</td>\n      <td>1.0</td>\n      <td>0.0</td>\n      <td>0.0</td>\n      <td>0.0</td>\n      <td>0.0</td>\n    </tr>\n    <tr>\n      <th>1</th>\n      <td>-0.671919</td>\n      <td>0.220472</td>\n      <td>-0.225316</td>\n      <td>-0.171136</td>\n      <td>-1.949694</td>\n      <td>-0.852443</td>\n      <td>-1.052981</td>\n      <td>-0.806866</td>\n      <td>-0.413718</td>\n      <td>1.007595</td>\n      <td>...</td>\n      <td>0.0</td>\n      <td>0.0</td>\n      <td>0.0</td>\n      <td>0.0</td>\n      <td>0.0</td>\n      <td>0.0</td>\n      <td>1.0</td>\n      <td>0.0</td>\n      <td>0.0</td>\n      <td>0.0</td>\n    </tr>\n    <tr>\n      <th>2</th>\n      <td>0.457632</td>\n      <td>0.220472</td>\n      <td>0.152274</td>\n      <td>0.197683</td>\n      <td>-0.795997</td>\n      <td>-0.852443</td>\n      <td>-0.749986</td>\n      <td>-0.806866</td>\n      <td>-0.413718</td>\n      <td>1.007595</td>\n      <td>...</td>\n      <td>0.0</td>\n      <td>0.0</td>\n      <td>0.0</td>\n      <td>0.0</td>\n      <td>0.0</td>\n      <td>0.0</td>\n      <td>0.0</td>\n      <td>1.0</td>\n      <td>0.0</td>\n      <td>0.0</td>\n    </tr>\n    <tr>\n      <th>3</th>\n      <td>0.457632</td>\n      <td>0.220472</td>\n      <td>0.454345</td>\n      <td>0.566501</td>\n      <td>-0.795997</td>\n      <td>-0.622509</td>\n      <td>-0.716320</td>\n      <td>-0.606295</td>\n      <td>-0.413718</td>\n      <td>0.495095</td>\n      <td>...</td>\n      <td>0.0</td>\n      <td>0.0</td>\n      <td>0.0</td>\n      <td>0.0</td>\n      <td>0.0</td>\n      <td>0.0</td>\n      <td>0.0</td>\n      <td>0.0</td>\n      <td>1.0</td>\n      <td>0.0</td>\n    </tr>\n    <tr>\n      <th>4</th>\n      <td>1.022408</td>\n      <td>0.428756</td>\n      <td>0.665795</td>\n      <td>0.566501</td>\n      <td>-0.795997</td>\n      <td>-0.622509</td>\n      <td>-0.665821</td>\n      <td>-0.405724</td>\n      <td>-0.413718</td>\n      <td>0.731633</td>\n      <td>...</td>\n      <td>0.0</td>\n      <td>0.0</td>\n      <td>0.0</td>\n      <td>0.0</td>\n      <td>0.0</td>\n      <td>0.0</td>\n      <td>0.0</td>\n      <td>0.0</td>\n      <td>0.0</td>\n      <td>1.0</td>\n    </tr>\n    <tr>\n      <th>...</th>\n      <td>...</td>\n      <td>...</td>\n      <td>...</td>\n      <td>...</td>\n      <td>...</td>\n      <td>...</td>\n      <td>...</td>\n      <td>...</td>\n      <td>...</td>\n      <td>...</td>\n      <td>...</td>\n      <td>...</td>\n      <td>...</td>\n      <td>...</td>\n      <td>...</td>\n      <td>...</td>\n      <td>...</td>\n      <td>...</td>\n      <td>...</td>\n      <td>...</td>\n      <td>...</td>\n    </tr>\n    <tr>\n      <th>3946</th>\n      <td>1.474229</td>\n      <td>1.261895</td>\n      <td>1.385937</td>\n      <td>1.322580</td>\n      <td>0.300016</td>\n      <td>0.872061</td>\n      <td>0.832995</td>\n      <td>0.757585</td>\n      <td>-0.185517</td>\n      <td>-0.616636</td>\n      <td>...</td>\n      <td>0.0</td>\n      <td>0.0</td>\n      <td>0.0</td>\n      <td>1.0</td>\n      <td>0.0</td>\n      <td>0.0</td>\n      <td>0.0</td>\n      <td>0.0</td>\n      <td>0.0</td>\n      <td>0.0</td>\n    </tr>\n    <tr>\n      <th>3947</th>\n      <td>1.248318</td>\n      <td>1.178581</td>\n      <td>1.345137</td>\n      <td>1.359462</td>\n      <td>0.300016</td>\n      <td>0.918048</td>\n      <td>0.866313</td>\n      <td>0.918042</td>\n      <td>-0.356668</td>\n      <td>-0.750675</td>\n      <td>...</td>\n      <td>0.0</td>\n      <td>0.0</td>\n      <td>0.0</td>\n      <td>0.0</td>\n      <td>1.0</td>\n      <td>0.0</td>\n      <td>0.0</td>\n      <td>0.0</td>\n      <td>0.0</td>\n      <td>0.0</td>\n    </tr>\n    <tr>\n      <th>3948</th>\n      <td>1.135363</td>\n      <td>1.386866</td>\n      <td>1.431959</td>\n      <td>1.525430</td>\n      <td>0.415385</td>\n      <td>1.285942</td>\n      <td>1.152610</td>\n      <td>1.138670</td>\n      <td>-0.014366</td>\n      <td>-0.750675</td>\n      <td>...</td>\n      <td>0.0</td>\n      <td>0.0</td>\n      <td>0.0</td>\n      <td>0.0</td>\n      <td>0.0</td>\n      <td>1.0</td>\n      <td>0.0</td>\n      <td>0.0</td>\n      <td>0.0</td>\n      <td>0.0</td>\n    </tr>\n    <tr>\n      <th>3949</th>\n      <td>1.022408</td>\n      <td>2.395890</td>\n      <td>1.509582</td>\n      <td>1.078750</td>\n      <td>0.101323</td>\n      <td>1.676829</td>\n      <td>1.017113</td>\n      <td>0.663986</td>\n      <td>0.331106</td>\n      <td>-0.508004</td>\n      <td>...</td>\n      <td>0.0</td>\n      <td>0.0</td>\n      <td>0.0</td>\n      <td>0.0</td>\n      <td>0.0</td>\n      <td>0.0</td>\n      <td>1.0</td>\n      <td>0.0</td>\n      <td>0.0</td>\n      <td>0.0</td>\n    </tr>\n    <tr>\n      <th>3950</th>\n      <td>1.022408</td>\n      <td>1.377609</td>\n      <td>1.257352</td>\n      <td>1.365609</td>\n      <td>0.421795</td>\n      <td>1.089221</td>\n      <td>0.926775</td>\n      <td>0.909128</td>\n      <td>0.220175</td>\n      <td>-0.713880</td>\n      <td>...</td>\n      <td>0.0</td>\n      <td>0.0</td>\n      <td>0.0</td>\n      <td>0.0</td>\n      <td>0.0</td>\n      <td>0.0</td>\n      <td>0.0</td>\n      <td>1.0</td>\n      <td>0.0</td>\n      <td>0.0</td>\n    </tr>\n  </tbody>\n</table>\n<p>3951 rows × 120 columns</p>\n</div>"
     },
     "execution_count": 91,
     "metadata": {},
     "output_type": "execute_result"
    }
   ],
   "source": [
    "df_temp"
   ],
   "metadata": {
    "collapsed": false
   }
  },
  {
   "cell_type": "code",
   "execution_count": 92,
   "outputs": [
    {
     "data": {
      "text/plain": "<Figure size 432x288 with 1 Axes>",
      "image/png": "[encoded data removed]"
     },
     "metadata": {},
     "output_type": "display_data"
    }
   ],
   "source": [
    "plt.hist(df['visitor'], bins=10)\n",
    "plt.xlabel('Visitor')\n",
    "plt.ylabel('Frequency')\n",
    "plt.title('Distribution of Visitor')\n",
    "plt.show()"
   ],
   "metadata": {
    "collapsed": false
   }
  },
  {
   "cell_type": "code",
   "execution_count": 93,
   "outputs": [
    {
     "data": {
      "text/plain": "1933         2\n2912         2\n2913         7\n822          9\n1922        11\n         ...  \n192      70880\n1985     86100\n581      96434\n96       96434\n922     115002\nName: visitor, Length: 3951, dtype: int64"
     },
     "execution_count": 93,
     "metadata": {},
     "output_type": "execute_result"
    }
   ],
   "source": [
    "df_temp['visitor'].sort_values()"
   ],
   "metadata": {
    "collapsed": false
   }
  },
  {
   "cell_type": "code",
   "execution_count": 94,
   "outputs": [
    {
     "data": {
      "text/plain": "922     115002\n96       96434\n581      96434\n1985     86100\n192      70880\n         ...  \n1922        11\n822          9\n2913         7\n1933         2\n2912         2\nName: visitor, Length: 3951, dtype: int64"
     },
     "execution_count": 94,
     "metadata": {},
     "output_type": "execute_result"
    }
   ],
   "source": [
    "df_temp['visitor'].sort_values(ascending=False)"
   ],
   "metadata": {
    "collapsed": false
   }
  },
  {
   "cell_type": "code",
   "execution_count": 95,
   "outputs": [
    {
     "data": {
      "text/plain": "count      3951.000000\nmean       9122.186029\nstd       11653.034037\nmin           2.000000\n25%        1840.000000\n50%        4619.000000\n75%       11280.500000\nmax      115002.000000\nName: visitor, dtype: float64"
     },
     "execution_count": 95,
     "metadata": {},
     "output_type": "execute_result"
    }
   ],
   "source": [
    "df_temp['visitor'].describe()"
   ],
   "metadata": {
    "collapsed": false
   }
  },
  {
   "cell_type": "code",
   "execution_count": 96,
   "metadata": {
    "collapsed": false
   },
   "outputs": [
    {
     "data": {
      "text/plain": "sulfur_dioxide_min      -0.025192\nsulfur_dioxide_max       0.010920\nsulfur_dioxide_mean     -0.011098\nsulfur_dioxide_median   -0.013694\ncarbon_monoxide_min     -0.096105\n                           ...   \nweekday_3.0             -0.118335\nweekday_4.0             -0.096134\nweekday_5.0             -0.057807\nweekday_6.0              0.251182\nweekday_7.0              0.277308\nName: visitor, Length: 120, dtype: float64"
     },
     "execution_count": 96,
     "metadata": {},
     "output_type": "execute_result"
    }
   ],
   "source": [
    "df_temp.corr()['visitor']"
   ]
  },
  {
   "cell_type": "code",
   "execution_count": 97,
   "metadata": {
    "collapsed": false
   },
   "outputs": [],
   "source": [
    "# import seaborn as sns\n",
    "# import matplotlib.pyplot as plt\n",
    "#\n",
    "# # 히트맵 크기 조정\n",
    "# plt.figure(figsize=(32, 24))\n",
    "# sns.set(font_scale=1.2)\n",
    "#\n",
    "# # 히트맵 그리기\n",
    "# correlation_matrix = df_temp.corr()\n",
    "# sns.heatmap(correlation_matrix, annot=True, cmap='coolwarm')\n",
    "#\n",
    "# # x축과 y축 레이블 회전\n",
    "# plt.xticks(rotation=45)\n",
    "# plt.yticks(rotation=0)\n",
    "#\n",
    "# # 그래프 제목 설정\n",
    "# plt.title('Correlation Matrix')\n",
    "#\n",
    "# # 그래프 출력\n",
    "# plt.show()"
   ]
  },
  {
   "cell_type": "code",
   "execution_count": 98,
   "metadata": {
    "collapsed": false
   },
   "outputs": [],
   "source": [
    "# df.corr 기본 값은 pearson입니다\n",
    "df_corr = df_temp.corr()"
   ]
  },
  {
   "cell_type": "code",
   "execution_count": 116,
   "metadata": {
    "collapsed": false
   },
   "outputs": [
    {
     "data": {
      "text/plain": "sulfur_dioxide_min      -0.025192\nsulfur_dioxide_max       0.010920\nsulfur_dioxide_mean     -0.011098\nsulfur_dioxide_median   -0.013694\ncarbon_monoxide_min     -0.096105\n                           ...   \nweekday_3.0             -0.118335\nweekday_4.0             -0.096134\nweekday_5.0             -0.057807\nweekday_6.0              0.251182\nweekday_7.0              0.277308\nName: visitor, Length: 120, dtype: float64"
     },
     "execution_count": 116,
     "metadata": {},
     "output_type": "execute_result"
    }
   ],
   "source": [
    "df_corr['visitor']"
   ]
  },
  {
   "attachments": {},
   "cell_type": "markdown",
   "metadata": {
    "collapsed": false
   },
   "source": [
    "## 상관도 높은 순서: 주말, 오존, 온도\n",
    "## sulfur_dioxide -> min, carbon_monoxide -> max, ozone -> max, nitrogen_dioxide -> min, fine_dust -> median, rainfall -> mean,\n",
    "## probability of precipitation -> min, humidity -> min, highest temp -> max, lowest temp -> min, wind speed -> min, wind direction -> min, skystate -> max"
   ]
  },
  {
   "cell_type": "code",
   "execution_count": 107,
   "metadata": {
    "collapsed": false
   },
   "outputs": [
    {
     "data": {
      "text/plain": "sulfur_dioxide_min      -0.094497\nsulfur_dioxide_max      -0.029536\nsulfur_dioxide_mean     -0.053556\nsulfur_dioxide_median   -0.060373\ncarbon_monoxide_min     -0.083760\n                           ...   \nweekday_3.0             -0.098525\nweekday_4.0             -0.081009\nweekday_5.0             -0.038320\nweekday_6.0              0.213039\nweekday_7.0              0.219046\nName: visitor, Length: 120, dtype: float64"
     },
     "execution_count": 107,
     "metadata": {},
     "output_type": "execute_result"
    }
   ],
   "source": [
    "df_temp.corr(method='kendall')['visitor']"
   ]
  },
  {
   "attachments": {},
   "cell_type": "markdown",
   "metadata": {
    "collapsed": false
   },
   "source": [
    "## 상관도 높은 순서: 주말, 오존, 온도, 습도\n",
    "## sulfur_dioxide -> min, carbon_monoxide -> max, ozone -> max, nitrogen_dioxide -> max, fine_dust -> max, rainfall -> mean,\n",
    "## probability of precipitation -> min, humidity -> min, highest temp -> max, lowest temp -> min, wind speed -> median,\n",
    "## wind direction -> min, skystate -> max"
   ]
  },
  {
   "cell_type": "code",
   "execution_count": 108,
   "metadata": {
    "collapsed": false
   },
   "outputs": [
    {
     "data": {
      "text/plain": "sulfur_dioxide_min      -0.130015\nsulfur_dioxide_max      -0.044333\nsulfur_dioxide_mean     -0.084241\nsulfur_dioxide_median   -0.089292\ncarbon_monoxide_min     -0.116755\n                           ...   \nweekday_3.0             -0.120649\nweekday_4.0             -0.099199\nweekday_5.0             -0.046925\nweekday_6.0              0.260876\nweekday_7.0              0.268231\nName: visitor, Length: 120, dtype: float64"
     },
     "execution_count": 108,
     "metadata": {},
     "output_type": "execute_result"
    }
   ],
   "source": [
    "df_temp.corr(method='spearman')['visitor']"
   ]
  },
  {
   "attachments": {},
   "cell_type": "markdown",
   "metadata": {
    "collapsed": false
   },
   "source": [
    "## 상관도 높은 순서: 오존, 온도, 습도 & 일산화탄소\n",
    "## sulfur_dioxide -> min, carbon_monoxide -> max, ozone -> max, nitrogen_dioxide -> max, fine_dust -> max, rainfall -> mean,\n",
    "## probability of precipitation -> min, humidity -> min, highest temp -> max, lowest temp -> min, wind speed -> mean med유사,\n",
    "## wind direction -> min, skystate -> max"
   ]
  },
  {
   "attachments": {},
   "cell_type": "markdown",
   "metadata": {
    "collapsed": false
   },
   "source": [
    "# 종합\n",
    "## sulfur_dioxide -> min, carbon_monoxide -> max, ozone -> max, nitrogen_dioxide -> max, fine_dust -> max, rainfall -> mean,\n",
    "## probability of precipitation -> min, humidity -> min, highest temp -> max, lowest temp -> min, wind speed -> med,\n",
    "## wind direction -> min, skystate -> max"
   ]
  },
  {
   "cell_type": "code",
   "execution_count": 109,
   "outputs": [],
   "source": [
    "selected_feat = ['sulfur_dioxide_min', 'carbon_monoxide_max', 'ozone_max', 'nitrogen_dioxide_max', 'fine_dust_pm10_max',                 'rainfall_mean', 'probability of precipitation_min', 'humidity_min', 'highest temperature_max',                 'lowest temperature_min', 'wind speed_median', 'sky state_max', 'visitor']"
   ],
   "metadata": {
    "collapsed": false
   }
  },
  {
   "cell_type": "code",
   "execution_count": 110,
   "outputs": [],
   "source": [
    "df_selected = df[selected_feat]"
   ],
   "metadata": {
    "collapsed": false
   }
  },
  {
   "cell_type": "code",
   "execution_count": 111,
   "outputs": [
    {
     "data": {
      "text/plain": "sulfur_dioxide_min                 -0.025192\ncarbon_monoxide_max                -0.116652\nozone_max                           0.266586\nnitrogen_dioxide_max                0.089203\nfine_dust_pm10_max                  0.022066\nrainfall_mean                      -0.041450\nprobability of precipitation_min    0.027192\nhumidity_min                        0.075751\nhighest temperature_max             0.172581\nlowest temperature_min              0.167803\nwind speed_median                  -0.055342\nsky state_max                      -0.046683\nvisitor                             1.000000\nName: visitor, dtype: float64"
     },
     "execution_count": 111,
     "metadata": {},
     "output_type": "execute_result"
    }
   ],
   "source": [
    "df_selected.corr().iloc[:,-1]"
   ],
   "metadata": {
    "collapsed": false
   }
  },
  {
   "cell_type": "code",
   "execution_count": 112,
   "outputs": [
    {
     "data": {
      "text/plain": "sulfur_dioxide_min                 -0.094497\ncarbon_monoxide_max                -0.103963\nozone_max                           0.261936\nnitrogen_dioxide_max                0.055778\nfine_dust_pm10_max                  0.023323\nrainfall_mean                       0.017903\nprobability of precipitation_min    0.048532\nhumidity_min                        0.091282\nhighest temperature_max             0.176298\nlowest temperature_min              0.170754\nwind speed_median                  -0.072191\nsky state_max                      -0.035154\nvisitor                             1.000000\nName: visitor, dtype: float64"
     },
     "execution_count": 112,
     "metadata": {},
     "output_type": "execute_result"
    }
   ],
   "source": [
    "df_selected.corr(method='kendall').iloc[:,-1]"
   ],
   "metadata": {
    "collapsed": false
   }
  },
  {
   "cell_type": "code",
   "execution_count": 113,
   "outputs": [
    {
     "data": {
      "text/plain": "sulfur_dioxide_min                 -0.130015\ncarbon_monoxide_max                -0.155699\nozone_max                           0.393071\nnitrogen_dioxide_max                0.082749\nfine_dust_pm10_max                  0.034478\nrainfall_mean                       0.023576\nprobability of precipitation_min    0.064999\nhumidity_min                        0.132158\nhighest temperature_max             0.259331\nlowest temperature_min              0.249927\nwind speed_median                  -0.103986\nsky state_max                      -0.045371\nvisitor                             1.000000\nName: visitor, dtype: float64"
     },
     "execution_count": 113,
     "metadata": {},
     "output_type": "execute_result"
    }
   ],
   "source": [
    "df_selected.corr(method='spearman').iloc[:,-1]"
   ],
   "metadata": {
    "collapsed": false
   }
  },
  {
   "cell_type": "code",
   "execution_count": 117,
   "outputs": [
    {
     "data": {
      "text/plain": "sulfur_dioxide_min       0.025192\nsulfur_dioxide_max       0.010920\nsulfur_dioxide_mean      0.011098\nsulfur_dioxide_median    0.013694\ncarbon_monoxide_min      0.096105\n                           ...   \nweekday_3.0              0.118335\nweekday_4.0              0.096134\nweekday_5.0              0.057807\nweekday_6.0              0.251182\nweekday_7.0              0.277308\nName: visitor, Length: 120, dtype: float64"
     },
     "execution_count": 117,
     "metadata": {},
     "output_type": "execute_result"
    }
   ],
   "source": [
    "abs(df_corr['visitor'])"
   ],
   "metadata": {
    "collapsed": false
   }
  },
  {
   "cell_type": "code",
   "execution_count": 118,
   "outputs": [
    {
     "data": {
      "text/plain": "sulfur_dioxide_min       0.094497\nsulfur_dioxide_max       0.029536\nsulfur_dioxide_mean      0.053556\nsulfur_dioxide_median    0.060373\ncarbon_monoxide_min      0.083760\n                           ...   \nweekday_3.0              0.098525\nweekday_4.0              0.081009\nweekday_5.0              0.038320\nweekday_6.0              0.213039\nweekday_7.0              0.219046\nName: visitor, Length: 120, dtype: float64"
     },
     "execution_count": 118,
     "metadata": {},
     "output_type": "execute_result"
    }
   ],
   "source": [
    "abs(df_temp.corr(method='kendall')['visitor'])"
   ],
   "metadata": {
    "collapsed": false
   }
  },
  {
   "cell_type": "code",
   "execution_count": 119,
   "outputs": [
    {
     "data": {
      "text/plain": "sulfur_dioxide_min       0.130015\nsulfur_dioxide_max       0.044333\nsulfur_dioxide_mean      0.084241\nsulfur_dioxide_median    0.089292\ncarbon_monoxide_min      0.116755\n                           ...   \nweekday_3.0              0.120649\nweekday_4.0              0.099199\nweekday_5.0              0.046925\nweekday_6.0              0.260876\nweekday_7.0              0.268231\nName: visitor, Length: 120, dtype: float64"
     },
     "execution_count": 119,
     "metadata": {},
     "output_type": "execute_result"
    }
   ],
   "source": [
    "abs(df_temp.corr(method='spearman')['visitor'])"
   ],
   "metadata": {
    "collapsed": false
   }
  },
  {
   "cell_type": "code",
   "execution_count": null,
   "outputs": [],
   "source": [],
   "metadata": {
    "collapsed": false
   }
  }
 ],
 "metadata": {
  "kernelspec": {
   "display_name": "Python 3",
   "language": "python",
   "name": "python3"
  },
  "language_info": {
   "codemirror_mode": {
    "name": "ipython",
    "version": 3
   },
   "file_extension": ".py",
   "mimetype": "text/x-python",
   "name": "python",
   "nbconvert_exporter": "python",
   "pygments_lexer": "ipython3",
   "version": "3.10.8"
  }
 },
 "nbformat": 4,
 "nbformat_minor": 0
}
