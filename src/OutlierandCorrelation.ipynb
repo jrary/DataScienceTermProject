{
 "cells": [
  {
   "cell_type": "code",
   "execution_count": 2,
   "metadata": {
    "collapsed": true
   },
   "outputs": [],
   "source": [
    "import pandas as pd\n",
    "import numpy as np\n",
    "import matplotlib.pyplot as plt"
   ]
  },
  {
   "cell_type": "code",
   "execution_count": 37,
   "metadata": {
    "collapsed": false
   },
   "outputs": [],
   "source": [
    "# Method for displaying outlier graphs\n",
    "def outlier(col):\n",
    "    plt.figure()\n",
    "    ax = plt.gca()\n",
    "    ax.boxplot(col)\n",
    "    ax.set_ylabel('Value')\n",
    "\n",
    "# Method for receiving data to detect outliers and return outliers values\n",
    "def detect_outliers(data):\n",
    "    # Calculation of 1st, 3rd, IQR\n",
    "    q1 = np.percentile(data, 25)\n",
    "    q3 = np.percentile(data, 75)\n",
    "    iqr = q3 - q1\n",
    "\n",
    "    # Setting an Outlier Boundary\n",
    "    lower_bound = q1 - 1.5 * iqr\n",
    "    upper_bound = q3 + 1.5 * iqr\n",
    "\n",
    "    # Identifying outliers\n",
    "    outliers = (data < lower_bound) | (data > upper_bound)\n",
    "\n",
    "    return outliers"
   ]
  },
  {
   "cell_type": "code",
   "execution_count": 38,
   "metadata": {
    "collapsed": false
   },
   "outputs": [],
   "source": [
    "df_visitor = pd.read_csv(\"assets/output/visitors.csv\")"
   ]
  },
  {
   "cell_type": "code",
   "execution_count": 39,
   "metadata": {
    "collapsed": false
   },
   "outputs": [],
   "source": [
    "# Pre-processing operation to replace the visitor column with numbers\n",
    "df_visitor['visitor'] = df_visitor['visitor'].str.replace(',', '')\n",
    "df_visitor['visitor'] = df_visitor['visitor'].astype(int)"
   ]
  },
  {
   "cell_type": "code",
   "execution_count": 1,
   "metadata": {
    "collapsed": false
   },
   "outputs": [
    {
     "ename": "NameError",
     "evalue": "name 'outlier' is not defined",
     "output_type": "error",
     "traceback": [
      "\u001B[1;31m---------------------------------------------------------------------------\u001B[0m",
      "\u001B[1;31mNameError\u001B[0m                                 Traceback (most recent call last)",
      "\u001B[1;32m~\\AppData\\Local\\Temp\\ipykernel_17828\\3681580124.py\u001B[0m in \u001B[0;36m<module>\u001B[1;34m\u001B[0m\n\u001B[1;32m----> 1\u001B[1;33m \u001B[0moutlier\u001B[0m\u001B[1;33m(\u001B[0m\u001B[0mdf_visitor\u001B[0m\u001B[1;33m[\u001B[0m\u001B[1;34m'visitor'\u001B[0m\u001B[1;33m]\u001B[0m\u001B[1;33m)\u001B[0m\u001B[1;33m\u001B[0m\u001B[1;33m\u001B[0m\u001B[0m\n\u001B[0m",
      "\u001B[1;31mNameError\u001B[0m: name 'outlier' is not defined"
     ]
    }
   ],
   "source": [
    "# Boxplot of the current 'visitor' column\n",
    "outlier(df_visitor['visitor'])"
   ]
  },
  {
   "cell_type": "code",
   "execution_count": 42,
   "metadata": {
    "collapsed": false
   },
   "outputs": [
    {
     "data": {
      "text/html": [
       "<div>\n",
       "<style scoped>\n",
       "    .dataframe tbody tr th:only-of-type {\n",
       "        vertical-align: middle;\n",
       "    }\n",
       "\n",
       "    .dataframe tbody tr th {\n",
       "        vertical-align: top;\n",
       "    }\n",
       "\n",
       "    .dataframe thead th {\n",
       "        text-align: right;\n",
       "    }\n",
       "</style>\n",
       "<table border=\"1\" class=\"dataframe\">\n",
       "  <thead>\n",
       "    <tr style=\"text-align: right;\">\n",
       "      <th></th>\n",
       "      <th>visitor</th>\n",
       "    </tr>\n",
       "  </thead>\n",
       "  <tbody>\n",
       "    <tr>\n",
       "      <th>count</th>\n",
       "      <td>3951.000000</td>\n",
       "    </tr>\n",
       "    <tr>\n",
       "      <th>mean</th>\n",
       "      <td>9122.186029</td>\n",
       "    </tr>\n",
       "    <tr>\n",
       "      <th>std</th>\n",
       "      <td>11653.034037</td>\n",
       "    </tr>\n",
       "    <tr>\n",
       "      <th>min</th>\n",
       "      <td>2.000000</td>\n",
       "    </tr>\n",
       "    <tr>\n",
       "      <th>25%</th>\n",
       "      <td>1840.000000</td>\n",
       "    </tr>\n",
       "    <tr>\n",
       "      <th>50%</th>\n",
       "      <td>4619.000000</td>\n",
       "    </tr>\n",
       "    <tr>\n",
       "      <th>75%</th>\n",
       "      <td>11280.500000</td>\n",
       "    </tr>\n",
       "    <tr>\n",
       "      <th>max</th>\n",
       "      <td>115002.000000</td>\n",
       "    </tr>\n",
       "  </tbody>\n",
       "</table>\n",
       "</div>"
      ],
      "text/plain": [
       "             visitor\n",
       "count    3951.000000\n",
       "mean     9122.186029\n",
       "std     11653.034037\n",
       "min         2.000000\n",
       "25%      1840.000000\n",
       "50%      4619.000000\n",
       "75%     11280.500000\n",
       "max    115002.000000"
      ]
     },
     "execution_count": 42,
     "metadata": {},
     "output_type": "execute_result"
    }
   ],
   "source": [
    "# Numerical status of the visitor column\n",
    "df_visitor.describe()"
   ]
  },
  {
   "cell_type": "code",
   "execution_count": 43,
   "metadata": {
    "collapsed": false
   },
   "outputs": [
    {
     "name": "stdout",
     "output_type": "stream",
     "text": [
      "q1: 1840.0 q3: 11280.5\n"
     ]
    }
   ],
   "source": [
    "# Number of Q1 and Q3\n",
    "q1 = np.percentile(df_visitor['visitor'], 25)\n",
    "q3 = np.percentile(df_visitor['visitor'], 75)\n",
    "print(\"q1: {} q3: {}\".format(q1, q3))"
   ]
  },
  {
   "cell_type": "code",
   "execution_count": 44,
   "metadata": {
    "collapsed": false
   },
   "outputs": [],
   "source": [
    "# Extracting only non-outlier figures\n",
    "outliers = detect_outliers(df_visitor['visitor'])\n",
    "non_outliers = df_visitor[~outliers]"
   ]
  },
  {
   "cell_type": "code",
   "execution_count": 47,
   "metadata": {
    "collapsed": false
   },
   "outputs": [
    {
     "data": {
      "image/png": "[encoded data removed]",
      "text/plain": [
       "<Figure size 432x288 with 1 Axes>"
      ]
     },
     "metadata": {},
     "output_type": "display_data"
    }
   ],
   "source": [
    "# Visualize non-outlier numerical box plots\n",
    "outlier(non_outliers['visitor'])"
   ]
  },
  {
   "cell_type": "code",
   "execution_count": 48,
   "metadata": {
    "collapsed": false
   },
   "outputs": [
    {
     "data": {
      "text/html": [
       "<div>\n",
       "<style scoped>\n",
       "    .dataframe tbody tr th:only-of-type {\n",
       "        vertical-align: middle;\n",
       "    }\n",
       "\n",
       "    .dataframe tbody tr th {\n",
       "        vertical-align: top;\n",
       "    }\n",
       "\n",
       "    .dataframe thead th {\n",
       "        text-align: right;\n",
       "    }\n",
       "</style>\n",
       "<table border=\"1\" class=\"dataframe\">\n",
       "  <thead>\n",
       "    <tr style=\"text-align: right;\">\n",
       "      <th></th>\n",
       "      <th>visitor</th>\n",
       "    </tr>\n",
       "  </thead>\n",
       "  <tbody>\n",
       "    <tr>\n",
       "      <th>count</th>\n",
       "      <td>3586.000000</td>\n",
       "    </tr>\n",
       "    <tr>\n",
       "      <th>mean</th>\n",
       "      <td>6098.088399</td>\n",
       "    </tr>\n",
       "    <tr>\n",
       "      <th>std</th>\n",
       "      <td>5901.432713</td>\n",
       "    </tr>\n",
       "    <tr>\n",
       "      <th>min</th>\n",
       "      <td>2.000000</td>\n",
       "    </tr>\n",
       "    <tr>\n",
       "      <th>25%</th>\n",
       "      <td>1692.250000</td>\n",
       "    </tr>\n",
       "    <tr>\n",
       "      <th>50%</th>\n",
       "      <td>3909.000000</td>\n",
       "    </tr>\n",
       "    <tr>\n",
       "      <th>75%</th>\n",
       "      <td>8441.000000</td>\n",
       "    </tr>\n",
       "    <tr>\n",
       "      <th>max</th>\n",
       "      <td>25286.000000</td>\n",
       "    </tr>\n",
       "  </tbody>\n",
       "</table>\n",
       "</div>"
      ],
      "text/plain": [
       "            visitor\n",
       "count   3586.000000\n",
       "mean    6098.088399\n",
       "std     5901.432713\n",
       "min        2.000000\n",
       "25%     1692.250000\n",
       "50%     3909.000000\n",
       "75%     8441.000000\n",
       "max    25286.000000"
      ]
     },
     "execution_count": 48,
     "metadata": {},
     "output_type": "execute_result"
    }
   ],
   "source": [
    "# Numerical status of non-outlier\n",
    "non_outliers.describe()"
   ]
  },
  {
   "cell_type": "code",
   "execution_count": 49,
   "metadata": {
    "collapsed": false
   },
   "outputs": [
    {
     "name": "stdout",
     "output_type": "stream",
     "text": [
      "q1: 1692.25 q3: 8441.0\n"
     ]
    }
   ],
   "source": [
    "# Number of Q1 and Q3\n",
    "q1 = np.percentile(non_outliers['visitor'], 25)\n",
    "q3 = np.percentile(non_outliers['visitor'], 75)\n",
    "print(\"q1: {} q3: {}\".format(q1, q3))"
   ]
  },
  {
   "cell_type": "code",
   "execution_count": 18,
   "metadata": {
    "collapsed": false
   },
   "outputs": [],
   "source": [
    "df = pd.read_csv('assets/output/preprocessedDataset.csv')"
   ]
  },
  {
   "cell_type": "code",
   "execution_count": 20,
   "metadata": {
    "collapsed": false
   },
   "outputs": [],
   "source": [
    "df_temp = df.drop('date', axis=1)"
   ]
  },
  {
   "cell_type": "code",
   "execution_count": 53,
   "metadata": {
    "collapsed": false
   },
   "outputs": [
    {
     "data": {
      "text/plain": [
       "0       11483.0\n",
       "1       14012.0\n",
       "2       58660.0\n",
       "3       38961.0\n",
       "4       34852.0\n",
       "         ...   \n",
       "3946     2236.0\n",
       "3947      925.0\n",
       "3948      757.0\n",
       "3949     2013.0\n",
       "3950      628.0\n",
       "Name: visitor, Length: 3951, dtype: float64"
      ]
     },
     "execution_count": 53,
     "metadata": {},
     "output_type": "execute_result"
    }
   ],
   "source": [
    "df_temp['visitor']"
   ]
  },
  {
   "cell_type": "code",
   "execution_count": 57,
   "metadata": {
    "collapsed": false
   },
   "outputs": [
    {
     "data": {
      "image/png": "[encoded data removed]",
      "text/plain": [
       "<Figure size 432x288 with 1 Axes>"
      ]
     },
     "metadata": {},
     "output_type": "display_data"
    }
   ],
   "source": [
    "# Histogram visualization\n",
    "plt.hist(df['visitor'], bins=10)\n",
    "plt.xlabel('Visitor')\n",
    "plt.ylabel('Frequency')\n",
    "plt.title('Distribution of Visitor')\n",
    "plt.show()"
   ]
  },
  {
   "cell_type": "code",
   "execution_count": 58,
   "metadata": {
    "collapsed": false
   },
   "outputs": [
    {
     "data": {
      "text/plain": [
       "1933         2.0\n",
       "2912         2.0\n",
       "2913         7.0\n",
       "822          9.0\n",
       "1922        11.0\n",
       "          ...   \n",
       "192      70880.0\n",
       "1985     86100.0\n",
       "581      96434.0\n",
       "96       96434.0\n",
       "922     115002.0\n",
       "Name: visitor, Length: 3951, dtype: float64"
      ]
     },
     "execution_count": 58,
     "metadata": {},
     "output_type": "execute_result"
    }
   ],
   "source": [
    "df_temp['visitor'].sort_values()"
   ]
  },
  {
   "cell_type": "code",
   "execution_count": 59,
   "metadata": {
    "collapsed": false
   },
   "outputs": [
    {
     "data": {
      "text/plain": [
       "922     115002.0\n",
       "96       96434.0\n",
       "581      96434.0\n",
       "1985     86100.0\n",
       "192      70880.0\n",
       "          ...   \n",
       "1922        11.0\n",
       "822          9.0\n",
       "2913         7.0\n",
       "1933         2.0\n",
       "2912         2.0\n",
       "Name: visitor, Length: 3951, dtype: float64"
      ]
     },
     "execution_count": 59,
     "metadata": {},
     "output_type": "execute_result"
    }
   ],
   "source": [
    "df_temp['visitor'].sort_values(ascending=False)"
   ]
  },
  {
   "cell_type": "code",
   "execution_count": 60,
   "metadata": {
    "collapsed": false
   },
   "outputs": [
    {
     "data": {
      "text/plain": [
       "count      3951.000000\n",
       "mean       9122.186029\n",
       "std       11653.034037\n",
       "min           2.000000\n",
       "25%        1840.000000\n",
       "50%        4619.000000\n",
       "75%       11280.500000\n",
       "max      115002.000000\n",
       "Name: visitor, dtype: float64"
      ]
     },
     "execution_count": 60,
     "metadata": {},
     "output_type": "execute_result"
    }
   ],
   "source": [
    "df_temp['visitor'].describe()"
   ]
  },
  {
   "cell_type": "code",
   "execution_count": 22,
   "metadata": {
    "collapsed": false
   },
   "outputs": [],
   "source": [
    "# Pearson correlation\n",
    "df_corr = df_temp.corr()"
   ]
  },
  {
   "cell_type": "code",
   "execution_count": 23,
   "metadata": {
    "collapsed": false
   },
   "outputs": [
    {
     "name": "stdout",
     "output_type": "stream",
     "text": [
      "sulfur_dioxide_min            0.017458\n",
      "sulfur_dioxide_max            0.056913\n",
      "sulfur_dioxide_mean           0.042373\n",
      "sulfur_dioxide_median         0.041805\n",
      "carbon_monoxide_min           0.007728\n",
      "carbon_monoxide_max           0.047662\n",
      "carbon_monoxide_mean          0.006657\n",
      "carbon_monoxide_median        0.016605\n",
      "ozone_min                     0.047742\n",
      "ozone_max                     0.224502\n",
      "ozone_mean                    0.169474\n",
      "ozone_median                  0.087057\n",
      "nitrogen_dioxide_min          0.020014\n",
      "nitrogen_dioxide_max          0.146204\n",
      "nitrogen_dioxide_mean         0.077802\n",
      "nitrogen_dioxide_median       0.069024\n",
      "fine_dust_pm10_min            0.097030\n",
      "fine_dust_pm10_max            0.081261\n",
      "fine_dust_pm10_mean           0.103794\n",
      "fine_dust_pm10_median         0.107517\n",
      "humidity_min                  0.066595\n",
      "humidity_max                  0.042499\n",
      "humidity_mean                 0.053268\n",
      "humidity_median               0.045191\n",
      "highest temperature_min       0.111076\n",
      "highest temperature_max       0.113107\n",
      "highest temperature_mean      0.111514\n",
      "highest temperature_median    0.112108\n",
      "lowest temperature_min        0.109261\n",
      "lowest temperature_max        0.105687\n",
      "lowest temperature_mean       0.107342\n",
      "lowest temperature_median     0.105390\n",
      "visitor                       1.000000\n",
      "weekday_1.0                   0.143782\n",
      "weekday_2.0                   0.128309\n",
      "weekday_3.0                   0.121218\n",
      "weekday_4.0                   0.117810\n",
      "weekday_5.0                   0.067994\n",
      "weekday_6.0                   0.284150\n",
      "weekday_7.0                   0.301814\n",
      "Name: visitor, dtype: float64\n"
     ]
    }
   ],
   "source": [
    "# row 생략 없이 출력\n",
    "pd.set_option('display.max_rows', None)\n",
    "# col 생략 없이 출력\n",
    "pd.set_option('display.max_columns', None)\n",
    "pearson = np.abs(df_corr['visitor'])\n",
    "\n",
    "print(pearson)"
   ]
  },
  {
   "attachments": {},
   "cell_type": "markdown",
   "metadata": {
    "collapsed": false
   },
   "source": [
    "## 상관도 높은 순서: 주말, 오존, 온도\n",
    "## sulfur_dioxide -> min, carbon_monoxide -> max, ozone -> max, nitrogen_dioxide -> min, fine_dust -> median, rainfall -> mean,\n",
    "## probability of precipitation -> min, humidity -> min, highest temp -> max, lowest temp -> min, wind speed -> min, wind direction -> min, skystate -> max"
   ]
  },
  {
   "cell_type": "code",
   "execution_count": 9,
   "metadata": {
    "collapsed": false
   },
   "outputs": [
    {
     "data": {
      "text/plain": [
       "sulfur_dioxide_min      -0.116007\n",
       "sulfur_dioxide_max      -0.015797\n",
       "sulfur_dioxide_mean     -0.040749\n",
       "sulfur_dioxide_median   -0.048785\n",
       "carbon_monoxide_min     -0.052174\n",
       "                           ...   \n",
       "weekday_3.0             -0.112544\n",
       "weekday_4.0             -0.101523\n",
       "weekday_5.0             -0.047098\n",
       "weekday_6.0              0.259337\n",
       "weekday_7.0              0.220517\n",
       "Name: visitor, Length: 100, dtype: float64"
      ]
     },
     "execution_count": 9,
     "metadata": {},
     "output_type": "execute_result"
    }
   ],
   "source": [
    "# Kendall correlation\n",
    "df_temp.corr(method='kendall')['visitor']"
   ]
  },
  {
   "attachments": {},
   "cell_type": "markdown",
   "metadata": {
    "collapsed": false
   },
   "source": [
    "## 상관도 높은 순서: 주말, 오존, 온도, 습도\n",
    "## sulfur_dioxide -> min, carbon_monoxide -> max, ozone -> max, nitrogen_dioxide -> max, fine_dust -> max, rainfall -> mean,\n",
    "## probability of precipitation -> min, humidity -> min, highest temp -> max, lowest temp -> min, wind speed -> median,\n",
    "## wind direction -> min, skystate -> max"
   ]
  },
  {
   "cell_type": "code",
   "execution_count": 10,
   "metadata": {
    "collapsed": false
   },
   "outputs": [
    {
     "data": {
      "text/plain": [
       "sulfur_dioxide_min      -0.152076\n",
       "sulfur_dioxide_max      -0.022849\n",
       "sulfur_dioxide_mean     -0.063964\n",
       "sulfur_dioxide_median   -0.069535\n",
       "carbon_monoxide_min     -0.071462\n",
       "                           ...   \n",
       "weekday_3.0             -0.137790\n",
       "weekday_4.0             -0.124296\n",
       "weekday_5.0             -0.057663\n",
       "weekday_6.0              0.317509\n",
       "weekday_7.0              0.269981\n",
       "Name: visitor, Length: 100, dtype: float64"
      ]
     },
     "execution_count": 10,
     "metadata": {},
     "output_type": "execute_result"
    }
   ],
   "source": [
    "# Spearman correlation\n",
    "df_temp.corr(method='spearman')['visitor']"
   ]
  },
  {
   "attachments": {},
   "cell_type": "markdown",
   "metadata": {
    "collapsed": false
   },
   "source": [
    "## 상관도 높은 순서: 오존, 온도, 습도 & 일산화탄소\n",
    "## sulfur_dioxide -> min, carbon_monoxide -> max, ozone -> max, nitrogen_dioxide -> max, fine_dust -> max, rainfall -> mean,\n",
    "## probability of precipitation -> min, humidity -> min, highest temp -> max, lowest temp -> min, wind speed -> mean med유사,\n",
    "## wind direction -> min, skystate -> max"
   ]
  },
  {
   "attachments": {},
   "cell_type": "markdown",
   "metadata": {
    "collapsed": false
   },
   "source": [
    "# 종합\n",
    "## sulfur_dioxide -> min, carbon_monoxide -> max, ozone -> max, nitrogen_dioxide -> max, fine_dust -> max, rainfall -> mean,\n",
    "## probability of precipitation -> min, humidity -> min, highest temp -> max, lowest temp -> min, wind speed -> med,\n",
    "## wind direction -> min, skystate -> max"
   ]
  },
  {
   "cell_type": "code",
   "execution_count": 67,
   "metadata": {
    "collapsed": false
   },
   "outputs": [],
   "source": [
    "# And the correlation coefficient was analyzed again only with the col with the best corr value\n",
    "selected_feat = ['sulfur_dioxide_min', 'carbon_monoxide_max', 'ozone_max', 'nitrogen_dioxide_max', 'fine_dust_pm10_max',                 'rainfall_mean', 'probability of precipitation_min', 'humidity_min', 'highest temperature_max',                 'lowest temperature_min', 'wind speed_median', 'visitor']"
   ]
  },
  {
   "cell_type": "code",
   "execution_count": 68,
   "metadata": {
    "collapsed": false
   },
   "outputs": [],
   "source": [
    "df_selected = df[selected_feat]"
   ]
  },
  {
   "cell_type": "code",
   "execution_count": 69,
   "metadata": {
    "collapsed": false
   },
   "outputs": [
    {
     "data": {
      "text/plain": [
       "sulfur_dioxide_min                 -0.021263\n",
       "carbon_monoxide_max                -0.110792\n",
       "ozone_max                           0.265874\n",
       "nitrogen_dioxide_max                0.090950\n",
       "fine_dust_pm10_max                  0.023442\n",
       "rainfall_mean                      -0.050165\n",
       "probability of precipitation_min    0.035505\n",
       "humidity_min                        0.074496\n",
       "highest temperature_max             0.175116\n",
       "lowest temperature_min              0.173374\n",
       "wind speed_median                  -0.055486\n",
       "visitor                             1.000000\n",
       "Name: visitor, dtype: float64"
      ]
     },
     "execution_count": 69,
     "metadata": {},
     "output_type": "execute_result"
    }
   ],
   "source": [
    "# Correlation of selected attributes\n",
    "df_selected.corr().iloc[:,-1]"
   ]
  },
  {
   "cell_type": "code",
   "execution_count": 70,
   "metadata": {
    "collapsed": false
   },
   "outputs": [
    {
     "data": {
      "text/plain": [
       "sulfur_dioxide_min                 -0.090991\n",
       "carbon_monoxide_max                -0.098737\n",
       "ozone_max                           0.259777\n",
       "nitrogen_dioxide_max                0.059088\n",
       "fine_dust_pm10_max                  0.028219\n",
       "rainfall_mean                       0.020338\n",
       "probability of precipitation_min    0.055104\n",
       "humidity_min                        0.091097\n",
       "highest temperature_max             0.178483\n",
       "lowest temperature_min              0.176299\n",
       "wind speed_median                  -0.072114\n",
       "visitor                             1.000000\n",
       "Name: visitor, dtype: float64"
      ]
     },
     "execution_count": 70,
     "metadata": {},
     "output_type": "execute_result"
    }
   ],
   "source": [
    "df_selected.corr(method='kendall').iloc[:,-1]"
   ]
  },
  {
   "cell_type": "code",
   "execution_count": 71,
   "metadata": {
    "collapsed": false
   },
   "outputs": [
    {
     "data": {
      "text/plain": [
       "sulfur_dioxide_min                 -0.125357\n",
       "carbon_monoxide_max                -0.148388\n",
       "ozone_max                           0.390589\n",
       "nitrogen_dioxide_max                0.087642\n",
       "fine_dust_pm10_max                  0.042020\n",
       "rainfall_mean                       0.027557\n",
       "probability of precipitation_min    0.073442\n",
       "humidity_min                        0.131807\n",
       "highest temperature_max             0.262179\n",
       "lowest temperature_min              0.257423\n",
       "wind speed_median                  -0.103605\n",
       "visitor                             1.000000\n",
       "Name: visitor, dtype: float64"
      ]
     },
     "execution_count": 71,
     "metadata": {},
     "output_type": "execute_result"
    }
   ],
   "source": [
    "df_selected.corr(method='spearman').iloc[:,-1]"
   ]
  },
  {
   "cell_type": "code",
   "execution_count": 72,
   "metadata": {
    "collapsed": false
   },
   "outputs": [
    {
     "data": {
      "text/plain": [
       "sulfur_dioxide_min                  0.021263\n",
       "carbon_monoxide_max                 0.110792\n",
       "ozone_max                           0.265874\n",
       "nitrogen_dioxide_max                0.090950\n",
       "fine_dust_pm10_max                  0.023442\n",
       "rainfall_mean                       0.050165\n",
       "probability of precipitation_min    0.035505\n",
       "humidity_min                        0.074496\n",
       "highest temperature_max             0.175116\n",
       "lowest temperature_min              0.173374\n",
       "wind speed_median                   0.055486\n",
       "visitor                             1.000000\n",
       "Name: visitor, dtype: float64"
      ]
     },
     "execution_count": 72,
     "metadata": {},
     "output_type": "execute_result"
    }
   ],
   "source": [
    "# Correlation absolute value of selected attributes\n",
    "abs(df_selected.corr().iloc[:,-1])"
   ]
  },
  {
   "cell_type": "code",
   "execution_count": 73,
   "metadata": {
    "collapsed": false
   },
   "outputs": [
    {
     "data": {
      "text/plain": [
       "sulfur_dioxide_min       0.090991\n",
       "sulfur_dioxide_max       0.026713\n",
       "sulfur_dioxide_mean      0.050574\n",
       "sulfur_dioxide_median    0.057604\n",
       "sulfur_dioxide_std       0.055543\n",
       "                           ...   \n",
       "weekday_3.0              0.098525\n",
       "weekday_4.0              0.081009\n",
       "weekday_5.0              0.038320\n",
       "weekday_6.0              0.213039\n",
       "weekday_7.0              0.219046\n",
       "Name: visitor, Length: 116, dtype: float64"
      ]
     },
     "execution_count": 73,
     "metadata": {},
     "output_type": "execute_result"
    }
   ],
   "source": [
    "abs(df_temp.corr(method='kendall')['visitor'])"
   ]
  },
  {
   "cell_type": "code",
   "execution_count": 74,
   "metadata": {
    "collapsed": false
   },
   "outputs": [
    {
     "data": {
      "text/plain": [
       "sulfur_dioxide_min       0.125357\n",
       "sulfur_dioxide_max       0.040178\n",
       "sulfur_dioxide_mean      0.079862\n",
       "sulfur_dioxide_median    0.085453\n",
       "sulfur_dioxide_std       0.083915\n",
       "                           ...   \n",
       "weekday_3.0              0.120649\n",
       "weekday_4.0              0.099199\n",
       "weekday_5.0              0.046925\n",
       "weekday_6.0              0.260876\n",
       "weekday_7.0              0.268231\n",
       "Name: visitor, Length: 116, dtype: float64"
      ]
     },
     "execution_count": 74,
     "metadata": {},
     "output_type": "execute_result"
    }
   ],
   "source": [
    "abs(df_temp.corr(method='spearman')['visitor'])"
   ]
  },
  {
   "cell_type": "code",
   "execution_count": 78,
   "metadata": {
    "collapsed": false
   },
   "outputs": [
    {
     "data": {
      "text/plain": [
       "count    3.951000e+03\n",
       "mean    -4.018271e-16\n",
       "std      1.000127e+00\n",
       "min     -2.604460e+00\n",
       "25%     -8.658486e-01\n",
       "50%      1.966364e-01\n",
       "75%      8.727631e-01\n",
       "max      1.838659e+00\n",
       "Name: highest temperature_max, dtype: float64"
      ]
     },
     "execution_count": 78,
     "metadata": {},
     "output_type": "execute_result"
    }
   ],
   "source": [
    "df_temp['highest temperature_max'].describe()"
   ]
  }
 ],
 "metadata": {
  "kernelspec": {
   "display_name": "Python 3",
   "language": "python",
   "name": "python3"
  },
  "language_info": {
   "codemirror_mode": {
    "name": "ipython",
    "version": 3
   },
   "file_extension": ".py",
   "mimetype": "text/x-python",
   "name": "python",
   "nbconvert_exporter": "python",
   "pygments_lexer": "ipython3",
   "version": "3.10.8"
  }
 },
 "nbformat": 4,
 "nbformat_minor": 0
}
