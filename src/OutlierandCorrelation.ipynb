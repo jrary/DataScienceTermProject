{
 "cells": [
  {
   "cell_type": "code",
   "execution_count": 2,
   "metadata": {
    "collapsed": true
   },
   "outputs": [],
   "source": [
    "import pandas as pd\n",
    "import numpy as np\n",
    "import matplotlib.pyplot as plt\n",
    "import seaborn as sns"
   ]
  },
  {
   "cell_type": "code",
   "execution_count": 36,
   "metadata": {
    "collapsed": false
   },
   "outputs": [],
   "source": [
    "df_columns = ['rainfall_min', 'rainfall_max', 'rainfall_mean', 'rainfall_median', 'rainfall_std']"
   ]
  },
  {
   "cell_type": "code",
   "execution_count": 37,
   "metadata": {
    "collapsed": false
   },
   "outputs": [],
   "source": [
    "def outlier(col):\n",
    "    plt.figure()\n",
    "    ax = plt.gca()\n",
    "    ax.boxplot(col)\n",
    "    ax.set_ylabel('Value')\n",
    "\n",
    "def detect_outliers(data):\n",
    "    # 1분위수, 3분위수, IQR 계산\n",
    "    q1 = np.percentile(data, 25)\n",
    "    q3 = np.percentile(data, 75)\n",
    "    iqr = q3 - q1\n",
    "\n",
    "    # 이상치 경계 설정\n",
    "    lower_bound = q1 - 1.5 * iqr\n",
    "    upper_bound = q3 + 1.5 * iqr\n",
    "\n",
    "    # 이상치 식별\n",
    "    outliers = (data < lower_bound) | (data > upper_bound)\n",
    "\n",
    "    return outliers"
   ]
  },
  {
   "cell_type": "code",
   "execution_count": 38,
   "metadata": {
    "collapsed": false
   },
   "outputs": [],
   "source": [
    "df_visitor = pd.read_csv(\"assets/output/visitors.csv\")"
   ]
  },
  {
   "cell_type": "code",
   "execution_count": 39,
   "metadata": {
    "collapsed": false
   },
   "outputs": [],
   "source": [
    "df_visitor['visitor'] = df_visitor['visitor'].str.replace(',', '')"
   ]
  },
  {
   "cell_type": "code",
   "execution_count": 40,
   "metadata": {
    "collapsed": false
   },
   "outputs": [],
   "source": [
    "df_visitor['visitor'] = df_visitor['visitor'].astype(int)"
   ]
  },
  {
   "cell_type": "code",
   "execution_count": 41,
   "metadata": {
    "collapsed": false
   },
   "outputs": [
    {
     "data": {
      "image/png": "[encoded data removed]",
      "text/plain": [
       "<Figure size 432x288 with 1 Axes>"
      ]
     },
     "metadata": {},
     "output_type": "display_data"
    }
   ],
   "source": [
    "outlier(df_visitor['visitor'])"
   ]
  },
  {
   "cell_type": "code",
   "execution_count": 42,
   "metadata": {
    "collapsed": false
   },
   "outputs": [
    {
     "data": {
      "text/html": [
       "<div>\n",
       "<style scoped>\n",
       "    .dataframe tbody tr th:only-of-type {\n",
       "        vertical-align: middle;\n",
       "    }\n",
       "\n",
       "    .dataframe tbody tr th {\n",
       "        vertical-align: top;\n",
       "    }\n",
       "\n",
       "    .dataframe thead th {\n",
       "        text-align: right;\n",
       "    }\n",
       "</style>\n",
       "<table border=\"1\" class=\"dataframe\">\n",
       "  <thead>\n",
       "    <tr style=\"text-align: right;\">\n",
       "      <th></th>\n",
       "      <th>visitor</th>\n",
       "    </tr>\n",
       "  </thead>\n",
       "  <tbody>\n",
       "    <tr>\n",
       "      <th>count</th>\n",
       "      <td>3951.000000</td>\n",
       "    </tr>\n",
       "    <tr>\n",
       "      <th>mean</th>\n",
       "      <td>9122.186029</td>\n",
       "    </tr>\n",
       "    <tr>\n",
       "      <th>std</th>\n",
       "      <td>11653.034037</td>\n",
       "    </tr>\n",
       "    <tr>\n",
       "      <th>min</th>\n",
       "      <td>2.000000</td>\n",
       "    </tr>\n",
       "    <tr>\n",
       "      <th>25%</th>\n",
       "      <td>1840.000000</td>\n",
       "    </tr>\n",
       "    <tr>\n",
       "      <th>50%</th>\n",
       "      <td>4619.000000</td>\n",
       "    </tr>\n",
       "    <tr>\n",
       "      <th>75%</th>\n",
       "      <td>11280.500000</td>\n",
       "    </tr>\n",
       "    <tr>\n",
       "      <th>max</th>\n",
       "      <td>115002.000000</td>\n",
       "    </tr>\n",
       "  </tbody>\n",
       "</table>\n",
       "</div>"
      ],
      "text/plain": [
       "             visitor\n",
       "count    3951.000000\n",
       "mean     9122.186029\n",
       "std     11653.034037\n",
       "min         2.000000\n",
       "25%      1840.000000\n",
       "50%      4619.000000\n",
       "75%     11280.500000\n",
       "max    115002.000000"
      ]
     },
     "execution_count": 42,
     "metadata": {},
     "output_type": "execute_result"
    }
   ],
   "source": [
    "df_visitor.describe()"
   ]
  },
  {
   "cell_type": "code",
   "execution_count": 43,
   "metadata": {
    "collapsed": false
   },
   "outputs": [
    {
     "name": "stdout",
     "output_type": "stream",
     "text": [
      "q1: 1840.0 q3: 11280.5\n"
     ]
    }
   ],
   "source": [
    "q1 = np.percentile(df_visitor['visitor'], 25)\n",
    "q3 = np.percentile(df_visitor['visitor'], 75)\n",
    "print(\"q1: {} q3: {}\".format(q1, q3))"
   ]
  },
  {
   "cell_type": "code",
   "execution_count": 44,
   "metadata": {
    "collapsed": false
   },
   "outputs": [],
   "source": [
    "outliers = detect_outliers(df_visitor['visitor'])"
   ]
  },
  {
   "cell_type": "code",
   "execution_count": 45,
   "metadata": {
    "collapsed": false
   },
   "outputs": [],
   "source": [
    "non_outliers = df_visitor[~outliers]"
   ]
  },
  {
   "cell_type": "code",
   "execution_count": 46,
   "metadata": {
    "collapsed": false
   },
   "outputs": [
    {
     "data": {
      "text/plain": [
       "0       11483\n",
       "1       14012\n",
       "5        8374\n",
       "6       13540\n",
       "7       13507\n",
       "        ...  \n",
       "3946     2236\n",
       "3947      925\n",
       "3948      757\n",
       "3949     2013\n",
       "3950      628\n",
       "Name: visitor, Length: 3586, dtype: int32"
      ]
     },
     "execution_count": 46,
     "metadata": {},
     "output_type": "execute_result"
    }
   ],
   "source": [
    "non_outliers['visitor']"
   ]
  },
  {
   "cell_type": "code",
   "execution_count": 47,
   "metadata": {
    "collapsed": false
   },
   "outputs": [
    {
     "data": {
      "image/png": "[encoded data removed]",
      "text/plain": [
       "<Figure size 432x288 with 1 Axes>"
      ]
     },
     "metadata": {},
     "output_type": "display_data"
    }
   ],
   "source": [
    "outlier(non_outliers['visitor'])"
   ]
  },
  {
   "cell_type": "code",
   "execution_count": 48,
   "metadata": {
    "collapsed": false
   },
   "outputs": [
    {
     "data": {
      "text/html": [
       "<div>\n",
       "<style scoped>\n",
       "    .dataframe tbody tr th:only-of-type {\n",
       "        vertical-align: middle;\n",
       "    }\n",
       "\n",
       "    .dataframe tbody tr th {\n",
       "        vertical-align: top;\n",
       "    }\n",
       "\n",
       "    .dataframe thead th {\n",
       "        text-align: right;\n",
       "    }\n",
       "</style>\n",
       "<table border=\"1\" class=\"dataframe\">\n",
       "  <thead>\n",
       "    <tr style=\"text-align: right;\">\n",
       "      <th></th>\n",
       "      <th>visitor</th>\n",
       "    </tr>\n",
       "  </thead>\n",
       "  <tbody>\n",
       "    <tr>\n",
       "      <th>count</th>\n",
       "      <td>3586.000000</td>\n",
       "    </tr>\n",
       "    <tr>\n",
       "      <th>mean</th>\n",
       "      <td>6098.088399</td>\n",
       "    </tr>\n",
       "    <tr>\n",
       "      <th>std</th>\n",
       "      <td>5901.432713</td>\n",
       "    </tr>\n",
       "    <tr>\n",
       "      <th>min</th>\n",
       "      <td>2.000000</td>\n",
       "    </tr>\n",
       "    <tr>\n",
       "      <th>25%</th>\n",
       "      <td>1692.250000</td>\n",
       "    </tr>\n",
       "    <tr>\n",
       "      <th>50%</th>\n",
       "      <td>3909.000000</td>\n",
       "    </tr>\n",
       "    <tr>\n",
       "      <th>75%</th>\n",
       "      <td>8441.000000</td>\n",
       "    </tr>\n",
       "    <tr>\n",
       "      <th>max</th>\n",
       "      <td>25286.000000</td>\n",
       "    </tr>\n",
       "  </tbody>\n",
       "</table>\n",
       "</div>"
      ],
      "text/plain": [
       "            visitor\n",
       "count   3586.000000\n",
       "mean    6098.088399\n",
       "std     5901.432713\n",
       "min        2.000000\n",
       "25%     1692.250000\n",
       "50%     3909.000000\n",
       "75%     8441.000000\n",
       "max    25286.000000"
      ]
     },
     "execution_count": 48,
     "metadata": {},
     "output_type": "execute_result"
    }
   ],
   "source": [
    "non_outliers.describe()"
   ]
  },
  {
   "cell_type": "code",
   "execution_count": 49,
   "metadata": {
    "collapsed": false
   },
   "outputs": [
    {
     "name": "stdout",
     "output_type": "stream",
     "text": [
      "q1: 1692.25 q3: 8441.0\n"
     ]
    }
   ],
   "source": [
    "q1 = np.percentile(non_outliers['visitor'], 25)\n",
    "q3 = np.percentile(non_outliers['visitor'], 75)\n",
    "print(\"q1: {} q3: {}\".format(q1, q3))"
   ]
  },
  {
   "cell_type": "code",
   "execution_count": 18,
   "metadata": {
    "collapsed": false
   },
   "outputs": [],
   "source": [
    "df = pd.read_csv('assets/output/preprocessedDataset.csv')"
   ]
  },
  {
   "cell_type": "code",
   "execution_count": 19,
   "metadata": {
    "collapsed": false
   },
   "outputs": [
    {
     "data": {
      "text/html": [
       "<div>\n",
       "<style scoped>\n",
       "    .dataframe tbody tr th:only-of-type {\n",
       "        vertical-align: middle;\n",
       "    }\n",
       "\n",
       "    .dataframe tbody tr th {\n",
       "        vertical-align: top;\n",
       "    }\n",
       "\n",
       "    .dataframe thead th {\n",
       "        text-align: right;\n",
       "    }\n",
       "</style>\n",
       "<table border=\"1\" class=\"dataframe\">\n",
       "  <thead>\n",
       "    <tr style=\"text-align: right;\">\n",
       "      <th></th>\n",
       "      <th>sulfur_dioxide_min</th>\n",
       "      <th>sulfur_dioxide_max</th>\n",
       "      <th>sulfur_dioxide_mean</th>\n",
       "      <th>sulfur_dioxide_median</th>\n",
       "      <th>carbon_monoxide_min</th>\n",
       "      <th>carbon_monoxide_max</th>\n",
       "      <th>carbon_monoxide_mean</th>\n",
       "      <th>carbon_monoxide_median</th>\n",
       "      <th>ozone_min</th>\n",
       "      <th>ozone_max</th>\n",
       "      <th>ozone_mean</th>\n",
       "      <th>ozone_median</th>\n",
       "      <th>nitrogen_dioxide_min</th>\n",
       "      <th>nitrogen_dioxide_max</th>\n",
       "      <th>nitrogen_dioxide_mean</th>\n",
       "      <th>nitrogen_dioxide_median</th>\n",
       "      <th>fine_dust_pm10_min</th>\n",
       "      <th>fine_dust_pm10_max</th>\n",
       "      <th>fine_dust_pm10_mean</th>\n",
       "      <th>fine_dust_pm10_median</th>\n",
       "      <th>humidity_min</th>\n",
       "      <th>humidity_max</th>\n",
       "      <th>humidity_mean</th>\n",
       "      <th>humidity_median</th>\n",
       "      <th>highest temperature_min</th>\n",
       "      <th>highest temperature_max</th>\n",
       "      <th>highest temperature_mean</th>\n",
       "      <th>highest temperature_median</th>\n",
       "      <th>lowest temperature_min</th>\n",
       "      <th>lowest temperature_max</th>\n",
       "      <th>lowest temperature_mean</th>\n",
       "      <th>lowest temperature_median</th>\n",
       "      <th>visitor</th>\n",
       "      <th>weekday_1.0</th>\n",
       "      <th>weekday_2.0</th>\n",
       "      <th>weekday_3.0</th>\n",
       "      <th>weekday_4.0</th>\n",
       "      <th>weekday_5.0</th>\n",
       "      <th>weekday_6.0</th>\n",
       "      <th>weekday_7.0</th>\n",
       "    </tr>\n",
       "  </thead>\n",
       "  <tbody>\n",
       "    <tr>\n",
       "      <th>count</th>\n",
       "      <td>2.899000e+03</td>\n",
       "      <td>2.899000e+03</td>\n",
       "      <td>2.899000e+03</td>\n",
       "      <td>2.899000e+03</td>\n",
       "      <td>2.899000e+03</td>\n",
       "      <td>2.899000e+03</td>\n",
       "      <td>2.899000e+03</td>\n",
       "      <td>2.899000e+03</td>\n",
       "      <td>2.899000e+03</td>\n",
       "      <td>2.899000e+03</td>\n",
       "      <td>2.899000e+03</td>\n",
       "      <td>2.899000e+03</td>\n",
       "      <td>2.899000e+03</td>\n",
       "      <td>2.899000e+03</td>\n",
       "      <td>2.899000e+03</td>\n",
       "      <td>2.899000e+03</td>\n",
       "      <td>2.899000e+03</td>\n",
       "      <td>2.899000e+03</td>\n",
       "      <td>2.899000e+03</td>\n",
       "      <td>2.899000e+03</td>\n",
       "      <td>2.899000e+03</td>\n",
       "      <td>2.899000e+03</td>\n",
       "      <td>2.899000e+03</td>\n",
       "      <td>2.899000e+03</td>\n",
       "      <td>2.899000e+03</td>\n",
       "      <td>2.899000e+03</td>\n",
       "      <td>2.899000e+03</td>\n",
       "      <td>2.899000e+03</td>\n",
       "      <td>2.899000e+03</td>\n",
       "      <td>2.899000e+03</td>\n",
       "      <td>2.899000e+03</td>\n",
       "      <td>2.899000e+03</td>\n",
       "      <td>2899.000000</td>\n",
       "      <td>2899.000000</td>\n",
       "      <td>2899.000000</td>\n",
       "      <td>2899.000000</td>\n",
       "      <td>2899.000000</td>\n",
       "      <td>2899.000000</td>\n",
       "      <td>2899.000000</td>\n",
       "      <td>2899.000000</td>\n",
       "    </tr>\n",
       "    <tr>\n",
       "      <th>mean</th>\n",
       "      <td>-5.882382e-17</td>\n",
       "      <td>-2.352953e-16</td>\n",
       "      <td>1.960794e-16</td>\n",
       "      <td>-2.352953e-16</td>\n",
       "      <td>2.205893e-16</td>\n",
       "      <td>3.088251e-16</td>\n",
       "      <td>2.058834e-16</td>\n",
       "      <td>-1.225496e-16</td>\n",
       "      <td>-8.823573e-17</td>\n",
       "      <td>-1.617655e-16</td>\n",
       "      <td>2.450993e-18</td>\n",
       "      <td>-3.431390e-17</td>\n",
       "      <td>-7.843176e-17</td>\n",
       "      <td>-3.529429e-16</td>\n",
       "      <td>-2.156873e-16</td>\n",
       "      <td>4.411787e-17</td>\n",
       "      <td>-5.637283e-17</td>\n",
       "      <td>9.803970e-17</td>\n",
       "      <td>-2.745112e-16</td>\n",
       "      <td>-3.921588e-17</td>\n",
       "      <td>-3.921588e-17</td>\n",
       "      <td>-7.475527e-16</td>\n",
       "      <td>3.186290e-16</td>\n",
       "      <td>3.799038e-16</td>\n",
       "      <td>-1.960794e-17</td>\n",
       "      <td>1.764715e-16</td>\n",
       "      <td>-1.470596e-16</td>\n",
       "      <td>9.803970e-17</td>\n",
       "      <td>1.666675e-16</td>\n",
       "      <td>-5.882382e-17</td>\n",
       "      <td>-2.941191e-17</td>\n",
       "      <td>3.921588e-17</td>\n",
       "      <td>9380.400483</td>\n",
       "      <td>0.147637</td>\n",
       "      <td>0.145912</td>\n",
       "      <td>0.141083</td>\n",
       "      <td>0.140048</td>\n",
       "      <td>0.145222</td>\n",
       "      <td>0.140738</td>\n",
       "      <td>0.139358</td>\n",
       "    </tr>\n",
       "    <tr>\n",
       "      <th>std</th>\n",
       "      <td>1.000173e+00</td>\n",
       "      <td>1.000173e+00</td>\n",
       "      <td>1.000173e+00</td>\n",
       "      <td>1.000173e+00</td>\n",
       "      <td>1.000173e+00</td>\n",
       "      <td>1.000173e+00</td>\n",
       "      <td>1.000173e+00</td>\n",
       "      <td>1.000173e+00</td>\n",
       "      <td>1.000173e+00</td>\n",
       "      <td>1.000173e+00</td>\n",
       "      <td>1.000173e+00</td>\n",
       "      <td>1.000173e+00</td>\n",
       "      <td>1.000173e+00</td>\n",
       "      <td>1.000173e+00</td>\n",
       "      <td>1.000173e+00</td>\n",
       "      <td>1.000173e+00</td>\n",
       "      <td>1.000173e+00</td>\n",
       "      <td>1.000173e+00</td>\n",
       "      <td>1.000173e+00</td>\n",
       "      <td>1.000173e+00</td>\n",
       "      <td>1.000173e+00</td>\n",
       "      <td>1.000173e+00</td>\n",
       "      <td>1.000173e+00</td>\n",
       "      <td>1.000173e+00</td>\n",
       "      <td>1.000173e+00</td>\n",
       "      <td>1.000173e+00</td>\n",
       "      <td>1.000173e+00</td>\n",
       "      <td>1.000173e+00</td>\n",
       "      <td>1.000173e+00</td>\n",
       "      <td>1.000173e+00</td>\n",
       "      <td>1.000173e+00</td>\n",
       "      <td>1.000173e+00</td>\n",
       "      <td>11441.201377</td>\n",
       "      <td>0.354801</td>\n",
       "      <td>0.353079</td>\n",
       "      <td>0.348167</td>\n",
       "      <td>0.347097</td>\n",
       "      <td>0.352386</td>\n",
       "      <td>0.347811</td>\n",
       "      <td>0.346380</td>\n",
       "    </tr>\n",
       "    <tr>\n",
       "      <th>min</th>\n",
       "      <td>-2.413301e+00</td>\n",
       "      <td>-1.610135e+00</td>\n",
       "      <td>-1.721856e+00</td>\n",
       "      <td>-1.640693e+00</td>\n",
       "      <td>-3.419278e+00</td>\n",
       "      <td>-2.357827e+00</td>\n",
       "      <td>-2.868181e+00</td>\n",
       "      <td>-2.745259e+00</td>\n",
       "      <td>-6.370697e-01</td>\n",
       "      <td>-1.872105e+00</td>\n",
       "      <td>-1.819604e+00</td>\n",
       "      <td>-1.357282e+00</td>\n",
       "      <td>-1.596500e+00</td>\n",
       "      <td>-2.817980e+00</td>\n",
       "      <td>-2.394184e+00</td>\n",
       "      <td>-2.238851e+00</td>\n",
       "      <td>-1.505788e+00</td>\n",
       "      <td>-2.187318e+00</td>\n",
       "      <td>-2.154300e+00</td>\n",
       "      <td>-2.076446e+00</td>\n",
       "      <td>-2.405488e+00</td>\n",
       "      <td>-3.176600e+00</td>\n",
       "      <td>-2.803438e+00</td>\n",
       "      <td>-2.688032e+00</td>\n",
       "      <td>-2.391468e+00</td>\n",
       "      <td>-2.564238e+00</td>\n",
       "      <td>-2.439808e+00</td>\n",
       "      <td>-2.549545e+00</td>\n",
       "      <td>-2.431146e+00</td>\n",
       "      <td>-2.755583e+00</td>\n",
       "      <td>-2.592144e+00</td>\n",
       "      <td>-2.580801e+00</td>\n",
       "      <td>2.000000</td>\n",
       "      <td>0.000000</td>\n",
       "      <td>0.000000</td>\n",
       "      <td>0.000000</td>\n",
       "      <td>0.000000</td>\n",
       "      <td>0.000000</td>\n",
       "      <td>0.000000</td>\n",
       "      <td>0.000000</td>\n",
       "    </tr>\n",
       "    <tr>\n",
       "      <th>25%</th>\n",
       "      <td>-6.655719e-01</td>\n",
       "      <td>-9.345263e-01</td>\n",
       "      <td>-8.020603e-01</td>\n",
       "      <td>-1.043684e+00</td>\n",
       "      <td>-9.025667e-01</td>\n",
       "      <td>-5.791799e-01</td>\n",
       "      <td>-6.820386e-01</td>\n",
       "      <td>-8.634448e-01</td>\n",
       "      <td>-6.370697e-01</td>\n",
       "      <td>-7.043482e-01</td>\n",
       "      <td>-7.696003e-01</td>\n",
       "      <td>-8.886296e-01</td>\n",
       "      <td>-7.254517e-01</td>\n",
       "      <td>-6.580510e-01</td>\n",
       "      <td>-7.657952e-01</td>\n",
       "      <td>-7.703763e-01</td>\n",
       "      <td>-7.609616e-01</td>\n",
       "      <td>-6.783726e-01</td>\n",
       "      <td>-7.371312e-01</td>\n",
       "      <td>-7.742462e-01</td>\n",
       "      <td>-6.849592e-01</td>\n",
       "      <td>-4.162187e-01</td>\n",
       "      <td>-6.856860e-01</td>\n",
       "      <td>-7.130106e-01</td>\n",
       "      <td>-8.252516e-01</td>\n",
       "      <td>-8.772718e-01</td>\n",
       "      <td>-8.535690e-01</td>\n",
       "      <td>-8.514643e-01</td>\n",
       "      <td>-8.566575e-01</td>\n",
       "      <td>-8.299996e-01</td>\n",
       "      <td>-8.312619e-01</td>\n",
       "      <td>-8.433137e-01</td>\n",
       "      <td>2049.000000</td>\n",
       "      <td>0.000000</td>\n",
       "      <td>0.000000</td>\n",
       "      <td>0.000000</td>\n",
       "      <td>0.000000</td>\n",
       "      <td>0.000000</td>\n",
       "      <td>0.000000</td>\n",
       "      <td>0.000000</td>\n",
       "    </tr>\n",
       "    <tr>\n",
       "      <th>50%</th>\n",
       "      <td>-6.655719e-01</td>\n",
       "      <td>-2.589174e-01</td>\n",
       "      <td>-2.302953e-01</td>\n",
       "      <td>-4.466753e-01</td>\n",
       "      <td>-6.366293e-02</td>\n",
       "      <td>-2.234505e-01</td>\n",
       "      <td>-1.366560e-01</td>\n",
       "      <td>-2.361734e-01</td>\n",
       "      <td>-4.369326e-01</td>\n",
       "      <td>-1.621756e-01</td>\n",
       "      <td>-1.094100e-01</td>\n",
       "      <td>-1.643493e-01</td>\n",
       "      <td>-2.277097e-01</td>\n",
       "      <td>1.692683e-02</td>\n",
       "      <td>-8.957872e-02</td>\n",
       "      <td>-1.279185e-01</td>\n",
       "      <td>-1.651002e-01</td>\n",
       "      <td>-1.296650e-01</td>\n",
       "      <td>-1.160416e-01</td>\n",
       "      <td>-9.483755e-02</td>\n",
       "      <td>3.252328e-03</td>\n",
       "      <td>1.358576e-01</td>\n",
       "      <td>1.487386e-02</td>\n",
       "      <td>7.699790e-02</td>\n",
       "      <td>1.941790e-01</td>\n",
       "      <td>2.142947e-01</td>\n",
       "      <td>2.124346e-01</td>\n",
       "      <td>1.920489e-01</td>\n",
       "      <td>6.951225e-02</td>\n",
       "      <td>8.211899e-02</td>\n",
       "      <td>8.092163e-02</td>\n",
       "      <td>1.219570e-01</td>\n",
       "      <td>4970.000000</td>\n",
       "      <td>0.000000</td>\n",
       "      <td>0.000000</td>\n",
       "      <td>0.000000</td>\n",
       "      <td>0.000000</td>\n",
       "      <td>0.000000</td>\n",
       "      <td>0.000000</td>\n",
       "      <td>0.000000</td>\n",
       "    </tr>\n",
       "    <tr>\n",
       "      <th>75%</th>\n",
       "      <td>2.082927e-01</td>\n",
       "      <td>4.166915e-01</td>\n",
       "      <td>5.794091e-01</td>\n",
       "      <td>7.473420e-01</td>\n",
       "      <td>7.752409e-01</td>\n",
       "      <td>4.880081e-01</td>\n",
       "      <td>5.793749e-01</td>\n",
       "      <td>3.910980e-01</td>\n",
       "      <td>-3.665843e-02</td>\n",
       "      <td>6.302305e-01</td>\n",
       "      <td>6.870558e-01</td>\n",
       "      <td>6.451405e-01</td>\n",
       "      <td>5.189034e-01</td>\n",
       "      <td>6.919046e-01</td>\n",
       "      <td>7.226570e-01</td>\n",
       "      <td>6.980987e-01</td>\n",
       "      <td>5.797264e-01</td>\n",
       "      <td>5.905136e-01</td>\n",
       "      <td>6.257128e-01</td>\n",
       "      <td>6.411885e-01</td>\n",
       "      <td>6.914639e-01</td>\n",
       "      <td>6.879339e-01</td>\n",
       "      <td>7.159469e-01</td>\n",
       "      <td>8.670064e-01</td>\n",
       "      <td>8.429076e-01</td>\n",
       "      <td>9.089278e-01</td>\n",
       "      <td>8.699099e-01</td>\n",
       "      <td>8.561028e-01</td>\n",
       "      <td>9.030651e-01</td>\n",
       "      <td>7.915446e-01</td>\n",
       "      <td>8.646157e-01</td>\n",
       "      <td>8.941735e-01</td>\n",
       "      <td>11530.500000</td>\n",
       "      <td>0.000000</td>\n",
       "      <td>0.000000</td>\n",
       "      <td>0.000000</td>\n",
       "      <td>0.000000</td>\n",
       "      <td>0.000000</td>\n",
       "      <td>0.000000</td>\n",
       "      <td>0.000000</td>\n",
       "    </tr>\n",
       "    <tr>\n",
       "      <th>max</th>\n",
       "      <td>4.577616e+00</td>\n",
       "      <td>4.470345e+00</td>\n",
       "      <td>3.871497e+00</td>\n",
       "      <td>3.433881e+00</td>\n",
       "      <td>4.130856e+00</td>\n",
       "      <td>4.045302e+00</td>\n",
       "      <td>3.443499e+00</td>\n",
       "      <td>3.213819e+00</td>\n",
       "      <td>4.566495e+00</td>\n",
       "      <td>3.132566e+00</td>\n",
       "      <td>3.046835e+00</td>\n",
       "      <td>2.988400e+00</td>\n",
       "      <td>3.505356e+00</td>\n",
       "      <td>3.121825e+00</td>\n",
       "      <td>3.066927e+00</td>\n",
       "      <td>3.038481e+00</td>\n",
       "      <td>3.782481e+00</td>\n",
       "      <td>4.328584e+00</td>\n",
       "      <td>3.262982e+00</td>\n",
       "      <td>3.075736e+00</td>\n",
       "      <td>2.893741e+00</td>\n",
       "      <td>1.792086e+00</td>\n",
       "      <td>2.538535e+00</td>\n",
       "      <td>2.447023e+00</td>\n",
       "      <td>1.955014e+00</td>\n",
       "      <td>1.802028e+00</td>\n",
       "      <td>1.902989e+00</td>\n",
       "      <td>1.899616e+00</td>\n",
       "      <td>1.736618e+00</td>\n",
       "      <td>1.703663e+00</td>\n",
       "      <td>1.757663e+00</td>\n",
       "      <td>1.762917e+00</td>\n",
       "      <td>96434.000000</td>\n",
       "      <td>1.000000</td>\n",
       "      <td>1.000000</td>\n",
       "      <td>1.000000</td>\n",
       "      <td>1.000000</td>\n",
       "      <td>1.000000</td>\n",
       "      <td>1.000000</td>\n",
       "      <td>1.000000</td>\n",
       "    </tr>\n",
       "  </tbody>\n",
       "</table>\n",
       "</div>"
      ],
      "text/plain": [
       "       sulfur_dioxide_min  sulfur_dioxide_max  sulfur_dioxide_mean  \\\n",
       "count        2.899000e+03        2.899000e+03         2.899000e+03   \n",
       "mean        -5.882382e-17       -2.352953e-16         1.960794e-16   \n",
       "std          1.000173e+00        1.000173e+00         1.000173e+00   \n",
       "min         -2.413301e+00       -1.610135e+00        -1.721856e+00   \n",
       "25%         -6.655719e-01       -9.345263e-01        -8.020603e-01   \n",
       "50%         -6.655719e-01       -2.589174e-01        -2.302953e-01   \n",
       "75%          2.082927e-01        4.166915e-01         5.794091e-01   \n",
       "max          4.577616e+00        4.470345e+00         3.871497e+00   \n",
       "\n",
       "       sulfur_dioxide_median  carbon_monoxide_min  carbon_monoxide_max  \\\n",
       "count           2.899000e+03         2.899000e+03         2.899000e+03   \n",
       "mean           -2.352953e-16         2.205893e-16         3.088251e-16   \n",
       "std             1.000173e+00         1.000173e+00         1.000173e+00   \n",
       "min            -1.640693e+00        -3.419278e+00        -2.357827e+00   \n",
       "25%            -1.043684e+00        -9.025667e-01        -5.791799e-01   \n",
       "50%            -4.466753e-01        -6.366293e-02        -2.234505e-01   \n",
       "75%             7.473420e-01         7.752409e-01         4.880081e-01   \n",
       "max             3.433881e+00         4.130856e+00         4.045302e+00   \n",
       "\n",
       "       carbon_monoxide_mean  carbon_monoxide_median     ozone_min  \\\n",
       "count          2.899000e+03            2.899000e+03  2.899000e+03   \n",
       "mean           2.058834e-16           -1.225496e-16 -8.823573e-17   \n",
       "std            1.000173e+00            1.000173e+00  1.000173e+00   \n",
       "min           -2.868181e+00           -2.745259e+00 -6.370697e-01   \n",
       "25%           -6.820386e-01           -8.634448e-01 -6.370697e-01   \n",
       "50%           -1.366560e-01           -2.361734e-01 -4.369326e-01   \n",
       "75%            5.793749e-01            3.910980e-01 -3.665843e-02   \n",
       "max            3.443499e+00            3.213819e+00  4.566495e+00   \n",
       "\n",
       "          ozone_max    ozone_mean  ozone_median  nitrogen_dioxide_min  \\\n",
       "count  2.899000e+03  2.899000e+03  2.899000e+03          2.899000e+03   \n",
       "mean  -1.617655e-16  2.450993e-18 -3.431390e-17         -7.843176e-17   \n",
       "std    1.000173e+00  1.000173e+00  1.000173e+00          1.000173e+00   \n",
       "min   -1.872105e+00 -1.819604e+00 -1.357282e+00         -1.596500e+00   \n",
       "25%   -7.043482e-01 -7.696003e-01 -8.886296e-01         -7.254517e-01   \n",
       "50%   -1.621756e-01 -1.094100e-01 -1.643493e-01         -2.277097e-01   \n",
       "75%    6.302305e-01  6.870558e-01  6.451405e-01          5.189034e-01   \n",
       "max    3.132566e+00  3.046835e+00  2.988400e+00          3.505356e+00   \n",
       "\n",
       "       nitrogen_dioxide_max  nitrogen_dioxide_mean  nitrogen_dioxide_median  \\\n",
       "count          2.899000e+03           2.899000e+03             2.899000e+03   \n",
       "mean          -3.529429e-16          -2.156873e-16             4.411787e-17   \n",
       "std            1.000173e+00           1.000173e+00             1.000173e+00   \n",
       "min           -2.817980e+00          -2.394184e+00            -2.238851e+00   \n",
       "25%           -6.580510e-01          -7.657952e-01            -7.703763e-01   \n",
       "50%            1.692683e-02          -8.957872e-02            -1.279185e-01   \n",
       "75%            6.919046e-01           7.226570e-01             6.980987e-01   \n",
       "max            3.121825e+00           3.066927e+00             3.038481e+00   \n",
       "\n",
       "       fine_dust_pm10_min  fine_dust_pm10_max  fine_dust_pm10_mean  \\\n",
       "count        2.899000e+03        2.899000e+03         2.899000e+03   \n",
       "mean        -5.637283e-17        9.803970e-17        -2.745112e-16   \n",
       "std          1.000173e+00        1.000173e+00         1.000173e+00   \n",
       "min         -1.505788e+00       -2.187318e+00        -2.154300e+00   \n",
       "25%         -7.609616e-01       -6.783726e-01        -7.371312e-01   \n",
       "50%         -1.651002e-01       -1.296650e-01        -1.160416e-01   \n",
       "75%          5.797264e-01        5.905136e-01         6.257128e-01   \n",
       "max          3.782481e+00        4.328584e+00         3.262982e+00   \n",
       "\n",
       "       fine_dust_pm10_median  humidity_min  humidity_max  humidity_mean  \\\n",
       "count           2.899000e+03  2.899000e+03  2.899000e+03   2.899000e+03   \n",
       "mean           -3.921588e-17 -3.921588e-17 -7.475527e-16   3.186290e-16   \n",
       "std             1.000173e+00  1.000173e+00  1.000173e+00   1.000173e+00   \n",
       "min            -2.076446e+00 -2.405488e+00 -3.176600e+00  -2.803438e+00   \n",
       "25%            -7.742462e-01 -6.849592e-01 -4.162187e-01  -6.856860e-01   \n",
       "50%            -9.483755e-02  3.252328e-03  1.358576e-01   1.487386e-02   \n",
       "75%             6.411885e-01  6.914639e-01  6.879339e-01   7.159469e-01   \n",
       "max             3.075736e+00  2.893741e+00  1.792086e+00   2.538535e+00   \n",
       "\n",
       "       humidity_median  highest temperature_min  highest temperature_max  \\\n",
       "count     2.899000e+03             2.899000e+03             2.899000e+03   \n",
       "mean      3.799038e-16            -1.960794e-17             1.764715e-16   \n",
       "std       1.000173e+00             1.000173e+00             1.000173e+00   \n",
       "min      -2.688032e+00            -2.391468e+00            -2.564238e+00   \n",
       "25%      -7.130106e-01            -8.252516e-01            -8.772718e-01   \n",
       "50%       7.699790e-02             1.941790e-01             2.142947e-01   \n",
       "75%       8.670064e-01             8.429076e-01             9.089278e-01   \n",
       "max       2.447023e+00             1.955014e+00             1.802028e+00   \n",
       "\n",
       "       highest temperature_mean  highest temperature_median  \\\n",
       "count              2.899000e+03                2.899000e+03   \n",
       "mean              -1.470596e-16                9.803970e-17   \n",
       "std                1.000173e+00                1.000173e+00   \n",
       "min               -2.439808e+00               -2.549545e+00   \n",
       "25%               -8.535690e-01               -8.514643e-01   \n",
       "50%                2.124346e-01                1.920489e-01   \n",
       "75%                8.699099e-01                8.561028e-01   \n",
       "max                1.902989e+00                1.899616e+00   \n",
       "\n",
       "       lowest temperature_min  lowest temperature_max  \\\n",
       "count            2.899000e+03            2.899000e+03   \n",
       "mean             1.666675e-16           -5.882382e-17   \n",
       "std              1.000173e+00            1.000173e+00   \n",
       "min             -2.431146e+00           -2.755583e+00   \n",
       "25%             -8.566575e-01           -8.299996e-01   \n",
       "50%              6.951225e-02            8.211899e-02   \n",
       "75%              9.030651e-01            7.915446e-01   \n",
       "max              1.736618e+00            1.703663e+00   \n",
       "\n",
       "       lowest temperature_mean  lowest temperature_median       visitor  \\\n",
       "count             2.899000e+03               2.899000e+03   2899.000000   \n",
       "mean             -2.941191e-17               3.921588e-17   9380.400483   \n",
       "std               1.000173e+00               1.000173e+00  11441.201377   \n",
       "min              -2.592144e+00              -2.580801e+00      2.000000   \n",
       "25%              -8.312619e-01              -8.433137e-01   2049.000000   \n",
       "50%               8.092163e-02               1.219570e-01   4970.000000   \n",
       "75%               8.646157e-01               8.941735e-01  11530.500000   \n",
       "max               1.757663e+00               1.762917e+00  96434.000000   \n",
       "\n",
       "       weekday_1.0  weekday_2.0  weekday_3.0  weekday_4.0  weekday_5.0  \\\n",
       "count  2899.000000  2899.000000  2899.000000  2899.000000  2899.000000   \n",
       "mean      0.147637     0.145912     0.141083     0.140048     0.145222   \n",
       "std       0.354801     0.353079     0.348167     0.347097     0.352386   \n",
       "min       0.000000     0.000000     0.000000     0.000000     0.000000   \n",
       "25%       0.000000     0.000000     0.000000     0.000000     0.000000   \n",
       "50%       0.000000     0.000000     0.000000     0.000000     0.000000   \n",
       "75%       0.000000     0.000000     0.000000     0.000000     0.000000   \n",
       "max       1.000000     1.000000     1.000000     1.000000     1.000000   \n",
       "\n",
       "       weekday_6.0  weekday_7.0  \n",
       "count  2899.000000  2899.000000  \n",
       "mean      0.140738     0.139358  \n",
       "std       0.347811     0.346380  \n",
       "min       0.000000     0.000000  \n",
       "25%       0.000000     0.000000  \n",
       "50%       0.000000     0.000000  \n",
       "75%       0.000000     0.000000  \n",
       "max       1.000000     1.000000  "
      ]
     },
     "execution_count": 19,
     "metadata": {},
     "output_type": "execute_result"
    }
   ],
   "source": [
    "df.describe()"
   ]
  },
  {
   "cell_type": "code",
   "execution_count": 20,
   "metadata": {
    "collapsed": false
   },
   "outputs": [],
   "source": [
    "df_temp = df.drop('date', axis=1)"
   ]
  },
  {
   "cell_type": "code",
   "execution_count": 53,
   "metadata": {
    "collapsed": false
   },
   "outputs": [
    {
     "data": {
      "text/plain": [
       "0       11483.0\n",
       "1       14012.0\n",
       "2       58660.0\n",
       "3       38961.0\n",
       "4       34852.0\n",
       "         ...   \n",
       "3946     2236.0\n",
       "3947      925.0\n",
       "3948      757.0\n",
       "3949     2013.0\n",
       "3950      628.0\n",
       "Name: visitor, Length: 3951, dtype: float64"
      ]
     },
     "execution_count": 53,
     "metadata": {},
     "output_type": "execute_result"
    }
   ],
   "source": [
    "df_temp['visitor']"
   ]
  },
  {
   "cell_type": "code",
   "execution_count": 54,
   "metadata": {
    "collapsed": false
   },
   "outputs": [],
   "source": [
    "# df_temp['visitor'] = df_temp['visitor'].str.replace(',', '')\n",
    "# df_temp['visitor'] = df_temp['visitor'].astype(int)"
   ]
  },
  {
   "cell_type": "code",
   "execution_count": 55,
   "metadata": {
    "collapsed": false
   },
   "outputs": [
    {
     "data": {
      "text/plain": [
       "(array([2.992e+03, 5.250e+02, 2.460e+02, 1.050e+02, 5.600e+01, 2.000e+01,\n",
       "        3.000e+00, 1.000e+00, 2.000e+00, 1.000e+00]),\n",
       " array([2.00000e+00, 1.15020e+04, 2.30020e+04, 3.45020e+04, 4.60020e+04,\n",
       "        5.75020e+04, 6.90020e+04, 8.05020e+04, 9.20020e+04, 1.03502e+05,\n",
       "        1.15002e+05]),\n",
       " <BarContainer object of 10 artists>)"
      ]
     },
     "execution_count": 55,
     "metadata": {},
     "output_type": "execute_result"
    },
    {
     "data": {
      "image/png": "[encoded data removed]",
      "text/plain": [
       "<Figure size 432x288 with 1 Axes>"
      ]
     },
     "metadata": {},
     "output_type": "display_data"
    }
   ],
   "source": [
    "plt.hist(df_temp['visitor'])"
   ]
  },
  {
   "cell_type": "code",
   "execution_count": 56,
   "metadata": {
    "collapsed": false
   },
   "outputs": [
    {
     "data": {
      "text/html": [
       "<div>\n",
       "<style scoped>\n",
       "    .dataframe tbody tr th:only-of-type {\n",
       "        vertical-align: middle;\n",
       "    }\n",
       "\n",
       "    .dataframe tbody tr th {\n",
       "        vertical-align: top;\n",
       "    }\n",
       "\n",
       "    .dataframe thead th {\n",
       "        text-align: right;\n",
       "    }\n",
       "</style>\n",
       "<table border=\"1\" class=\"dataframe\">\n",
       "  <thead>\n",
       "    <tr style=\"text-align: right;\">\n",
       "      <th></th>\n",
       "      <th>sulfur_dioxide_min</th>\n",
       "      <th>sulfur_dioxide_max</th>\n",
       "      <th>sulfur_dioxide_mean</th>\n",
       "      <th>sulfur_dioxide_median</th>\n",
       "      <th>sulfur_dioxide_std</th>\n",
       "      <th>carbon_monoxide_min</th>\n",
       "      <th>carbon_monoxide_max</th>\n",
       "      <th>carbon_monoxide_mean</th>\n",
       "      <th>carbon_monoxide_median</th>\n",
       "      <th>carbon_monoxide_std</th>\n",
       "      <th>...</th>\n",
       "      <th>sky state_median_2.0</th>\n",
       "      <th>sky state_median_3.0</th>\n",
       "      <th>sky state_median_4.0</th>\n",
       "      <th>weekday_1.0</th>\n",
       "      <th>weekday_2.0</th>\n",
       "      <th>weekday_3.0</th>\n",
       "      <th>weekday_4.0</th>\n",
       "      <th>weekday_5.0</th>\n",
       "      <th>weekday_6.0</th>\n",
       "      <th>weekday_7.0</th>\n",
       "    </tr>\n",
       "  </thead>\n",
       "  <tbody>\n",
       "    <tr>\n",
       "      <th>0</th>\n",
       "      <td>-0.103174</td>\n",
       "      <td>-0.610634</td>\n",
       "      <td>-0.464415</td>\n",
       "      <td>-0.537652</td>\n",
       "      <td>-0.720722</td>\n",
       "      <td>-1.369441</td>\n",
       "      <td>-0.158715</td>\n",
       "      <td>-0.528510</td>\n",
       "      <td>-0.402259</td>\n",
       "      <td>0.820602</td>\n",
       "      <td>...</td>\n",
       "      <td>1.0</td>\n",
       "      <td>0.0</td>\n",
       "      <td>0.0</td>\n",
       "      <td>0.0</td>\n",
       "      <td>0.0</td>\n",
       "      <td>1.0</td>\n",
       "      <td>0.0</td>\n",
       "      <td>0.0</td>\n",
       "      <td>0.0</td>\n",
       "      <td>0.0</td>\n",
       "    </tr>\n",
       "    <tr>\n",
       "      <th>1</th>\n",
       "      <td>-0.670446</td>\n",
       "      <td>0.226266</td>\n",
       "      <td>-0.221451</td>\n",
       "      <td>-0.166854</td>\n",
       "      <td>0.238398</td>\n",
       "      <td>-1.946222</td>\n",
       "      <td>-0.852389</td>\n",
       "      <td>-1.052815</td>\n",
       "      <td>-0.805120</td>\n",
       "      <td>-0.270850</td>\n",
       "      <td>...</td>\n",
       "      <td>1.0</td>\n",
       "      <td>0.0</td>\n",
       "      <td>0.0</td>\n",
       "      <td>0.0</td>\n",
       "      <td>0.0</td>\n",
       "      <td>0.0</td>\n",
       "      <td>1.0</td>\n",
       "      <td>0.0</td>\n",
       "      <td>0.0</td>\n",
       "      <td>0.0</td>\n",
       "    </tr>\n",
       "    <tr>\n",
       "      <th>2</th>\n",
       "      <td>0.464098</td>\n",
       "      <td>0.226266</td>\n",
       "      <td>0.158179</td>\n",
       "      <td>0.203943</td>\n",
       "      <td>-0.082826</td>\n",
       "      <td>-0.792661</td>\n",
       "      <td>-0.852389</td>\n",
       "      <td>-0.748380</td>\n",
       "      <td>-0.805120</td>\n",
       "      <td>-0.633946</td>\n",
       "      <td>...</td>\n",
       "      <td>0.0</td>\n",
       "      <td>1.0</td>\n",
       "      <td>0.0</td>\n",
       "      <td>0.0</td>\n",
       "      <td>0.0</td>\n",
       "      <td>0.0</td>\n",
       "      <td>0.0</td>\n",
       "      <td>1.0</td>\n",
       "      <td>0.0</td>\n",
       "      <td>0.0</td>\n",
       "    </tr>\n",
       "    <tr>\n",
       "      <th>3</th>\n",
       "      <td>0.464098</td>\n",
       "      <td>0.226266</td>\n",
       "      <td>0.461884</td>\n",
       "      <td>0.574741</td>\n",
       "      <td>0.123268</td>\n",
       "      <td>-0.792661</td>\n",
       "      <td>-0.621164</td>\n",
       "      <td>-0.714554</td>\n",
       "      <td>-0.603689</td>\n",
       "      <td>-0.473053</td>\n",
       "      <td>...</td>\n",
       "      <td>1.0</td>\n",
       "      <td>0.0</td>\n",
       "      <td>0.0</td>\n",
       "      <td>0.0</td>\n",
       "      <td>0.0</td>\n",
       "      <td>0.0</td>\n",
       "      <td>0.0</td>\n",
       "      <td>0.0</td>\n",
       "      <td>1.0</td>\n",
       "      <td>0.0</td>\n",
       "    </tr>\n",
       "    <tr>\n",
       "      <th>4</th>\n",
       "      <td>1.031370</td>\n",
       "      <td>0.435491</td>\n",
       "      <td>0.674477</td>\n",
       "      <td>0.574741</td>\n",
       "      <td>0.044930</td>\n",
       "      <td>-0.792661</td>\n",
       "      <td>-0.621164</td>\n",
       "      <td>-0.663815</td>\n",
       "      <td>-0.402259</td>\n",
       "      <td>-0.464889</td>\n",
       "      <td>...</td>\n",
       "      <td>1.0</td>\n",
       "      <td>0.0</td>\n",
       "      <td>0.0</td>\n",
       "      <td>0.0</td>\n",
       "      <td>0.0</td>\n",
       "      <td>0.0</td>\n",
       "      <td>0.0</td>\n",
       "      <td>0.0</td>\n",
       "      <td>0.0</td>\n",
       "      <td>1.0</td>\n",
       "    </tr>\n",
       "    <tr>\n",
       "      <th>...</th>\n",
       "      <td>...</td>\n",
       "      <td>...</td>\n",
       "      <td>...</td>\n",
       "      <td>...</td>\n",
       "      <td>...</td>\n",
       "      <td>...</td>\n",
       "      <td>...</td>\n",
       "      <td>...</td>\n",
       "      <td>...</td>\n",
       "      <td>...</td>\n",
       "      <td>...</td>\n",
       "      <td>...</td>\n",
       "      <td>...</td>\n",
       "      <td>...</td>\n",
       "      <td>...</td>\n",
       "      <td>...</td>\n",
       "      <td>...</td>\n",
       "      <td>...</td>\n",
       "      <td>...</td>\n",
       "      <td>...</td>\n",
       "      <td>...</td>\n",
       "    </tr>\n",
       "    <tr>\n",
       "      <th>3946</th>\n",
       "      <td>1.371733</td>\n",
       "      <td>0.812096</td>\n",
       "      <td>1.202923</td>\n",
       "      <td>1.205096</td>\n",
       "      <td>0.563057</td>\n",
       "      <td>0.476256</td>\n",
       "      <td>1.228633</td>\n",
       "      <td>1.264271</td>\n",
       "      <td>1.249470</td>\n",
       "      <td>0.941551</td>\n",
       "      <td>...</td>\n",
       "      <td>1.0</td>\n",
       "      <td>0.0</td>\n",
       "      <td>0.0</td>\n",
       "      <td>1.0</td>\n",
       "      <td>0.0</td>\n",
       "      <td>0.0</td>\n",
       "      <td>0.0</td>\n",
       "      <td>0.0</td>\n",
       "      <td>0.0</td>\n",
       "      <td>0.0</td>\n",
       "    </tr>\n",
       "    <tr>\n",
       "      <th>3947</th>\n",
       "      <td>0.804461</td>\n",
       "      <td>0.602871</td>\n",
       "      <td>0.808107</td>\n",
       "      <td>0.834299</td>\n",
       "      <td>0.277685</td>\n",
       "      <td>-0.446593</td>\n",
       "      <td>0.026265</td>\n",
       "      <td>-0.027885</td>\n",
       "      <td>0.040888</td>\n",
       "      <td>0.217493</td>\n",
       "      <td>...</td>\n",
       "      <td>0.0</td>\n",
       "      <td>0.0</td>\n",
       "      <td>0.0</td>\n",
       "      <td>0.0</td>\n",
       "      <td>1.0</td>\n",
       "      <td>0.0</td>\n",
       "      <td>0.0</td>\n",
       "      <td>0.0</td>\n",
       "      <td>0.0</td>\n",
       "      <td>0.0</td>\n",
       "    </tr>\n",
       "    <tr>\n",
       "      <th>3948</th>\n",
       "      <td>0.123735</td>\n",
       "      <td>0.393646</td>\n",
       "      <td>0.337365</td>\n",
       "      <td>0.278103</td>\n",
       "      <td>1.187247</td>\n",
       "      <td>-0.215880</td>\n",
       "      <td>0.303735</td>\n",
       "      <td>-0.024502</td>\n",
       "      <td>-0.160543</td>\n",
       "      <td>0.577397</td>\n",
       "      <td>...</td>\n",
       "      <td>0.0</td>\n",
       "      <td>0.0</td>\n",
       "      <td>0.0</td>\n",
       "      <td>0.0</td>\n",
       "      <td>0.0</td>\n",
       "      <td>1.0</td>\n",
       "      <td>0.0</td>\n",
       "      <td>0.0</td>\n",
       "      <td>0.0</td>\n",
       "      <td>0.0</td>\n",
       "    </tr>\n",
       "    <tr>\n",
       "      <th>3949</th>\n",
       "      <td>2.165914</td>\n",
       "      <td>1.690840</td>\n",
       "      <td>2.101889</td>\n",
       "      <td>2.206250</td>\n",
       "      <td>0.977355</td>\n",
       "      <td>1.514461</td>\n",
       "      <td>1.136144</td>\n",
       "      <td>1.484141</td>\n",
       "      <td>1.370328</td>\n",
       "      <td>0.748558</td>\n",
       "      <td>...</td>\n",
       "      <td>0.0</td>\n",
       "      <td>0.0</td>\n",
       "      <td>0.0</td>\n",
       "      <td>0.0</td>\n",
       "      <td>0.0</td>\n",
       "      <td>0.0</td>\n",
       "      <td>1.0</td>\n",
       "      <td>0.0</td>\n",
       "      <td>0.0</td>\n",
       "      <td>0.0</td>\n",
       "    </tr>\n",
       "    <tr>\n",
       "      <th>3950</th>\n",
       "      <td>0.804461</td>\n",
       "      <td>0.226266</td>\n",
       "      <td>0.454093</td>\n",
       "      <td>0.500581</td>\n",
       "      <td>-0.206747</td>\n",
       "      <td>0.014832</td>\n",
       "      <td>-0.158715</td>\n",
       "      <td>0.008589</td>\n",
       "      <td>0.121460</td>\n",
       "      <td>-0.154246</td>\n",
       "      <td>...</td>\n",
       "      <td>0.0</td>\n",
       "      <td>0.0</td>\n",
       "      <td>1.0</td>\n",
       "      <td>0.0</td>\n",
       "      <td>0.0</td>\n",
       "      <td>0.0</td>\n",
       "      <td>0.0</td>\n",
       "      <td>1.0</td>\n",
       "      <td>0.0</td>\n",
       "      <td>0.0</td>\n",
       "    </tr>\n",
       "  </tbody>\n",
       "</table>\n",
       "<p>3951 rows × 116 columns</p>\n",
       "</div>"
      ],
      "text/plain": [
       "      sulfur_dioxide_min  sulfur_dioxide_max  sulfur_dioxide_mean  \\\n",
       "0              -0.103174           -0.610634            -0.464415   \n",
       "1              -0.670446            0.226266            -0.221451   \n",
       "2               0.464098            0.226266             0.158179   \n",
       "3               0.464098            0.226266             0.461884   \n",
       "4               1.031370            0.435491             0.674477   \n",
       "...                  ...                 ...                  ...   \n",
       "3946            1.371733            0.812096             1.202923   \n",
       "3947            0.804461            0.602871             0.808107   \n",
       "3948            0.123735            0.393646             0.337365   \n",
       "3949            2.165914            1.690840             2.101889   \n",
       "3950            0.804461            0.226266             0.454093   \n",
       "\n",
       "      sulfur_dioxide_median  sulfur_dioxide_std  carbon_monoxide_min  \\\n",
       "0                 -0.537652           -0.720722            -1.369441   \n",
       "1                 -0.166854            0.238398            -1.946222   \n",
       "2                  0.203943           -0.082826            -0.792661   \n",
       "3                  0.574741            0.123268            -0.792661   \n",
       "4                  0.574741            0.044930            -0.792661   \n",
       "...                     ...                 ...                  ...   \n",
       "3946               1.205096            0.563057             0.476256   \n",
       "3947               0.834299            0.277685            -0.446593   \n",
       "3948               0.278103            1.187247            -0.215880   \n",
       "3949               2.206250            0.977355             1.514461   \n",
       "3950               0.500581           -0.206747             0.014832   \n",
       "\n",
       "      carbon_monoxide_max  carbon_monoxide_mean  carbon_monoxide_median  \\\n",
       "0               -0.158715             -0.528510               -0.402259   \n",
       "1               -0.852389             -1.052815               -0.805120   \n",
       "2               -0.852389             -0.748380               -0.805120   \n",
       "3               -0.621164             -0.714554               -0.603689   \n",
       "4               -0.621164             -0.663815               -0.402259   \n",
       "...                   ...                   ...                     ...   \n",
       "3946             1.228633              1.264271                1.249470   \n",
       "3947             0.026265             -0.027885                0.040888   \n",
       "3948             0.303735             -0.024502               -0.160543   \n",
       "3949             1.136144              1.484141                1.370328   \n",
       "3950            -0.158715              0.008589                0.121460   \n",
       "\n",
       "      carbon_monoxide_std  ...  sky state_median_2.0  sky state_median_3.0  \\\n",
       "0                0.820602  ...                   1.0                   0.0   \n",
       "1               -0.270850  ...                   1.0                   0.0   \n",
       "2               -0.633946  ...                   0.0                   1.0   \n",
       "3               -0.473053  ...                   1.0                   0.0   \n",
       "4               -0.464889  ...                   1.0                   0.0   \n",
       "...                   ...  ...                   ...                   ...   \n",
       "3946             0.941551  ...                   1.0                   0.0   \n",
       "3947             0.217493  ...                   0.0                   0.0   \n",
       "3948             0.577397  ...                   0.0                   0.0   \n",
       "3949             0.748558  ...                   0.0                   0.0   \n",
       "3950            -0.154246  ...                   0.0                   0.0   \n",
       "\n",
       "      sky state_median_4.0  weekday_1.0  weekday_2.0  weekday_3.0  \\\n",
       "0                      0.0          0.0          0.0          1.0   \n",
       "1                      0.0          0.0          0.0          0.0   \n",
       "2                      0.0          0.0          0.0          0.0   \n",
       "3                      0.0          0.0          0.0          0.0   \n",
       "4                      0.0          0.0          0.0          0.0   \n",
       "...                    ...          ...          ...          ...   \n",
       "3946                   0.0          1.0          0.0          0.0   \n",
       "3947                   0.0          0.0          1.0          0.0   \n",
       "3948                   0.0          0.0          0.0          1.0   \n",
       "3949                   0.0          0.0          0.0          0.0   \n",
       "3950                   1.0          0.0          0.0          0.0   \n",
       "\n",
       "      weekday_4.0  weekday_5.0  weekday_6.0  weekday_7.0  \n",
       "0             0.0          0.0          0.0          0.0  \n",
       "1             1.0          0.0          0.0          0.0  \n",
       "2             0.0          1.0          0.0          0.0  \n",
       "3             0.0          0.0          1.0          0.0  \n",
       "4             0.0          0.0          0.0          1.0  \n",
       "...           ...          ...          ...          ...  \n",
       "3946          0.0          0.0          0.0          0.0  \n",
       "3947          0.0          0.0          0.0          0.0  \n",
       "3948          0.0          0.0          0.0          0.0  \n",
       "3949          1.0          0.0          0.0          0.0  \n",
       "3950          0.0          1.0          0.0          0.0  \n",
       "\n",
       "[3951 rows x 116 columns]"
      ]
     },
     "execution_count": 56,
     "metadata": {},
     "output_type": "execute_result"
    }
   ],
   "source": [
    "df_temp"
   ]
  },
  {
   "cell_type": "code",
   "execution_count": 57,
   "metadata": {
    "collapsed": false
   },
   "outputs": [
    {
     "data": {
      "image/png": "[encoded data removed]",
      "text/plain": [
       "<Figure size 432x288 with 1 Axes>"
      ]
     },
     "metadata": {},
     "output_type": "display_data"
    }
   ],
   "source": [
    "plt.hist(df['visitor'], bins=10)\n",
    "plt.xlabel('Visitor')\n",
    "plt.ylabel('Frequency')\n",
    "plt.title('Distribution of Visitor')\n",
    "plt.show()"
   ]
  },
  {
   "cell_type": "code",
   "execution_count": 58,
   "metadata": {
    "collapsed": false
   },
   "outputs": [
    {
     "data": {
      "text/plain": [
       "1933         2.0\n",
       "2912         2.0\n",
       "2913         7.0\n",
       "822          9.0\n",
       "1922        11.0\n",
       "          ...   \n",
       "192      70880.0\n",
       "1985     86100.0\n",
       "581      96434.0\n",
       "96       96434.0\n",
       "922     115002.0\n",
       "Name: visitor, Length: 3951, dtype: float64"
      ]
     },
     "execution_count": 58,
     "metadata": {},
     "output_type": "execute_result"
    }
   ],
   "source": [
    "df_temp['visitor'].sort_values()"
   ]
  },
  {
   "cell_type": "code",
   "execution_count": 59,
   "metadata": {
    "collapsed": false
   },
   "outputs": [
    {
     "data": {
      "text/plain": [
       "922     115002.0\n",
       "96       96434.0\n",
       "581      96434.0\n",
       "1985     86100.0\n",
       "192      70880.0\n",
       "          ...   \n",
       "1922        11.0\n",
       "822          9.0\n",
       "2913         7.0\n",
       "1933         2.0\n",
       "2912         2.0\n",
       "Name: visitor, Length: 3951, dtype: float64"
      ]
     },
     "execution_count": 59,
     "metadata": {},
     "output_type": "execute_result"
    }
   ],
   "source": [
    "df_temp['visitor'].sort_values(ascending=False)"
   ]
  },
  {
   "cell_type": "code",
   "execution_count": 60,
   "metadata": {
    "collapsed": false
   },
   "outputs": [
    {
     "data": {
      "text/plain": [
       "count      3951.000000\n",
       "mean       9122.186029\n",
       "std       11653.034037\n",
       "min           2.000000\n",
       "25%        1840.000000\n",
       "50%        4619.000000\n",
       "75%       11280.500000\n",
       "max      115002.000000\n",
       "Name: visitor, dtype: float64"
      ]
     },
     "execution_count": 60,
     "metadata": {},
     "output_type": "execute_result"
    }
   ],
   "source": [
    "df_temp['visitor'].describe()"
   ]
  },
  {
   "cell_type": "code",
   "execution_count": 21,
   "metadata": {
    "collapsed": false
   },
   "outputs": [
    {
     "data": {
      "text/plain": [
       "sulfur_dioxide_min            0.017458\n",
       "sulfur_dioxide_max            0.056913\n",
       "sulfur_dioxide_mean           0.042373\n",
       "sulfur_dioxide_median         0.041805\n",
       "carbon_monoxide_min           0.007728\n",
       "carbon_monoxide_max          -0.047662\n",
       "carbon_monoxide_mean         -0.006657\n",
       "carbon_monoxide_median        0.016605\n",
       "ozone_min                    -0.047742\n",
       "ozone_max                     0.224502\n",
       "ozone_mean                    0.169474\n",
       "ozone_median                  0.087057\n",
       "nitrogen_dioxide_min         -0.020014\n",
       "nitrogen_dioxide_max          0.146204\n",
       "nitrogen_dioxide_mean         0.077802\n",
       "nitrogen_dioxide_median       0.069024\n",
       "fine_dust_pm10_min            0.097030\n",
       "fine_dust_pm10_max            0.081261\n",
       "fine_dust_pm10_mean           0.103794\n",
       "fine_dust_pm10_median         0.107517\n",
       "humidity_min                  0.066595\n",
       "humidity_max                  0.042499\n",
       "humidity_mean                 0.053268\n",
       "humidity_median               0.045191\n",
       "highest temperature_min       0.111076\n",
       "highest temperature_max       0.113107\n",
       "highest temperature_mean      0.111514\n",
       "highest temperature_median    0.112108\n",
       "lowest temperature_min        0.109261\n",
       "lowest temperature_max        0.105687\n",
       "lowest temperature_mean       0.107342\n",
       "lowest temperature_median     0.105390\n",
       "visitor                       1.000000\n",
       "weekday_1.0                  -0.143782\n",
       "weekday_2.0                  -0.128309\n",
       "weekday_3.0                  -0.121218\n",
       "weekday_4.0                  -0.117810\n",
       "weekday_5.0                  -0.067994\n",
       "weekday_6.0                   0.284150\n",
       "weekday_7.0                   0.301814\n",
       "Name: visitor, dtype: float64"
      ]
     },
     "execution_count": 21,
     "metadata": {},
     "output_type": "execute_result"
    }
   ],
   "source": [
    "df_temp.corr()['visitor']"
   ]
  },
  {
   "cell_type": "code",
   "execution_count": 62,
   "metadata": {
    "collapsed": false
   },
   "outputs": [],
   "source": [
    "# import seaborn as sns\n",
    "# import matplotlib.pyplot as plt\n",
    "#\n",
    "# # 히트맵 크기 조정\n",
    "# plt.figure(figsize=(32, 24))\n",
    "# sns.set(font_scale=1.2)\n",
    "#\n",
    "# # 히트맵 그리기\n",
    "# correlation_matrix = df_temp.corr()\n",
    "# sns.heatmap(correlation_matrix, annot=True, cmap='coolwarm')\n",
    "#\n",
    "# # x축과 y축 레이블 회전\n",
    "# plt.xticks(rotation=45)\n",
    "# plt.yticks(rotation=0)\n",
    "#\n",
    "# # 그래프 제목 설정\n",
    "# plt.title('Correlation Matrix')\n",
    "#\n",
    "# # 그래프 출력\n",
    "# plt.show()"
   ]
  },
  {
   "cell_type": "code",
   "execution_count": 22,
   "metadata": {
    "collapsed": false
   },
   "outputs": [],
   "source": [
    "# df.corr 기본 값은 pearson입니다\n",
    "df_corr = df_temp.corr()"
   ]
  },
  {
   "cell_type": "code",
   "execution_count": 23,
   "metadata": {
    "collapsed": false
   },
   "outputs": [
    {
     "name": "stdout",
     "output_type": "stream",
     "text": [
      "sulfur_dioxide_min            0.017458\n",
      "sulfur_dioxide_max            0.056913\n",
      "sulfur_dioxide_mean           0.042373\n",
      "sulfur_dioxide_median         0.041805\n",
      "carbon_monoxide_min           0.007728\n",
      "carbon_monoxide_max           0.047662\n",
      "carbon_monoxide_mean          0.006657\n",
      "carbon_monoxide_median        0.016605\n",
      "ozone_min                     0.047742\n",
      "ozone_max                     0.224502\n",
      "ozone_mean                    0.169474\n",
      "ozone_median                  0.087057\n",
      "nitrogen_dioxide_min          0.020014\n",
      "nitrogen_dioxide_max          0.146204\n",
      "nitrogen_dioxide_mean         0.077802\n",
      "nitrogen_dioxide_median       0.069024\n",
      "fine_dust_pm10_min            0.097030\n",
      "fine_dust_pm10_max            0.081261\n",
      "fine_dust_pm10_mean           0.103794\n",
      "fine_dust_pm10_median         0.107517\n",
      "humidity_min                  0.066595\n",
      "humidity_max                  0.042499\n",
      "humidity_mean                 0.053268\n",
      "humidity_median               0.045191\n",
      "highest temperature_min       0.111076\n",
      "highest temperature_max       0.113107\n",
      "highest temperature_mean      0.111514\n",
      "highest temperature_median    0.112108\n",
      "lowest temperature_min        0.109261\n",
      "lowest temperature_max        0.105687\n",
      "lowest temperature_mean       0.107342\n",
      "lowest temperature_median     0.105390\n",
      "visitor                       1.000000\n",
      "weekday_1.0                   0.143782\n",
      "weekday_2.0                   0.128309\n",
      "weekday_3.0                   0.121218\n",
      "weekday_4.0                   0.117810\n",
      "weekday_5.0                   0.067994\n",
      "weekday_6.0                   0.284150\n",
      "weekday_7.0                   0.301814\n",
      "Name: visitor, dtype: float64\n"
     ]
    }
   ],
   "source": [
    "# row 생략 없이 출력\n",
    "pd.set_option('display.max_rows', None)\n",
    "# col 생략 없이 출력\n",
    "pd.set_option('display.max_columns', None)\n",
    "pearson = np.abs(df_corr['visitor'])\n",
    "print(pearson)\n",
    "\n",
    "#ozone_max, nitrogen_dioxide_max, lowest temperature_min, highest temperature_max,fine_dust_pm10_min ,humidity_mean,carbon_monoxide_max, wind direction_min\n",
    "# sulfur_dioxide_min, rainfall_max, probability of precipitation_max, wind speed_max "
   ]
  },
  {
   "attachments": {},
   "cell_type": "markdown",
   "metadata": {
    "collapsed": false
   },
   "source": [
    "## 상관도 높은 순서: 주말, 오존, 온도\n",
    "## sulfur_dioxide -> min, carbon_monoxide -> max, ozone -> max, nitrogen_dioxide -> min, fine_dust -> median, rainfall -> mean,\n",
    "## probability of precipitation -> min, humidity -> min, highest temp -> max, lowest temp -> min, wind speed -> min, wind direction -> min, skystate -> max"
   ]
  },
  {
   "cell_type": "code",
   "execution_count": 9,
   "metadata": {
    "collapsed": false
   },
   "outputs": [
    {
     "data": {
      "text/plain": [
       "sulfur_dioxide_min      -0.116007\n",
       "sulfur_dioxide_max      -0.015797\n",
       "sulfur_dioxide_mean     -0.040749\n",
       "sulfur_dioxide_median   -0.048785\n",
       "carbon_monoxide_min     -0.052174\n",
       "                           ...   \n",
       "weekday_3.0             -0.112544\n",
       "weekday_4.0             -0.101523\n",
       "weekday_5.0             -0.047098\n",
       "weekday_6.0              0.259337\n",
       "weekday_7.0              0.220517\n",
       "Name: visitor, Length: 100, dtype: float64"
      ]
     },
     "execution_count": 9,
     "metadata": {},
     "output_type": "execute_result"
    }
   ],
   "source": [
    "df_temp.corr(method='kendall')['visitor']"
   ]
  },
  {
   "attachments": {},
   "cell_type": "markdown",
   "metadata": {
    "collapsed": false
   },
   "source": [
    "## 상관도 높은 순서: 주말, 오존, 온도, 습도\n",
    "## sulfur_dioxide -> min, carbon_monoxide -> max, ozone -> max, nitrogen_dioxide -> max, fine_dust -> max, rainfall -> mean,\n",
    "## probability of precipitation -> min, humidity -> min, highest temp -> max, lowest temp -> min, wind speed -> median,\n",
    "## wind direction -> min, skystate -> max"
   ]
  },
  {
   "cell_type": "code",
   "execution_count": 10,
   "metadata": {
    "collapsed": false
   },
   "outputs": [
    {
     "data": {
      "text/plain": [
       "sulfur_dioxide_min      -0.152076\n",
       "sulfur_dioxide_max      -0.022849\n",
       "sulfur_dioxide_mean     -0.063964\n",
       "sulfur_dioxide_median   -0.069535\n",
       "carbon_monoxide_min     -0.071462\n",
       "                           ...   \n",
       "weekday_3.0             -0.137790\n",
       "weekday_4.0             -0.124296\n",
       "weekday_5.0             -0.057663\n",
       "weekday_6.0              0.317509\n",
       "weekday_7.0              0.269981\n",
       "Name: visitor, Length: 100, dtype: float64"
      ]
     },
     "execution_count": 10,
     "metadata": {},
     "output_type": "execute_result"
    }
   ],
   "source": [
    "df_temp.corr(method='spearman')['visitor']"
   ]
  },
  {
   "attachments": {},
   "cell_type": "markdown",
   "metadata": {
    "collapsed": false
   },
   "source": [
    "## 상관도 높은 순서: 오존, 온도, 습도 & 일산화탄소\n",
    "## sulfur_dioxide -> min, carbon_monoxide -> max, ozone -> max, nitrogen_dioxide -> max, fine_dust -> max, rainfall -> mean,\n",
    "## probability of precipitation -> min, humidity -> min, highest temp -> max, lowest temp -> min, wind speed -> mean med유사,\n",
    "## wind direction -> min, skystate -> max"
   ]
  },
  {
   "attachments": {},
   "cell_type": "markdown",
   "metadata": {
    "collapsed": false
   },
   "source": [
    "# 종합\n",
    "## sulfur_dioxide -> min, carbon_monoxide -> max, ozone -> max, nitrogen_dioxide -> max, fine_dust -> max, rainfall -> mean,\n",
    "## probability of precipitation -> min, humidity -> min, highest temp -> max, lowest temp -> min, wind speed -> med,\n",
    "## wind direction -> min, skystate -> max"
   ]
  },
  {
   "cell_type": "code",
   "execution_count": 67,
   "metadata": {
    "collapsed": false
   },
   "outputs": [],
   "source": [
    "selected_feat = ['sulfur_dioxide_min', 'carbon_monoxide_max', 'ozone_max', 'nitrogen_dioxide_max', 'fine_dust_pm10_max',                 'rainfall_mean', 'probability of precipitation_min', 'humidity_min', 'highest temperature_max',                 'lowest temperature_min', 'wind speed_median', 'visitor']"
   ]
  },
  {
   "cell_type": "code",
   "execution_count": 68,
   "metadata": {
    "collapsed": false
   },
   "outputs": [],
   "source": [
    "df_selected = df[selected_feat]"
   ]
  },
  {
   "cell_type": "code",
   "execution_count": 69,
   "metadata": {
    "collapsed": false
   },
   "outputs": [
    {
     "data": {
      "text/plain": [
       "sulfur_dioxide_min                 -0.021263\n",
       "carbon_monoxide_max                -0.110792\n",
       "ozone_max                           0.265874\n",
       "nitrogen_dioxide_max                0.090950\n",
       "fine_dust_pm10_max                  0.023442\n",
       "rainfall_mean                      -0.050165\n",
       "probability of precipitation_min    0.035505\n",
       "humidity_min                        0.074496\n",
       "highest temperature_max             0.175116\n",
       "lowest temperature_min              0.173374\n",
       "wind speed_median                  -0.055486\n",
       "visitor                             1.000000\n",
       "Name: visitor, dtype: float64"
      ]
     },
     "execution_count": 69,
     "metadata": {},
     "output_type": "execute_result"
    }
   ],
   "source": [
    "df_selected.corr().iloc[:,-1]"
   ]
  },
  {
   "cell_type": "code",
   "execution_count": 70,
   "metadata": {
    "collapsed": false
   },
   "outputs": [
    {
     "data": {
      "text/plain": [
       "sulfur_dioxide_min                 -0.090991\n",
       "carbon_monoxide_max                -0.098737\n",
       "ozone_max                           0.259777\n",
       "nitrogen_dioxide_max                0.059088\n",
       "fine_dust_pm10_max                  0.028219\n",
       "rainfall_mean                       0.020338\n",
       "probability of precipitation_min    0.055104\n",
       "humidity_min                        0.091097\n",
       "highest temperature_max             0.178483\n",
       "lowest temperature_min              0.176299\n",
       "wind speed_median                  -0.072114\n",
       "visitor                             1.000000\n",
       "Name: visitor, dtype: float64"
      ]
     },
     "execution_count": 70,
     "metadata": {},
     "output_type": "execute_result"
    }
   ],
   "source": [
    "df_selected.corr(method='kendall').iloc[:,-1]"
   ]
  },
  {
   "cell_type": "code",
   "execution_count": 71,
   "metadata": {
    "collapsed": false
   },
   "outputs": [
    {
     "data": {
      "text/plain": [
       "sulfur_dioxide_min                 -0.125357\n",
       "carbon_monoxide_max                -0.148388\n",
       "ozone_max                           0.390589\n",
       "nitrogen_dioxide_max                0.087642\n",
       "fine_dust_pm10_max                  0.042020\n",
       "rainfall_mean                       0.027557\n",
       "probability of precipitation_min    0.073442\n",
       "humidity_min                        0.131807\n",
       "highest temperature_max             0.262179\n",
       "lowest temperature_min              0.257423\n",
       "wind speed_median                  -0.103605\n",
       "visitor                             1.000000\n",
       "Name: visitor, dtype: float64"
      ]
     },
     "execution_count": 71,
     "metadata": {},
     "output_type": "execute_result"
    }
   ],
   "source": [
    "df_selected.corr(method='spearman').iloc[:,-1]"
   ]
  },
  {
   "cell_type": "code",
   "execution_count": 72,
   "metadata": {
    "collapsed": false
   },
   "outputs": [
    {
     "data": {
      "text/plain": [
       "sulfur_dioxide_min                  0.021263\n",
       "carbon_monoxide_max                 0.110792\n",
       "ozone_max                           0.265874\n",
       "nitrogen_dioxide_max                0.090950\n",
       "fine_dust_pm10_max                  0.023442\n",
       "rainfall_mean                       0.050165\n",
       "probability of precipitation_min    0.035505\n",
       "humidity_min                        0.074496\n",
       "highest temperature_max             0.175116\n",
       "lowest temperature_min              0.173374\n",
       "wind speed_median                   0.055486\n",
       "visitor                             1.000000\n",
       "Name: visitor, dtype: float64"
      ]
     },
     "execution_count": 72,
     "metadata": {},
     "output_type": "execute_result"
    }
   ],
   "source": [
    "abs(df_selected.corr().iloc[:,-1])"
   ]
  },
  {
   "cell_type": "code",
   "execution_count": 73,
   "metadata": {
    "collapsed": false
   },
   "outputs": [
    {
     "data": {
      "text/plain": [
       "sulfur_dioxide_min       0.090991\n",
       "sulfur_dioxide_max       0.026713\n",
       "sulfur_dioxide_mean      0.050574\n",
       "sulfur_dioxide_median    0.057604\n",
       "sulfur_dioxide_std       0.055543\n",
       "                           ...   \n",
       "weekday_3.0              0.098525\n",
       "weekday_4.0              0.081009\n",
       "weekday_5.0              0.038320\n",
       "weekday_6.0              0.213039\n",
       "weekday_7.0              0.219046\n",
       "Name: visitor, Length: 116, dtype: float64"
      ]
     },
     "execution_count": 73,
     "metadata": {},
     "output_type": "execute_result"
    }
   ],
   "source": [
    "abs(df_temp.corr(method='kendall')['visitor'])"
   ]
  },
  {
   "cell_type": "code",
   "execution_count": 74,
   "metadata": {
    "collapsed": false
   },
   "outputs": [
    {
     "data": {
      "text/plain": [
       "sulfur_dioxide_min       0.125357\n",
       "sulfur_dioxide_max       0.040178\n",
       "sulfur_dioxide_mean      0.079862\n",
       "sulfur_dioxide_median    0.085453\n",
       "sulfur_dioxide_std       0.083915\n",
       "                           ...   \n",
       "weekday_3.0              0.120649\n",
       "weekday_4.0              0.099199\n",
       "weekday_5.0              0.046925\n",
       "weekday_6.0              0.260876\n",
       "weekday_7.0              0.268231\n",
       "Name: visitor, Length: 116, dtype: float64"
      ]
     },
     "execution_count": 74,
     "metadata": {},
     "output_type": "execute_result"
    }
   ],
   "source": [
    "abs(df_temp.corr(method='spearman')['visitor'])"
   ]
  },
  {
   "cell_type": "code",
   "execution_count": 74,
   "metadata": {
    "collapsed": false
   },
   "outputs": [],
   "source": []
  },
  {
   "cell_type": "code",
   "execution_count": 78,
   "metadata": {
    "collapsed": false
   },
   "outputs": [
    {
     "data": {
      "text/plain": [
       "count    3.951000e+03\n",
       "mean    -4.018271e-16\n",
       "std      1.000127e+00\n",
       "min     -2.604460e+00\n",
       "25%     -8.658486e-01\n",
       "50%      1.966364e-01\n",
       "75%      8.727631e-01\n",
       "max      1.838659e+00\n",
       "Name: highest temperature_max, dtype: float64"
      ]
     },
     "execution_count": 78,
     "metadata": {},
     "output_type": "execute_result"
    }
   ],
   "source": [
    "df_temp['highest temperature_max'].describe()"
   ]
  },
  {
   "cell_type": "code",
   "execution_count": null,
   "metadata": {
    "collapsed": false
   },
   "outputs": [],
   "source": []
  }
 ],
 "metadata": {
  "kernelspec": {
   "display_name": "Python 3",
   "language": "python",
   "name": "python3"
  },
  "language_info": {
   "codemirror_mode": {
    "name": "ipython",
    "version": 3
   },
   "file_extension": ".py",
   "mimetype": "text/x-python",
   "name": "python",
   "nbconvert_exporter": "python",
   "pygments_lexer": "ipython3",
   "version": "3.10.8"
  }
 },
 "nbformat": 4,
 "nbformat_minor": 0
}
