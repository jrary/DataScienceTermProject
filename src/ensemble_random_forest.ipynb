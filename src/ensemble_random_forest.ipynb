{
 "cells": [
  {
   "cell_type": "code",
   "execution_count": 13,
   "metadata": {},
   "outputs": [],
   "source": [
    "# Read the preprocessed dataset and split to train and test set\n",
    "import pandas as pd\n",
    "import numpy as np\n",
    "import matplotlib.pyplot as plt\n",
    "from sklearn.ensemble import RandomForestRegressor\n",
    "from sklearn.model_selection import train_test_split\n",
    "\n",
    "df = pd.read_csv('assets/output/featureSelectionResult.csv')\n",
    "\n",
    "Y = df['visitor']\n",
    "X = df.drop(['visitor', 'date'], axis=1)\n",
    "\n",
    "train_X, test_X, train_Y, test_Y = train_test_split(X, Y, test_size=0.2, random_state=0)\n"
   ]
  },
  {
   "cell_type": "code",
   "execution_count": 15,
   "metadata": {},
   "outputs": [
    {
     "name": "stdout",
     "output_type": "stream",
     "text": [
      "{'bootstrap': True, 'n_estimators': 250, 'random_state': 0}\n",
      "0.4752786521602735\n"
     ]
    }
   ],
   "source": [
    "from sklearn.model_selection import GridSearchCV\n",
    "\n",
    "# Grid search for best parameters\n",
    "model = RandomForestRegressor()\n",
    "\n",
    "gird_param = {'n_estimators': np.arange(100, 300, 50),\n",
    "            'bootstrap' : [True],\n",
    "            'random_state' : [0],\n",
    "}\n",
    "\n",
    "gird_model = GridSearchCV(model, gird_param, cv=5, scoring='r2', n_jobs=-1)\n",
    "gird_model.fit(train_X, train_Y)\n",
    "print(gird_model.best_params_)\n",
    "print(gird_model.best_score_)\n",
    "\n",
    "# model.fit(train_X, train_Y)\n",
    "\n",
    "# print(model.score(test_X, test_Y))"
   ]
  }
 ],
 "metadata": {
  "kernelspec": {
   "display_name": "base",
   "language": "python",
   "name": "python3"
  },
  "language_info": {
   "codemirror_mode": {
    "name": "ipython",
    "version": 3
   },
   "file_extension": ".py",
   "mimetype": "text/x-python",
   "name": "python",
   "nbconvert_exporter": "python",
   "pygments_lexer": "ipython3",
   "version": "3.10.8"
  },
  "orig_nbformat": 4
 },
 "nbformat": 4,
 "nbformat_minor": 2
}
