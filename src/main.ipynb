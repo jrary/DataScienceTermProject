{
 "cells": [
  {
   "cell_type": "code",
   "execution_count": 2,
   "metadata": {},
   "outputs": [
    {
     "ename": "ImportError",
     "evalue": "cannot import name 'makeOutputDataset' from 'dataset' (/Users/seonghoonjeong/Desktop/School/3-1/DataScience/텀프/project/DataScienceTermProject/src/dataset.py)",
     "output_type": "error",
     "traceback": [
      "\u001b[0;31m---------------------------------------------------------------------------\u001b[0m",
      "\u001b[0;31mImportError\u001b[0m                               Traceback (most recent call last)",
      "Cell \u001b[0;32mIn[2], line 2\u001b[0m\n\u001b[1;32m      1\u001b[0m \u001b[39m# dataset.py에서 파일 output하는 모듈 실행\u001b[39;00m\n\u001b[0;32m----> 2\u001b[0m \u001b[39mfrom\u001b[39;00m \u001b[39mdataset\u001b[39;00m \u001b[39mimport\u001b[39;00m makeOutputDataset\n\u001b[1;32m      4\u001b[0m makeOutputDataset()\n",
      "\u001b[0;31mImportError\u001b[0m: cannot import name 'makeOutputDataset' from 'dataset' (/Users/seonghoonjeong/Desktop/School/3-1/DataScience/텀프/project/DataScienceTermProject/src/dataset.py)"
     ]
    }
   ],
   "source": [
    "# dataset.py에서 파일 output하는 모듈 실행\n",
    "from dataset import makeOutputDataset\n",
    "\n",
    "makeOutputDataset()"
   ]
  },
  {
   "cell_type": "code",
   "execution_count": null,
   "metadata": {},
   "outputs": [],
   "source": []
  }
 ],
 "metadata": {
  "kernelspec": {
   "display_name": "base",
   "language": "python",
   "name": "python3"
  },
  "language_info": {
   "codemirror_mode": {
    "name": "ipython",
    "version": 3
   },
   "file_extension": ".py",
   "mimetype": "text/x-python",
   "name": "python",
   "nbconvert_exporter": "python",
   "pygments_lexer": "ipython3",
   "version": "3.10.8"
  },
  "orig_nbformat": 4
 },
 "nbformat": 4,
 "nbformat_minor": 2
}
