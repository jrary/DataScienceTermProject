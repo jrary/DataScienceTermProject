{
 "cells": [
  {
   "cell_type": "code",
   "execution_count": 6,
   "metadata": {},
   "outputs": [
    {
     "name": "stdout",
     "output_type": "stream",
     "text": [
      "The autoreload extension is already loaded. To reload it, use:\n",
      "  %reload_ext autoreload\n"
     ]
    },
    {
     "ename": "ImportError",
     "evalue": "cannot import name 'makeOutputDataset' from 'dataset' (c:\\Users\\dahye\\gitProjects\\etc\\DataScienceTermProject\\src\\dataset.py)",
     "output_type": "error",
     "traceback": [
      "\u001b[1;31m---------------------------------------------------------------------------\u001b[0m",
      "\u001b[1;31mImportError\u001b[0m                               Traceback (most recent call last)",
      "\u001b[1;32mc:\\Users\\dahye\\gitProjects\\etc\\DataScienceTermProject\\src\\preprocessing.ipynb Cell 1\u001b[0m in \u001b[0;36m<cell line: 4>\u001b[1;34m()\u001b[0m\n\u001b[0;32m      <a href='vscode-notebook-cell:/c%3A/Users/dahye/gitProjects/etc/DataScienceTermProject/src/preprocessing.ipynb#W4sZmlsZQ%3D%3D?line=1'>2</a>\u001b[0m get_ipython()\u001b[39m.\u001b[39mrun_line_magic(\u001b[39m'\u001b[39m\u001b[39mautoreload\u001b[39m\u001b[39m'\u001b[39m, \u001b[39m'\u001b[39m\u001b[39m2\u001b[39m\u001b[39m'\u001b[39m)\n\u001b[0;32m      <a href='vscode-notebook-cell:/c%3A/Users/dahye/gitProjects/etc/DataScienceTermProject/src/preprocessing.ipynb#W4sZmlsZQ%3D%3D?line=2'>3</a>\u001b[0m \u001b[39m# dataset.py에서 파일 output하는 모듈 실행\u001b[39;00m\n\u001b[1;32m----> <a href='vscode-notebook-cell:/c%3A/Users/dahye/gitProjects/etc/DataScienceTermProject/src/preprocessing.ipynb#W4sZmlsZQ%3D%3D?line=3'>4</a>\u001b[0m \u001b[39mfrom\u001b[39;00m \u001b[39mdataset\u001b[39;00m \u001b[39mimport\u001b[39;00m makeOutputDataset\n\u001b[0;32m      <a href='vscode-notebook-cell:/c%3A/Users/dahye/gitProjects/etc/DataScienceTermProject/src/preprocessing.ipynb#W4sZmlsZQ%3D%3D?line=5'>6</a>\u001b[0m makeOutputDataset()\n",
      "\u001b[1;31mImportError\u001b[0m: cannot import name 'makeOutputDataset' from 'dataset' (c:\\Users\\dahye\\gitProjects\\etc\\DataScienceTermProject\\src\\dataset.py)"
     ]
    }
   ],
   "source": [
    "%load_ext autoreload\n",
    "%autoreload 2\n",
    "# dataset.py에서 파일 output하는 모듈 실행\n",
    "from dataset import makeOutputDataset\n",
    "\n",
    "makeOutputDataset()"
   ]
  },
  {
   "cell_type": "code",
   "execution_count": null,
   "metadata": {},
   "outputs": [],
   "source": [
    "# dataset.py에서 파일 output하는 모듈 실행\n",
    "from dataset import makeVisitor\n",
    "\n",
    "makeVisitor()"
   ]
  },
  {
   "cell_type": "code",
   "execution_count": null,
   "metadata": {},
   "outputs": [],
   "source": [
    "# dataset.py에서 파일 output하는 모듈 실행\n",
    "from dataset import makeVisitor\n",
    "\n",
    "makeVisitor()"
   ]
  }
 ],
 "metadata": {
  "kernelspec": {
   "display_name": "Python 3 (ipykernel)",
   "language": "python",
   "name": "python3"
  },
  "language_info": {
   "codemirror_mode": {
    "name": "ipython",
    "version": 3
   },
   "file_extension": ".py",
   "mimetype": "text/x-python",
   "name": "python",
   "nbconvert_exporter": "python",
   "pygments_lexer": "ipython3",
   "version": "3.9.12"
  }
 },
 "nbformat": 4,
 "nbformat_minor": 2
}
