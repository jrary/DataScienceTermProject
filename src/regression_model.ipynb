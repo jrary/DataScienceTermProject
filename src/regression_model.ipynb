{
 "cells": [
  {
   "cell_type": "code",
   "execution_count": 2,
   "metadata": {
    "collapsed": true
   },
   "outputs": [],
   "source": [
    "import pandas as pd\n",
    "from pygam import LinearGAM, s, f\n",
    "import statsmodels.api as sm\n",
    "from sklearn.model_selection import train_test_split\n",
    "from sklearn.metrics import mean_squared_error, r2_score\n",
    "from sklearn.model_selection import GridSearchCV"
   ]
  },
  {
   "cell_type": "code",
   "execution_count": 2,
   "outputs": [],
   "source": [
    "df = pd.read_csv('assets/output/featureSelectionResult.csv')"
   ],
   "metadata": {
    "collapsed": false
   }
  },
  {
   "cell_type": "code",
   "execution_count": 4,
   "outputs": [],
   "source": [
    "X = df.drop(['date', 'visitor'], axis=1)\n",
    "y = df['visitor']"
   ],
   "metadata": {
    "collapsed": false
   }
  },
  {
   "cell_type": "code",
   "execution_count": 7,
   "outputs": [
    {
     "name": "stdout",
     "output_type": "stream",
     "text": [
      "Mean Squared Error: 81659152.28296266\n",
      "R^2 Score: 0.2735618808369892\n"
     ]
    }
   ],
   "source": [
    "# Data Split\n",
    "X_train, X_test, y_train, y_test = train_test_split(X, y, test_size=0.2)\n",
    "\n",
    "# Add Constant Column\n",
    "X_train = sm.add_constant(X_train)\n",
    "X_test = sm.add_constant(X_test)\n",
    "\n",
    "# Create and learn GAM models\n",
    "# Returns: Instance of the LinearGAM class\n",
    "gam = LinearGAM()\n",
    "gam.fit(X_train, y_train)\n",
    "\n",
    "# Prediction of test data\n",
    "y_pred = gam.predict(X_test)\n",
    "\n",
    "# Evaluation: Calculating the Mean Square Error\n",
    "mse = mean_squared_error(y_test, y_pred)\n",
    "print(f\"Mean Squared Error: {mse}\")\n",
    "\n",
    "# Evaluation: Calculating the coefficient of determination (R^2)\n",
    "r2_gam = r2_score(y_test, y_pred)\n",
    "print(f\"R^2 Score: {r2_gam}\")"
   ],
   "metadata": {
    "collapsed": false
   }
  },
  {
   "cell_type": "code",
   "execution_count": 9,
   "outputs": [
    {
     "name": "stdout",
     "output_type": "stream",
     "text": [
      "Mean Squared Error: 914723536.2566957\n",
      "score: -8.072517541815914\n"
     ]
    }
   ],
   "source": [
    "from sklearn.model_selection import train_test_split\n",
    "from sklearn.preprocessing import PolynomialFeatures\n",
    "from sklearn.linear_model import LinearRegression\n",
    "from sklearn.metrics import mean_squared_error, r2_score\n",
    "\n",
    "# data load\n",
    "df = pd.read_csv('assets/output/featureSelectionResult.csv')\n",
    "\n",
    "# Features and Target Split\n",
    "X = df.drop(['visitor'], axis=1)\n",
    "y = df['visitor']\n",
    "\n",
    "# Add polynomial characteristics\n",
    "# Creates an instance of the PolynomialFeatures class.\n",
    "# Parameters - degree: The degree of the polynomial features to be generated. It determines the maximum degree of monomials in the output array.\n",
    "poly = PolynomialFeatures(degree=4)\n",
    "X_poly = poly.fit_transform(X)\n",
    "\n",
    "# Data Split\n",
    "# Parameters:\n",
    "# - X_poly: The input features (in polynomial form) used for splitting into train and test sets.\n",
    "# - y: The target variable used for splitting into train and test sets.\n",
    "# - test_size: The proportion of the dataset to include in the test split. It should be a float value between 0.0 and 1.0.\n",
    "# - random_state: Determines the random seed for the shuffling of the dataset before splitting. It ensures reproducibility of the split.\n",
    "X_train, X_test, y_train, y_test = train_test_split(X_poly, y, test_size=0.2, random_state=42)\n",
    "\n",
    "# Model Learning\n",
    "model = LinearRegression()\n",
    "model.fit(X_train, y_train)\n",
    "\n",
    "# Prediction of test data\n",
    "y_pred = model.predict(X_test)\n",
    "\n",
    "# Evaluation: Calculating the Mean Square Error\n",
    "mse = mean_squared_error(y_test, y_pred)\n",
    "print(f\"Mean Squared Error: {mse}\")\n",
    "\n",
    "# Evaluation: Calculating the coefficient of determination (R^2)\n",
    "r2_lin = r2_score(X_test, y_test)\n",
    "print(f\"R^2 Score: {r2_lin}\")\n",
    "\n",
    "score = model.score(X_test, y_test)\n",
    "print(f\"score: {score}\")"
   ],
   "metadata": {
    "collapsed": false
   }
  },
  {
   "cell_type": "code",
   "execution_count": 8,
   "outputs": [
    {
     "ename": "MemoryError",
     "evalue": "Unable to allocate 1.57 PiB for an array with shape (2468, 89356415775) and data type float64",
     "output_type": "error",
     "traceback": [
      "\u001B[1;31m---------------------------------------------------------------------------\u001B[0m",
      "\u001B[1;31mMemoryError\u001B[0m                               Traceback (most recent call last)",
      "\u001B[1;32m~\\AppData\\Local\\Temp\\ipykernel_12300\\3150709361.py\u001B[0m in \u001B[0;36m<module>\u001B[1;34m\u001B[0m\n\u001B[0;32m     18\u001B[0m \u001B[1;31m# 다항 특성 추가\u001B[0m\u001B[1;33m\u001B[0m\u001B[1;33m\u001B[0m\u001B[0m\n\u001B[0;32m     19\u001B[0m \u001B[0mpoly\u001B[0m \u001B[1;33m=\u001B[0m \u001B[0mPolynomialFeatures\u001B[0m\u001B[1;33m(\u001B[0m\u001B[0mdegree\u001B[0m\u001B[1;33m=\u001B[0m\u001B[1;36m7\u001B[0m\u001B[1;33m)\u001B[0m\u001B[1;33m\u001B[0m\u001B[1;33m\u001B[0m\u001B[0m\n\u001B[1;32m---> 20\u001B[1;33m \u001B[0mX_poly\u001B[0m \u001B[1;33m=\u001B[0m \u001B[0mpoly\u001B[0m\u001B[1;33m.\u001B[0m\u001B[0mfit_transform\u001B[0m\u001B[1;33m(\u001B[0m\u001B[0mX\u001B[0m\u001B[1;33m)\u001B[0m\u001B[1;33m\u001B[0m\u001B[1;33m\u001B[0m\u001B[0m\n\u001B[0m\u001B[0;32m     21\u001B[0m \u001B[1;33m\u001B[0m\u001B[0m\n\u001B[0;32m     22\u001B[0m \u001B[1;31m# 데이터 분할\u001B[0m\u001B[1;33m\u001B[0m\u001B[1;33m\u001B[0m\u001B[0m\n",
      "\u001B[1;32m~\\anaconda3\\lib\\site-packages\\sklearn\\base.py\u001B[0m in \u001B[0;36mfit_transform\u001B[1;34m(self, X, y, **fit_params)\u001B[0m\n\u001B[0;32m    850\u001B[0m         \u001B[1;32mif\u001B[0m \u001B[0my\u001B[0m \u001B[1;32mis\u001B[0m \u001B[1;32mNone\u001B[0m\u001B[1;33m:\u001B[0m\u001B[1;33m\u001B[0m\u001B[1;33m\u001B[0m\u001B[0m\n\u001B[0;32m    851\u001B[0m             \u001B[1;31m# fit method of arity 1 (unsupervised transformation)\u001B[0m\u001B[1;33m\u001B[0m\u001B[1;33m\u001B[0m\u001B[0m\n\u001B[1;32m--> 852\u001B[1;33m             \u001B[1;32mreturn\u001B[0m \u001B[0mself\u001B[0m\u001B[1;33m.\u001B[0m\u001B[0mfit\u001B[0m\u001B[1;33m(\u001B[0m\u001B[0mX\u001B[0m\u001B[1;33m,\u001B[0m \u001B[1;33m**\u001B[0m\u001B[0mfit_params\u001B[0m\u001B[1;33m)\u001B[0m\u001B[1;33m.\u001B[0m\u001B[0mtransform\u001B[0m\u001B[1;33m(\u001B[0m\u001B[0mX\u001B[0m\u001B[1;33m)\u001B[0m\u001B[1;33m\u001B[0m\u001B[1;33m\u001B[0m\u001B[0m\n\u001B[0m\u001B[0;32m    853\u001B[0m         \u001B[1;32melse\u001B[0m\u001B[1;33m:\u001B[0m\u001B[1;33m\u001B[0m\u001B[1;33m\u001B[0m\u001B[0m\n\u001B[0;32m    854\u001B[0m             \u001B[1;31m# fit method of arity 2 (supervised transformation)\u001B[0m\u001B[1;33m\u001B[0m\u001B[1;33m\u001B[0m\u001B[0m\n",
      "\u001B[1;32m~\\anaconda3\\lib\\site-packages\\sklearn\\preprocessing\\_polynomial.py\u001B[0m in \u001B[0;36mtransform\u001B[1;34m(self, X)\u001B[0m\n\u001B[0;32m    419\u001B[0m             \u001B[1;31m# Do as if _min_degree = 0 and cut down array after the\u001B[0m\u001B[1;33m\u001B[0m\u001B[1;33m\u001B[0m\u001B[0m\n\u001B[0;32m    420\u001B[0m             \u001B[1;31m# computation, i.e. use _n_out_full instead of n_output_features_.\u001B[0m\u001B[1;33m\u001B[0m\u001B[1;33m\u001B[0m\u001B[0m\n\u001B[1;32m--> 421\u001B[1;33m             XP = np.empty(\n\u001B[0m\u001B[0;32m    422\u001B[0m                 \u001B[0mshape\u001B[0m\u001B[1;33m=\u001B[0m\u001B[1;33m(\u001B[0m\u001B[0mn_samples\u001B[0m\u001B[1;33m,\u001B[0m \u001B[0mself\u001B[0m\u001B[1;33m.\u001B[0m\u001B[0m_n_out_full\u001B[0m\u001B[1;33m)\u001B[0m\u001B[1;33m,\u001B[0m \u001B[0mdtype\u001B[0m\u001B[1;33m=\u001B[0m\u001B[0mX\u001B[0m\u001B[1;33m.\u001B[0m\u001B[0mdtype\u001B[0m\u001B[1;33m,\u001B[0m \u001B[0morder\u001B[0m\u001B[1;33m=\u001B[0m\u001B[0mself\u001B[0m\u001B[1;33m.\u001B[0m\u001B[0morder\u001B[0m\u001B[1;33m\u001B[0m\u001B[1;33m\u001B[0m\u001B[0m\n\u001B[0;32m    423\u001B[0m             )\n",
      "\u001B[1;31mMemoryError\u001B[0m: Unable to allocate 1.57 PiB for an array with shape (2468, 89356415775) and data type float64"
     ]
    }
   ],
   "source": [
    "from sklearn.model_selection import KFold\n",
    "from sklearn.linear_model import LinearRegression\n",
    "from sklearn.metrics import mean_squared_error\n",
    "import pandas as pd\n",
    "import numpy as np\n",
    "\n",
    "# Data load\n",
    "data = pd.read_csv('assets/output/featureSelectionResult.csv')\n",
    "\n",
    "# Create a k-fold object that divides data into k subsets\n",
    "k = 5  # Set the value of k in k-fold cross-validation\n",
    "\n",
    "# Parameters:\n",
    "# - n_splits: The number of folds (subsets) to split the data into. It determines the number of times the cross-validation process will be performed.\n",
    "# - shuffle: Determines whether to shuffle the data before splitting it into folds. If True, the data will be shuffled randomly.\n",
    "# - random_state: Determines the random seed for shuffling the data if `shuffle` is set to True. It ensures reproducibility of the shuffling.\n",
    "kf = KFold(n_splits=k, shuffle=True, random_state=42)\n",
    "\n",
    "# Features and Target Split\n",
    "X = df.drop(['date', 'visitor'], axis=1)\n",
    "y = df['visitor']\n",
    "\n",
    "# Add polynomial characteristics\n",
    "# Creates an instance of the PolynomialFeatures class.\n",
    "# Parameters - degree: The degree of the polynomial features to be generated. It determines the maximum degree of monomials in the output array.\n",
    "poly = PolynomialFeatures(degree=7)\n",
    "X_poly = poly.fit_transform(X)\n",
    "\n",
    "# Data Split\n",
    "X_train, X_test, y_train, y_test = train_test_split(X_poly, y, test_size=0.2, random_state=42)\n",
    "model = LinearRegression()\n",
    "\n",
    "# Perform k-fold cross-validation\n",
    "mse_scores = []\n",
    "score_arr = []\n",
    "\n",
    "for train_index, test_index in kf.split(X_poly):\n",
    "    # Split training set, test set\n",
    "    X_train, X_test = X_poly[train_index], X_poly[test_index]\n",
    "    y_train, y_test = y[train_index], y[test_index]\n",
    "\n",
    "    model.fit(X_train, y_train)\n",
    "\n",
    "    # Predicting test Sets\n",
    "    y_pred = model.predict(X_test)\n",
    "\n",
    "    # Calculate the mean square error of the test set\n",
    "    # Parameters:\n",
    "    # - y_test: The true target values from the test set.\n",
    "    # - y_pred: The predicted target values corresponding to the test set.\n",
    "\n",
    "    # Returns:\n",
    "    # The mean squared error (MSE) between the true target values and the predicted target values.\n",
    "    # MSE is a measure of the average squared difference between the predicted and true values, providing an overall assessment of the model's performance.\n",
    "    mse = mean_squared_error(y_test, y_pred)\n",
    "    score = model.score(X_test, y_test)\n",
    "\n",
    "    # for caculating mean score, appending\n",
    "    score_arr.append(score)\n",
    "    mse_scores.append(mse)\n",
    "\n",
    "# Calculate the mean MSE of k-fold cross-validation, and score\n",
    "mean_mse = np.mean(mse_scores)\n",
    "mean_score = np.mean(score_arr)\n",
    "\n",
    "print(mean_score)\n",
    "print(mean_mse)"
   ],
   "metadata": {
    "collapsed": false
   }
  },
  {
   "cell_type": "code",
   "execution_count": 3,
   "outputs": [
    {
     "name": "stdout",
     "output_type": "stream",
     "text": [
      "Degree: 2, K: 2, Score: -1.4453290120723794\n",
      "Degree: 2, K: 3, Score: -1.5500444006824747\n",
      "Degree: 2, K: 4, Score: -2.5698713980269794\n",
      "Degree: 2, K: 5, Score: -2.269611424698757\n",
      "Degree: 2, K: 6, Score: -2.42114484270842\n",
      "Degree: 2, K: 7, Score: -2.6019427159343893\n",
      "Degree: 2, K: 8, Score: -2.516380485753828\n",
      "Degree: 2, K: 9, Score: -2.6433477140108903\n",
      "Degree: 2, K: 10, Score: -2.6515864031634773\n",
      "Degree: 3, K: 2, Score: -2.744040871735411\n",
      "Degree: 3, K: 3, Score: -0.7795631180669202\n",
      "Degree: 3, K: 4, Score: -3.998184533635186\n",
      "Degree: 3, K: 5, Score: -2.043004799453641\n",
      "Degree: 3, K: 6, Score: -5.100733056045133\n",
      "Degree: 3, K: 7, Score: -1.7761296344846766\n",
      "Degree: 3, K: 8, Score: -1.6075872820962571\n",
      "Degree: 3, K: 9, Score: -2.8519922668611106\n",
      "Degree: 3, K: 10, Score: -2.761721710945369\n"
     ]
    },
    {
     "ename": "MemoryError",
     "evalue": "Unable to allocate 173. GiB for an array with shape (2468, 9381251) and data type float64",
     "output_type": "error",
     "traceback": [
      "\u001B[1;31m---------------------------------------------------------------------------\u001B[0m",
      "\u001B[1;31mMemoryError\u001B[0m                               Traceback (most recent call last)",
      "\u001B[1;32m~\\AppData\\Local\\Temp\\ipykernel_18408\\3129665777.py\u001B[0m in \u001B[0;36m<module>\u001B[1;34m\u001B[0m\n\u001B[0;32m     61\u001B[0m \u001B[0mmax_k\u001B[0m \u001B[1;33m=\u001B[0m \u001B[1;36m10\u001B[0m\u001B[1;33m\u001B[0m\u001B[1;33m\u001B[0m\u001B[0m\n\u001B[0;32m     62\u001B[0m \u001B[1;33m\u001B[0m\u001B[0m\n\u001B[1;32m---> 63\u001B[1;33m \u001B[0mbest_degree\u001B[0m\u001B[1;33m,\u001B[0m \u001B[0mbest_score\u001B[0m\u001B[1;33m,\u001B[0m \u001B[0mbest_k\u001B[0m \u001B[1;33m=\u001B[0m \u001B[0mfind_best_degree\u001B[0m\u001B[1;33m(\u001B[0m\u001B[0mX\u001B[0m\u001B[1;33m,\u001B[0m \u001B[0my\u001B[0m\u001B[1;33m,\u001B[0m \u001B[0mmin_degree\u001B[0m\u001B[1;33m,\u001B[0m \u001B[0mmax_degree\u001B[0m\u001B[1;33m,\u001B[0m \u001B[0mmin_k\u001B[0m\u001B[1;33m,\u001B[0m \u001B[0mmax_k\u001B[0m\u001B[1;33m)\u001B[0m\u001B[1;33m\u001B[0m\u001B[1;33m\u001B[0m\u001B[0m\n\u001B[0m\u001B[0;32m     64\u001B[0m \u001B[1;33m\u001B[0m\u001B[0m\n\u001B[0;32m     65\u001B[0m \u001B[0mprint\u001B[0m\u001B[1;33m(\u001B[0m\u001B[1;34mf\"Best degree: {best_degree}\"\u001B[0m\u001B[1;33m)\u001B[0m\u001B[1;33m\u001B[0m\u001B[1;33m\u001B[0m\u001B[0m\n",
      "\u001B[1;32m~\\AppData\\Local\\Temp\\ipykernel_18408\\3129665777.py\u001B[0m in \u001B[0;36mfind_best_degree\u001B[1;34m(X, y, min_degree, max_degree, min_k, max_k, random_state)\u001B[0m\n\u001B[0;32m     16\u001B[0m         \u001B[1;31m# 다항 특성 추가\u001B[0m\u001B[1;33m\u001B[0m\u001B[1;33m\u001B[0m\u001B[0m\n\u001B[0;32m     17\u001B[0m         \u001B[0mpoly\u001B[0m \u001B[1;33m=\u001B[0m \u001B[0mPolynomialFeatures\u001B[0m\u001B[1;33m(\u001B[0m\u001B[0mdegree\u001B[0m\u001B[1;33m=\u001B[0m\u001B[0mdegree\u001B[0m\u001B[1;33m)\u001B[0m\u001B[1;33m\u001B[0m\u001B[1;33m\u001B[0m\u001B[0m\n\u001B[1;32m---> 18\u001B[1;33m         \u001B[0mX_poly\u001B[0m \u001B[1;33m=\u001B[0m \u001B[0mpoly\u001B[0m\u001B[1;33m.\u001B[0m\u001B[0mfit_transform\u001B[0m\u001B[1;33m(\u001B[0m\u001B[0mX\u001B[0m\u001B[1;33m)\u001B[0m\u001B[1;33m\u001B[0m\u001B[1;33m\u001B[0m\u001B[0m\n\u001B[0m\u001B[0;32m     19\u001B[0m \u001B[1;33m\u001B[0m\u001B[0m\n\u001B[0;32m     20\u001B[0m         \u001B[1;32mfor\u001B[0m \u001B[0mk\u001B[0m \u001B[1;32min\u001B[0m \u001B[0mrange\u001B[0m\u001B[1;33m(\u001B[0m\u001B[0mmin_k\u001B[0m\u001B[1;33m,\u001B[0m \u001B[0mmax_k\u001B[0m\u001B[1;33m+\u001B[0m\u001B[1;36m1\u001B[0m\u001B[1;33m)\u001B[0m\u001B[1;33m:\u001B[0m\u001B[1;33m\u001B[0m\u001B[1;33m\u001B[0m\u001B[0m\n",
      "\u001B[1;32m~\\anaconda3\\lib\\site-packages\\sklearn\\base.py\u001B[0m in \u001B[0;36mfit_transform\u001B[1;34m(self, X, y, **fit_params)\u001B[0m\n\u001B[0;32m    850\u001B[0m         \u001B[1;32mif\u001B[0m \u001B[0my\u001B[0m \u001B[1;32mis\u001B[0m \u001B[1;32mNone\u001B[0m\u001B[1;33m:\u001B[0m\u001B[1;33m\u001B[0m\u001B[1;33m\u001B[0m\u001B[0m\n\u001B[0;32m    851\u001B[0m             \u001B[1;31m# fit method of arity 1 (unsupervised transformation)\u001B[0m\u001B[1;33m\u001B[0m\u001B[1;33m\u001B[0m\u001B[0m\n\u001B[1;32m--> 852\u001B[1;33m             \u001B[1;32mreturn\u001B[0m \u001B[0mself\u001B[0m\u001B[1;33m.\u001B[0m\u001B[0mfit\u001B[0m\u001B[1;33m(\u001B[0m\u001B[0mX\u001B[0m\u001B[1;33m,\u001B[0m \u001B[1;33m**\u001B[0m\u001B[0mfit_params\u001B[0m\u001B[1;33m)\u001B[0m\u001B[1;33m.\u001B[0m\u001B[0mtransform\u001B[0m\u001B[1;33m(\u001B[0m\u001B[0mX\u001B[0m\u001B[1;33m)\u001B[0m\u001B[1;33m\u001B[0m\u001B[1;33m\u001B[0m\u001B[0m\n\u001B[0m\u001B[0;32m    853\u001B[0m         \u001B[1;32melse\u001B[0m\u001B[1;33m:\u001B[0m\u001B[1;33m\u001B[0m\u001B[1;33m\u001B[0m\u001B[0m\n\u001B[0;32m    854\u001B[0m             \u001B[1;31m# fit method of arity 2 (supervised transformation)\u001B[0m\u001B[1;33m\u001B[0m\u001B[1;33m\u001B[0m\u001B[0m\n",
      "\u001B[1;32m~\\anaconda3\\lib\\site-packages\\sklearn\\preprocessing\\_polynomial.py\u001B[0m in \u001B[0;36mtransform\u001B[1;34m(self, X)\u001B[0m\n\u001B[0;32m    419\u001B[0m             \u001B[1;31m# Do as if _min_degree = 0 and cut down array after the\u001B[0m\u001B[1;33m\u001B[0m\u001B[1;33m\u001B[0m\u001B[0m\n\u001B[0;32m    420\u001B[0m             \u001B[1;31m# computation, i.e. use _n_out_full instead of n_output_features_.\u001B[0m\u001B[1;33m\u001B[0m\u001B[1;33m\u001B[0m\u001B[0m\n\u001B[1;32m--> 421\u001B[1;33m             XP = np.empty(\n\u001B[0m\u001B[0;32m    422\u001B[0m                 \u001B[0mshape\u001B[0m\u001B[1;33m=\u001B[0m\u001B[1;33m(\u001B[0m\u001B[0mn_samples\u001B[0m\u001B[1;33m,\u001B[0m \u001B[0mself\u001B[0m\u001B[1;33m.\u001B[0m\u001B[0m_n_out_full\u001B[0m\u001B[1;33m)\u001B[0m\u001B[1;33m,\u001B[0m \u001B[0mdtype\u001B[0m\u001B[1;33m=\u001B[0m\u001B[0mX\u001B[0m\u001B[1;33m.\u001B[0m\u001B[0mdtype\u001B[0m\u001B[1;33m,\u001B[0m \u001B[0morder\u001B[0m\u001B[1;33m=\u001B[0m\u001B[0mself\u001B[0m\u001B[1;33m.\u001B[0m\u001B[0morder\u001B[0m\u001B[1;33m\u001B[0m\u001B[1;33m\u001B[0m\u001B[0m\n\u001B[0;32m    423\u001B[0m             )\n",
      "\u001B[1;31mMemoryError\u001B[0m: Unable to allocate 173. GiB for an array with shape (2468, 9381251) and data type float64"
     ]
    }
   ],
   "source": [
    "from sklearn.model_selection import KFold\n",
    "from sklearn.linear_model import LinearRegression\n",
    "from sklearn.preprocessing import PolynomialFeatures\n",
    "import numpy as np\n",
    "\n",
    "# Loading data\n",
    "df = pd.read_csv('assets/output/featureSelectionResult.csv')\n",
    "\n",
    "# Methods for finding the best results by using K-fold in the polynomial regression, changing the degree and K\n",
    "# Parameters:\n",
    "    # X: The input features used for the regression analysis.\n",
    "    # y: The target variable.\n",
    "    # min_degree: The minimum degree of polynomial features to consider.\n",
    "    # max_degree: The maximum degree of polynomial features to consider.\n",
    "    # min_k: The minimum number of folds (subsets) for cross-validation.\n",
    "    # max_k: The maximum number of folds (subsets) for cross-validation.\n",
    "    # random_state: Determines the random seed for shuffling the data and cross-validation. It ensures reproducibility of the results.\n",
    "# Returns:\n",
    "    # best_degree: The degree value that yielded the best score.\n",
    "    # best_score: The highest score obtained among different degree and k combinations.\n",
    "    # best_k: The k value that yielded the best score.\n",
    "def find_best_degree(X, y, min_degree, max_degree, min_k, max_k, random_state=42):\n",
    "    results = []\n",
    "    best_degree = None\n",
    "    best_score = -np.inf\n",
    "    best_k = None\n",
    "\n",
    "    for degree in range(min_degree, max_degree+1):\n",
    "        # Add polynomial characteristics\n",
    "        poly = PolynomialFeatures(degree=degree)\n",
    "        X_poly = poly.fit_transform(X)\n",
    "\n",
    "        for k in range(min_k, max_k+1):\n",
    "            model = LinearRegression()\n",
    "\n",
    "            # Perform k-fold cross-validation\n",
    "            # Parameters:\n",
    "                # - n_splits: The number of folds (subsets) to split the data into. It determines the number of times the cross-validation process will be performed.\n",
    "                # - shuffle: Determines whether to shuffle the data before splitting it into folds. If True, the data will be shuffled randomly.\n",
    "                # - random_state: Determines the random seed for shuffling the data if `shuffle` is set to True. It ensures reproducibility of the shuffling.\n",
    "            kf = KFold(n_splits=k, shuffle=True, random_state=random_state)\n",
    "            score_arr = []\n",
    "            mse_scores = []\n",
    "\n",
    "            for train_index, test_index in kf.split(X_poly):\n",
    "                # Split training set, test set\n",
    "                X_train, X_test = X_poly[train_index], X_poly[test_index]\n",
    "                y_train, y_test = y[train_index], y[test_index]\n",
    "\n",
    "                model.fit(X_train, y_train)\n",
    "\n",
    "                # Calculating the score for the test set\n",
    "                score = model.score(X_test, y_test)\n",
    "                score_arr.append(score)\n",
    "\n",
    "                # Calculating the mean squared error (MSE) for the test set\n",
    "                mse = mean_squared_error(y_test, y_pred)\n",
    "                mse_scores.append(mse)\n",
    "\n",
    "                print(f\"Degree: {degree}, K: {k}, MSE: {mse}\")\n",
    "\n",
    "            # Calculating the Average Score\n",
    "            mean_score = np.mean(score_arr)\n",
    "            results.append((degree, k, mean_score))\n",
    "            print(f\"Degree: {degree}, K: {k}, Score: {mean_score}\")\n",
    "\n",
    "            # Update if the current degree and k values are higher than the highest score\n",
    "            if mean_score > best_score:\n",
    "                best_degree = degree\n",
    "                best_score = mean_score\n",
    "                best_k = k\n",
    "\n",
    "    return best_degree, best_score, best_k, mse_scores\n",
    "\n",
    "X = df.drop(['date', 'visitor'], axis=1)\n",
    "y = df['visitor']\n",
    "\n",
    "# Define the minimum and maximum degrees to consider.\n",
    "min_degree = 2\n",
    "max_degree = 6\n",
    "min_k = 2\n",
    "max_k = 10\n",
    "\n",
    "# This function is expected to return the best degree, score, and k value based on the provided ranges.\n",
    "best_degree, best_score, best_k = find_best_degree(X, y, min_degree, max_degree, min_k, max_k)\n",
    "\n",
    "print(f\"Best degree: {best_degree}\")\n",
    "print(f\"Best score: {best_score}\")\n",
    "print(f\"Best k: {best_k}\")\n",
    "print(f\"Average MSE scores: {np.mean(mse_scores)}\")"
   ],
   "metadata": {
    "collapsed": false
   }
  }
 ],
 "metadata": {
  "kernelspec": {
   "display_name": "Python 3",
   "language": "python",
   "name": "python3"
  },
  "language_info": {
   "codemirror_mode": {
    "name": "ipython",
    "version": 2
   },
   "file_extension": ".py",
   "mimetype": "text/x-python",
   "name": "python",
   "nbconvert_exporter": "python",
   "pygments_lexer": "ipython2",
   "version": "2.7.6"
  }
 },
 "nbformat": 4,
 "nbformat_minor": 0
}
