{
 "cells": [
  {
   "cell_type": "code",
   "execution_count": 24,
   "metadata": {
    "collapsed": true
   },
   "outputs": [],
   "source": [
    "import pandas as pd\n",
    "import numpy as np\n",
    "from sklearn.model_selection import train_test_split\n",
    "from sklearn.metrics import mean_squared_error\n",
    "from pygam import LinearGAM, s, f\n",
    "from sklearn.model_selection import GridSearchCV"
   ]
  },
  {
   "cell_type": "code",
   "execution_count": 5,
   "outputs": [],
   "source": [
    "df = pd.read_csv('assets/output/preprocessedDataset.csv')"
   ],
   "metadata": {
    "collapsed": false
   }
  },
  {
   "cell_type": "code",
   "execution_count": 29,
   "outputs": [],
   "source": [
    "# df_temp = df.drop('date', axis=1)\n",
    "# df_temp['visitor'] = df_temp['visitor'].str.replace(',', '')\n",
    "# df_temp['visitor'] = df_temp['visitor'].astype(int)"
   ],
   "metadata": {
    "collapsed": false
   }
  },
  {
   "cell_type": "code",
   "execution_count": 6,
   "outputs": [],
   "source": [
    "X = df.drop(['date', 'visitor'], axis=1)\n",
    "y = df['visitor']"
   ],
   "metadata": {
    "collapsed": false
   }
  },
  {
   "cell_type": "code",
   "execution_count": 31,
   "outputs": [],
   "source": [
    "# # 데이터 분할\n",
    "# X_train, X_test, y_train, y_test = train_test_split(X, y, test_size=0.2)\n",
    "#\n",
    "# # 모델 정의\n",
    "# gam = LinearGAM()\n",
    "#\n",
    "# # 하이퍼파라미터 그리드 설정\n",
    "# param_grid = {\n",
    "#     'lam': np.arange(0.1, 1.1, 0.1),\n",
    "#     'n_splines': np.arange(10, 31, 10),\n",
    "#     'degree': np.arange(1, 4)\n",
    "# }\n",
    "#\n",
    "# # 그리드 서치 객체 생성\n",
    "# grid_search = GridSearchCV(gam, param_grid=param_grid, cv=5, return_train_score=True)\n",
    "#\n",
    "# # 그리드 서치 수행\n",
    "# grid_search.fit(X_train, y_train)\n",
    "#\n",
    "# # 최적 매개변수 조합 및 최적 모델 출력\n",
    "# best_params = grid_search.best_params_\n",
    "# print(\"Best Parameters:\", best_params)\n",
    "# best_model = grid_search.best_estimator_\n",
    "# print(\"Best Model:\", best_model)\n",
    "#\n",
    "# # 테스트 데이터에 대한 예측\n",
    "# y_pred = best_model.predict(X_test)\n",
    "#\n",
    "# # 평가: 평균 제곱 오차 계산\n",
    "# mse = mean_squared_error(y_test, y_pred)\n",
    "# print(f\"Mean Squared Error: {mse}\")"
   ],
   "metadata": {
    "collapsed": false
   }
  },
  {
   "cell_type": "code",
   "execution_count": 21,
   "outputs": [],
   "source": [
    "selected_feat = ['sulfur_dioxide_min', 'carbon_monoxide_max', 'ozone_max', 'nitrogen_dioxide_max', 'fine_dust_pm10_max',                 'rainfall_max', 'probability of precipitation_min', 'humidity_min', 'highest temperature_max',                 'lowest temperature_min', 'wind speed_median', 'weekday_1.0' ,'weekday_2.0', 'weekday_3.0','weekday_4.0', 'weekday_5.0', 'weekday_6.0', 'weekday_7.0',  'visitor']\n",
    "df_selected = df[selected_feat]\n",
    "\n",
    "X = df_selected.drop(['visitor'], axis=1)\n",
    "y = df_selected['visitor']"
   ],
   "metadata": {
    "collapsed": false
   }
  },
  {
   "cell_type": "code",
   "execution_count": 22,
   "outputs": [
    {
     "ename": "NameError",
     "evalue": "name 'LinearGAM' is not defined",
     "output_type": "error",
     "traceback": [
      "\u001B[1;31m---------------------------------------------------------------------------\u001B[0m",
      "\u001B[1;31mNameError\u001B[0m                                 Traceback (most recent call last)",
      "Input \u001B[1;32mIn [22]\u001B[0m, in \u001B[0;36m<cell line: 16>\u001B[1;34m()\u001B[0m\n\u001B[0;32m     13\u001B[0m X_test \u001B[38;5;241m=\u001B[39m sm\u001B[38;5;241m.\u001B[39madd_constant(X_test)\n\u001B[0;32m     15\u001B[0m \u001B[38;5;66;03m# GAM 모델 생성 및 학습\u001B[39;00m\n\u001B[1;32m---> 16\u001B[0m gam \u001B[38;5;241m=\u001B[39m \u001B[43mLinearGAM\u001B[49m()\n\u001B[0;32m     17\u001B[0m gam\u001B[38;5;241m.\u001B[39mfit(X_train, y_train)\n\u001B[0;32m     19\u001B[0m \u001B[38;5;66;03m# 테스트 데이터에 대한 예측\u001B[39;00m\n",
      "\u001B[1;31mNameError\u001B[0m: name 'LinearGAM' is not defined"
     ]
    }
   ],
   "source": [
    "import pandas as pd\n",
    "import statsmodels.api as sm\n",
    "from sklearn.model_selection import train_test_split\n",
    "from sklearn.metrics import mean_squared_error, r2_score\n",
    "\n",
    "df = pd.read_csv('assets/output/preprocessedDataset.csv')\n",
    "\n",
    "# 데이터 분할\n",
    "X_train, X_test, y_train, y_test = train_test_split(X, y, test_size=0.2)\n",
    "\n",
    "# 상수 열 추가\n",
    "X_train = sm.add_constant(X_train)\n",
    "X_test = sm.add_constant(X_test)\n",
    "\n",
    "# GAM 모델 생성 및 학습\n",
    "gam = LinearGAM()\n",
    "gam.fit(X_train, y_train)\n",
    "\n",
    "# 테스트 데이터에 대한 예측\n",
    "y_pred = gam.predict(X_test)\n",
    "\n",
    "# 평가: 평균 제곱 오차 계산\n",
    "mse = mean_squared_error(y_test, y_pred)\n",
    "print(f\"Mean Squared Error: {mse}\")\n",
    "\n",
    "# 평가: 결정 계수(R^2) 계산\n",
    "r2_gam = r2_score(y_test, y_pred)\n",
    "print(f\"R^2 Score: {r2_gam}\")"
   ],
   "metadata": {
    "collapsed": false
   }
  },
  {
   "cell_type": "code",
   "execution_count": 26,
   "outputs": [
    {
     "name": "stdout",
     "output_type": "stream",
     "text": [
      "K = 2: Mean Score (R^2) = 0.2767639462081312\n",
      "K = 3: Mean Score (R^2) = 0.27907972917753915\n",
      "K = 4: Mean Score (R^2) = 0.2797201624702009\n",
      "K = 5: Mean Score (R^2) = 0.29408261271642655\n",
      "K = 6: Mean Score (R^2) = 0.28948619858980934\n",
      "K = 7: Mean Score (R^2) = 0.27942148341389067\n",
      "K = 8: Mean Score (R^2) = 0.28933790786499525\n",
      "K = 9: Mean Score (R^2) = 0.2925787630637866\n",
      "K = 10: Mean Score (R^2) = 0.29479380895060603\n",
      "Best K: 10\n",
      "Best Score: 0.29479380895060603\n"
     ]
    }
   ],
   "source": [
    "from sklearn.model_selection import KFold\n",
    "from sklearn.linear_model import LinearRegression\n",
    "from sklearn.metrics import mean_squared_error\n",
    "import numpy as np\n",
    "\n",
    "# Features와 Target 분리\n",
    "X = df_selected.drop(['visitor'], axis=1)\n",
    "y = df_selected['visitor']\n",
    "\n",
    "# 모델 학습 및 평가\n",
    "best_score = float('-inf')\n",
    "best_k = None\n",
    "\n",
    "for k in range(2, 11):  # Try different values of k from 2 to 10\n",
    "    kf = KFold(n_splits=k, shuffle=True, random_state=42)\n",
    "    mse_scores = []\n",
    "    score_arr = []\n",
    "\n",
    "    for train_index, test_index in kf.split(X):\n",
    "        X_train, X_test = X.iloc[train_index], X.iloc[test_index]\n",
    "        y_train, y_test = y.iloc[train_index], y.iloc[test_index]\n",
    "\n",
    "        model = LinearGAM()\n",
    "        model.fit(X_train, y_train)\n",
    "\n",
    "        y_pred = model.predict(X_test)\n",
    "\n",
    "        mse = mean_squared_error(y_test, y_pred)\n",
    "        mse_scores.append(mse)\n",
    "\n",
    "        score = model.score(X_test, y_test)\n",
    "        score_arr.append(score)\n",
    "\n",
    "    mean_score = np.mean(score_arr)\n",
    "\n",
    "    if mean_score > best_score:\n",
    "        best_score = mean_score\n",
    "        best_k = k\n",
    "\n",
    "    print(f\"K = {k}: Mean Score (R^2) = {mean_score}\")\n",
    "\n",
    "print(f\"Best K: {best_k}\")\n",
    "print(f\"Best Score: {best_score}\")"
   ],
   "metadata": {
    "collapsed": false
   }
  },
  {
   "cell_type": "code",
   "execution_count": 8,
   "outputs": [
    {
     "name": "stdout",
     "output_type": "stream",
     "text": [
      "Mean Squared Error: 549061877750.499\n",
      "score: -5444.769481147232\n"
     ]
    }
   ],
   "source": [
    "import pandas as pd\n",
    "from sklearn.model_selection import train_test_split\n",
    "from sklearn.preprocessing import PolynomialFeatures\n",
    "from sklearn.linear_model import LinearRegression\n",
    "from sklearn.metrics import mean_squared_error, r2_score\n",
    "\n",
    "# 데이터 로드\n",
    "data = pd.read_csv('assets/output/preprocessedDataset.csv')\n",
    "\n",
    "# Features와 Target 분리\n",
    "X = df_selected.drop(['visitor'], axis=1)\n",
    "y = df_selected['visitor']\n",
    "\n",
    "# 다항 특성 추가\n",
    "poly = PolynomialFeatures(degree=4)\n",
    "X_poly = poly.fit_transform(X)\n",
    "\n",
    "# 데이터 분할\n",
    "X_train, X_test, y_train, y_test = train_test_split(X_poly, y, test_size=0.2, random_state=42)\n",
    "\n",
    "# 모델 학습\n",
    "model = LinearRegression()\n",
    "model.fit(X_train, y_train)\n",
    "\n",
    "# 테스트 데이터에 대한 예측\n",
    "y_pred = model.predict(X_test)\n",
    "\n",
    "# 평가: 평균 제곱 오차 계산\n",
    "mse = mean_squared_error(y_test, y_pred)\n",
    "\n",
    "print(f\"Mean Squared Error: {mse}\")\n",
    "\n",
    "# # 평가: 결정 계수(R^2) 계산\n",
    "# r2_lin = r2_score(X_test, y_test)\n",
    "# print(f\"R^2 Score: {r2_lin}\")\n",
    "\n",
    "score = model.score(X_test, y_test)\n",
    "print(f\"score: {score}\")"
   ],
   "metadata": {
    "collapsed": false
   }
  },
  {
   "cell_type": "code",
   "execution_count": 17,
   "outputs": [
    {
     "name": "stdout",
     "output_type": "stream",
     "text": [
      "-31490.861393531097\n"
     ]
    }
   ],
   "source": [
    "from sklearn.model_selection import KFold\n",
    "from sklearn.linear_model import LinearRegression\n",
    "from sklearn.metrics import mean_squared_error\n",
    "import pandas as pd\n",
    "import numpy as np\n",
    "\n",
    "# 데이터 로드\n",
    "data = pd.read_csv('assets/output/preprocessedDataset.csv')\n",
    "\n",
    "# 데이터를 k개의 부분집합으로 나누는 k-fold 객체 생성\n",
    "k = 5  # k-fold 교차 검증에서의 k 값 설정\n",
    "kf = KFold(n_splits=k, shuffle=True, random_state=42)\n",
    "\n",
    "# Features와 Target 분리\n",
    "X = df_selected.drop(['visitor'], axis=1)\n",
    "y = df_selected['visitor']\n",
    "\n",
    "# 다항 특성 추가\n",
    "poly = PolynomialFeatures(degree=7)\n",
    "X_poly = poly.fit_transform(X)\n",
    "\n",
    "# 데이터 분할\n",
    "X_train, X_test, y_train, y_test = train_test_split(X_poly, y, test_size=0.2, random_state=42)\n",
    "\n",
    "# 모델 학습\n",
    "model = LinearRegression()\n",
    "\n",
    "# k-fold 교차 검증 수행\n",
    "mse_scores = []  # 각 fold에서의 평균 제곱 오차(MSE)를 저장할 리스트\n",
    "score_arr = []\n",
    "\n",
    "for train_index, test_index in kf.split(X_poly):\n",
    "    # 훈련 세트, 검증 세트 나누기\n",
    "    X_train, X_test = X_poly[train_index], X_poly[test_index]\n",
    "    y_train, y_test = y[train_index], y[test_index]\n",
    "\n",
    "    # 모델 학습\n",
    "    model.fit(X_train, y_train)\n",
    "\n",
    "    # 검증 세트 예측\n",
    "    y_pred = model.predict(X_test)\n",
    "\n",
    "    # 검증 세트의 평균 제곱 오차 계산\n",
    "    mse = mean_squared_error(y_test, y_pred)\n",
    "    score = model.score(X_test, y_test)\n",
    "    score_arr.append(score)\n",
    "    mse_scores.append(mse)\n",
    "\n",
    "# k-fold 교차 검증의 평균 MSE 계산\n",
    "mean_mse = np.mean(mse_scores)\n",
    "mean_score = np.mean(score_arr)\n",
    "\n",
    "print(mean_score)"
   ],
   "metadata": {
    "collapsed": false
   }
  },
  {
   "cell_type": "code",
   "execution_count": 18,
   "outputs": [
    {
     "name": "stdout",
     "output_type": "stream",
     "text": [
      "Best degree: 2\n",
      "Best score: 0.06762898316392303\n"
     ]
    }
   ],
   "source": [
    "def find_best_degree(X, y, min_degree, max_degree, k=5, random_state=42):\n",
    "    results = []\n",
    "\n",
    "    for degree in range(min_degree, max_degree+1):\n",
    "        # 다항 특성 추가\n",
    "        poly = PolynomialFeatures(degree=degree)\n",
    "        X_poly = poly.fit_transform(X)\n",
    "\n",
    "        # 모델 학습\n",
    "        model = LinearRegression()\n",
    "\n",
    "        # k-fold 교차 검증 수행\n",
    "        kf = KFold(n_splits=k, shuffle=True, random_state=random_state)\n",
    "        score_arr = []\n",
    "\n",
    "        for train_index, test_index in kf.split(X_poly):\n",
    "            # 훈련 세트, 검증 세트 나누기\n",
    "            X_train, X_test = X_poly[train_index], X_poly[test_index]\n",
    "            y_train, y_test = y[train_index], y[test_index]\n",
    "\n",
    "            # 모델 학습\n",
    "            model.fit(X_train, y_train)\n",
    "\n",
    "            # 검증 세트의 점수 계산\n",
    "            score = model.score(X_test, y_test)\n",
    "            score_arr.append(score)\n",
    "\n",
    "        # 평균 점수 계산\n",
    "        mean_score = np.mean(score_arr)\n",
    "\n",
    "        results.append((degree, mean_score))\n",
    "\n",
    "    return results\n",
    "\n",
    "# Features와 Target 분리\n",
    "X = df_selected.drop(['visitor'], axis=1)\n",
    "y = df_selected['visitor']\n",
    "\n",
    "min_degree = 1\n",
    "max_degree = 8\n",
    "\n",
    "results = find_best_degree(X, y, min_degree, max_degree)\n",
    "\n",
    "for degree, score in results:\n",
    "    print(f\"Degree: {degree}, Score: {score}\")\n",
    "\n",
    "# Find the best degree and score\n",
    "best_degree, best_score = max(results, key=lambda x: x[1])\n",
    "\n",
    "print(f\"Best degree: {best_degree}\")\n",
    "print(f\"Best score: {best_score}\")"
   ],
   "metadata": {
    "collapsed": false
   }
  },
  {
   "cell_type": "code",
   "execution_count": 27,
   "outputs": [
    {
     "ename": "KeyboardInterrupt",
     "evalue": "",
     "output_type": "error",
     "traceback": [
      "\u001B[1;31m---------------------------------------------------------------------------\u001B[0m",
      "\u001B[1;31mKeyboardInterrupt\u001B[0m                         Traceback (most recent call last)",
      "Input \u001B[1;32mIn [27]\u001B[0m, in \u001B[0;36m<cell line: 56>\u001B[1;34m()\u001B[0m\n\u001B[0;32m     53\u001B[0m min_k \u001B[38;5;241m=\u001B[39m \u001B[38;5;241m2\u001B[39m\n\u001B[0;32m     54\u001B[0m max_k \u001B[38;5;241m=\u001B[39m \u001B[38;5;241m10\u001B[39m\n\u001B[1;32m---> 56\u001B[0m best_degree, best_score, best_k \u001B[38;5;241m=\u001B[39m \u001B[43mfind_best_degree\u001B[49m\u001B[43m(\u001B[49m\u001B[43mX\u001B[49m\u001B[43m,\u001B[49m\u001B[43m \u001B[49m\u001B[43my\u001B[49m\u001B[43m,\u001B[49m\u001B[43m \u001B[49m\u001B[43mmin_degree\u001B[49m\u001B[43m,\u001B[49m\u001B[43m \u001B[49m\u001B[43mmax_degree\u001B[49m\u001B[43m,\u001B[49m\u001B[43m \u001B[49m\u001B[43mmin_k\u001B[49m\u001B[43m,\u001B[49m\u001B[43m \u001B[49m\u001B[43mmax_k\u001B[49m\u001B[43m)\u001B[49m\n\u001B[0;32m     58\u001B[0m \u001B[38;5;28mprint\u001B[39m(\u001B[38;5;124mf\u001B[39m\u001B[38;5;124m\"\u001B[39m\u001B[38;5;124mBest degree: \u001B[39m\u001B[38;5;132;01m{\u001B[39;00mbest_degree\u001B[38;5;132;01m}\u001B[39;00m\u001B[38;5;124m\"\u001B[39m)\n\u001B[0;32m     59\u001B[0m \u001B[38;5;28mprint\u001B[39m(\u001B[38;5;124mf\u001B[39m\u001B[38;5;124m\"\u001B[39m\u001B[38;5;124mBest score: \u001B[39m\u001B[38;5;132;01m{\u001B[39;00mbest_score\u001B[38;5;132;01m}\u001B[39;00m\u001B[38;5;124m\"\u001B[39m)\n",
      "Input \u001B[1;32mIn [27]\u001B[0m, in \u001B[0;36mfind_best_degree\u001B[1;34m(X, y, min_degree, max_degree, min_k, max_k, random_state)\u001B[0m\n\u001B[0;32m     27\u001B[0m y_train, y_test \u001B[38;5;241m=\u001B[39m y[train_index], y[test_index]\n\u001B[0;32m     29\u001B[0m \u001B[38;5;66;03m# 모델 학습\u001B[39;00m\n\u001B[1;32m---> 30\u001B[0m \u001B[43mmodel\u001B[49m\u001B[38;5;241;43m.\u001B[39;49m\u001B[43mfit\u001B[49m\u001B[43m(\u001B[49m\u001B[43mX_train\u001B[49m\u001B[43m,\u001B[49m\u001B[43m \u001B[49m\u001B[43my_train\u001B[49m\u001B[43m)\u001B[49m\n\u001B[0;32m     32\u001B[0m \u001B[38;5;66;03m# 검증 세트의 점수 계산\u001B[39;00m\n\u001B[0;32m     33\u001B[0m score \u001B[38;5;241m=\u001B[39m model\u001B[38;5;241m.\u001B[39mscore(X_test, y_test)\n",
      "File \u001B[1;32m~\\anaconda3\\lib\\site-packages\\sklearn\\linear_model\\_base.py:718\u001B[0m, in \u001B[0;36mLinearRegression.fit\u001B[1;34m(self, X, y, sample_weight)\u001B[0m\n\u001B[0;32m    716\u001B[0m         \u001B[38;5;28mself\u001B[39m\u001B[38;5;241m.\u001B[39m_residues \u001B[38;5;241m=\u001B[39m np\u001B[38;5;241m.\u001B[39mvstack([out[\u001B[38;5;241m3\u001B[39m] \u001B[38;5;28;01mfor\u001B[39;00m out \u001B[38;5;129;01min\u001B[39;00m outs])\n\u001B[0;32m    717\u001B[0m \u001B[38;5;28;01melse\u001B[39;00m:\n\u001B[1;32m--> 718\u001B[0m     \u001B[38;5;28mself\u001B[39m\u001B[38;5;241m.\u001B[39mcoef_, \u001B[38;5;28mself\u001B[39m\u001B[38;5;241m.\u001B[39m_residues, \u001B[38;5;28mself\u001B[39m\u001B[38;5;241m.\u001B[39mrank_, \u001B[38;5;28mself\u001B[39m\u001B[38;5;241m.\u001B[39msingular_ \u001B[38;5;241m=\u001B[39m \u001B[43mlinalg\u001B[49m\u001B[38;5;241;43m.\u001B[39;49m\u001B[43mlstsq\u001B[49m\u001B[43m(\u001B[49m\u001B[43mX\u001B[49m\u001B[43m,\u001B[49m\u001B[43m \u001B[49m\u001B[43my\u001B[49m\u001B[43m)\u001B[49m\n\u001B[0;32m    719\u001B[0m     \u001B[38;5;28mself\u001B[39m\u001B[38;5;241m.\u001B[39mcoef_ \u001B[38;5;241m=\u001B[39m \u001B[38;5;28mself\u001B[39m\u001B[38;5;241m.\u001B[39mcoef_\u001B[38;5;241m.\u001B[39mT\n\u001B[0;32m    721\u001B[0m \u001B[38;5;28;01mif\u001B[39;00m y\u001B[38;5;241m.\u001B[39mndim \u001B[38;5;241m==\u001B[39m \u001B[38;5;241m1\u001B[39m:\n",
      "File \u001B[1;32m~\\anaconda3\\lib\\site-packages\\scipy\\linalg\\_basic.py:1213\u001B[0m, in \u001B[0;36mlstsq\u001B[1;34m(a, b, cond, overwrite_a, overwrite_b, check_finite, lapack_driver)\u001B[0m\n\u001B[0;32m   1211\u001B[0m \u001B[38;5;28;01mif\u001B[39;00m real_data:\n\u001B[0;32m   1212\u001B[0m     lwork, iwork \u001B[38;5;241m=\u001B[39m _compute_lwork(lapack_lwork, m, n, nrhs, cond)\n\u001B[1;32m-> 1213\u001B[0m     x, s, rank, info \u001B[38;5;241m=\u001B[39m lapack_func(a1, b1, lwork,\n\u001B[0;32m   1214\u001B[0m                                    iwork, cond, \u001B[38;5;28;01mFalse\u001B[39;00m, \u001B[38;5;28;01mFalse\u001B[39;00m)\n\u001B[0;32m   1215\u001B[0m \u001B[38;5;28;01melse\u001B[39;00m:  \u001B[38;5;66;03m# complex data\u001B[39;00m\n\u001B[0;32m   1216\u001B[0m     lwork, rwork, iwork \u001B[38;5;241m=\u001B[39m _compute_lwork(lapack_lwork, m, n,\n\u001B[0;32m   1217\u001B[0m                                          nrhs, cond)\n",
      "\u001B[1;31mKeyboardInterrupt\u001B[0m: "
     ]
    }
   ],
   "source": [
    "from sklearn.model_selection import KFold\n",
    "from sklearn.linear_model import LinearRegression\n",
    "from sklearn.preprocessing import PolynomialFeatures\n",
    "import numpy as np\n",
    "\n",
    "def find_best_degree(X, y, min_degree, max_degree, min_k, max_k, random_state=42):\n",
    "    best_degree = None\n",
    "    best_score = -np.inf\n",
    "    best_k = None\n",
    "\n",
    "    for degree in range(min_degree, max_degree+1):\n",
    "        # 다항 특성 추가\n",
    "        poly = PolynomialFeatures(degree=degree)\n",
    "        X_poly = poly.fit_transform(X)\n",
    "\n",
    "        for k in range(min_k, max_k+1):\n",
    "            # 모델 학습\n",
    "            model = LinearRegression()\n",
    "\n",
    "            # k-fold 교차 검증 수행\n",
    "            kf = KFold(n_splits=k, shuffle=True, random_state=random_state)\n",
    "            score_arr = []\n",
    "\n",
    "            for train_index, test_index in kf.split(X_poly):\n",
    "                # 훈련 세트, 검증 세트 나누기\n",
    "                X_train, X_test = X_poly[train_index], X_poly[test_index]\n",
    "                y_train, y_test = y[train_index], y[test_index]\n",
    "\n",
    "                # 모델 학습\n",
    "                model.fit(X_train, y_train)\n",
    "\n",
    "                # 검증 세트의 점수 계산\n",
    "                score = model.score(X_test, y_test)\n",
    "                score_arr.append(score)\n",
    "\n",
    "            # 평균 점수 계산\n",
    "            mean_score = np.mean(score_arr)\n",
    "\n",
    "            # 현재 degree와 k 값의 점수가 최고 점수보다 높으면 업데이트\n",
    "            if mean_score > best_score:\n",
    "                best_degree = degree\n",
    "                best_score = mean_score\n",
    "                best_k = k\n",
    "\n",
    "    for degree, k, score in results:\n",
    "        print(f\"Degree: {degree}, K: {k}, Score: {score}\")\n",
    "\n",
    "    return best_degree, best_score, best_k\n",
    "\n",
    "X = df_selected.drop(['visitor'], axis=1)\n",
    "y = df_selected['visitor']\n",
    "\n",
    "min_degree = 2\n",
    "max_degree = 7\n",
    "min_k = 2\n",
    "max_k = 10\n",
    "\n",
    "best_degree, best_score, best_k = find_best_degree(X, y, min_degree, max_degree, min_k, max_k)\n",
    "\n",
    "print(f\"Best degree: {best_degree}\")\n",
    "print(f\"Best score: {best_score}\")\n",
    "print(f\"Best k: {best_k}\")"
   ],
   "metadata": {
    "collapsed": false
   }
  },
  {
   "cell_type": "code",
   "execution_count": null,
   "outputs": [],
   "source": [],
   "metadata": {
    "collapsed": false
   }
  }
 ],
 "metadata": {
  "kernelspec": {
   "display_name": "Python 3",
   "language": "python",
   "name": "python3"
  },
  "language_info": {
   "codemirror_mode": {
    "name": "ipython",
    "version": 2
   },
   "file_extension": ".py",
   "mimetype": "text/x-python",
   "name": "python",
   "nbconvert_exporter": "python",
   "pygments_lexer": "ipython2",
   "version": "2.7.6"
  }
 },
 "nbformat": 4,
 "nbformat_minor": 0
}
